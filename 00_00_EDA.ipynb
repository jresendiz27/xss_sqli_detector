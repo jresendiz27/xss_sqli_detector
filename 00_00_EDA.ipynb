{
 "cells": [
  {
   "metadata": {},
   "cell_type": "markdown",
   "source": [
    "# XSS-SQLi datasources\n",
    "\n",
    "## Downloading, standardizing and condensing datasources for XSS and SQLinjection"
   ],
   "id": "962d4cc9dd8c8264"
  },
  {
   "metadata": {
    "ExecuteTime": {
     "end_time": "2025-09-10T03:08:29.077892Z",
     "start_time": "2025-09-10T03:08:29.034977Z"
    }
   },
   "cell_type": "code",
   "source": [
    "import csv\n",
    "\n",
    "import pandas as pd\n",
    "import requests"
   ],
   "id": "3933885867c3d765",
   "outputs": [],
   "execution_count": 1
  },
  {
   "metadata": {
    "ExecuteTime": {
     "end_time": "2025-09-07T18:10:42.121118Z",
     "start_time": "2025-09-07T18:10:42.117282Z"
    }
   },
   "cell_type": "code",
   "source": [
    "## DataSources:\n",
    "# https://github.com/fmereani/Cross-Site-Scripting-XSS\n",
    "# https://www.kaggle.com/datasets/syedsaqlainhussain/cross-site-scripting-xss-dataset-for-deep-learning?select=XSS_dataset.csv\n",
    "# https://huggingface.co/datasets/shengqin/web-attacks/\n",
    "# https://huggingface.co/datasets/shengqin/web-attacks-ab2\n",
    "# https://www.kaggle.com/datasets/gambleryu/biggest-sql-injection-dataset\n",
    "# https://www.kaggle.com/datasets/sajid576/sql-injection-dataset\n",
    "# https://github.com/payloadbox/xss-payload-list/blob/master/Intruder/xss-payload-list.txt\n",
    "# https://www.kaggle.com/datasets/alextrinity/sqli-xss-dataset/data\n",
    "\n",
    "# Useful Papers:\n",
    "# https://inria.hal.science/hal-03273564/document\n",
    "# https://www.diva-portal.org/smash/get/diva2:1883365/FULLTEXT01.pdf\n",
    "# https://medium.com/@madhubleh/detection-of-cross-site-scripting-xss-attacks-with-cnn-4633b4873480\n",
    "# https://pmc.ncbi.nlm.nih.gov/articles/PMC9252680/\n",
    "# https://arxiv.org/pdf/2509.01835\n",
    "\n",
    "# Useful Resources\n",
    "# https://www.yeswehack.com/learn-bug-bounty/xss-attacks-exploitation-ultimate-guide\n",
    "# https://github.com/Sivnerof/Sources-And-Sinks-Cheatsheet\n",
    "# For reading https://www.kaggle.com/code/shashikiran42/data-read-process the https://www.kaggle.com/datasets/shashikiran42/cookie-security-and-vulnerabilities-dataset-cisc/data"
   ],
   "id": "a246e37fbf959057",
   "outputs": [],
   "execution_count": 2
  },
  {
   "metadata": {
    "ExecuteTime": {
     "end_time": "2025-09-10T01:09:45.424513Z",
     "start_time": "2025-09-10T01:09:45.225660Z"
    }
   },
   "cell_type": "code",
   "source": [
    "text_payload = requests.get(\n",
    "    \"https://raw.githubusercontent.com/payloadbox/xss-payload-list/refs/heads/master/Intruder/xss-payload-list.txt\").content\n",
    "\n",
    "# automatically create the dataset as we expect it to be\n",
    "with open(\"datasets/raw/xss_payload_list_payloadbox.csv\", \"w\", newline='') as file:\n",
    "    writer = csv.writer(file)\n",
    "    fieldnames = [\"payload\", \"label\", \"type\", \"attack_label\"]\n",
    "    writer = csv.DictWriter(file, fieldnames=fieldnames)\n",
    "    writer.writeheader()\n",
    "    for payload in text_payload.decode(\"utf-8\").splitlines():\n",
    "        writer.writerow({'payload': payload, \"label\": 1, \"type\": \"Malicious\", \"attack_label\": \"XSS\"})\n"
   ],
   "id": "653a4b12a506bd87",
   "outputs": [],
   "execution_count": 38
  },
  {
   "metadata": {
    "ExecuteTime": {
     "end_time": "2025-09-06T23:19:04.839832Z",
     "start_time": "2025-09-06T23:19:04.062472Z"
    }
   },
   "cell_type": "code",
   "source": [
    "# download fmereani dataset\n",
    "raw_payload = requests.get(\n",
    "    \"https://raw.githubusercontent.com/fmereani/Cross-Site-Scripting-XSS/refs/heads/master/XSSDataSets/Payloads.csv\").text\n",
    "with open(\"datasets/raw/fmereani_xss_dataset_payload.csv\", 'w') as f:\n",
    "    f.write(raw_payload)"
   ],
   "id": "8593fdcba4b47248",
   "outputs": [],
   "execution_count": 12
  },
  {
   "metadata": {
    "ExecuteTime": {
     "end_time": "2025-09-06T23:39:13.021743Z",
     "start_time": "2025-09-06T23:39:11.442027Z"
    }
   },
   "cell_type": "code",
   "source": [
    "# huggingface shengqin dataset\n",
    "splits = {'train': 'train.csv', 'test': 'test.csv'}\n",
    "df = pd.read_csv(\"hf://datasets/shengqin/web-attacks-ab2/\" + splits[\"train\"])\n",
    "df.to_csv(\"datasets/raw/shengqin_web_attacks_ab2_train.csv\", index=False)\n",
    "# huggingface shenqin datase test\n",
    "df = pd.read_csv(\"hf://datasets/shengqin/web-attacks-ab2/\" + splits[\"test\"])\n",
    "df.to_csv(\"datasets/raw/shengqin_web_attacks_ab2_test.csv\", index=False)"
   ],
   "id": "b3ab63dd60d8f428",
   "outputs": [],
   "execution_count": 33
  },
  {
   "metadata": {
    "ExecuteTime": {
     "end_time": "2025-09-07T18:12:40.249219Z",
     "start_time": "2025-09-07T18:12:39.135643Z"
    }
   },
   "cell_type": "code",
   "source": [
    "# huggingface shengqin web-attacks dataset train\n",
    "splits = {'train': 'train.csv', 'test': 'test.csv'}\n",
    "df = pd.read_csv(\"hf://datasets/shengqin/web-attacks/\" + splits[\"train\"])\n",
    "df.to_csv(\"datasets/raw/shengqin_web_attacks_train.csv\", index=False)\n",
    "\n",
    "df = pd.read_csv(\"hf://datasets/shengqin/web-attacks/\" + splits[\"test\"])\n",
    "df.to_csv(\"datasets/raw/shengqin_web_attacks_test.csv\", index=False)"
   ],
   "id": "d825b051aaaa3ec2",
   "outputs": [
    {
     "name": "stderr",
     "output_type": "stream",
     "text": [
      "/home/jresendiz/Documents/xss_sqli_detector/.venv/lib/python3.12/site-packages/tqdm/auto.py:21: TqdmWarning: IProgress not found. Please update jupyter and ipywidgets. See https://ipywidgets.readthedocs.io/en/stable/user_install.html\n",
      "  from .autonotebook import tqdm as notebook_tqdm\n"
     ]
    }
   ],
   "execution_count": 5
  },
  {
   "metadata": {
    "ExecuteTime": {
     "end_time": "2025-09-10T03:08:34.985157Z",
     "start_time": "2025-09-10T03:08:33.442708Z"
    }
   },
   "cell_type": "code",
   "source": [
    "# Load downloaded raw datasets\n",
    "df_fmereani = pd.read_csv(\"datasets/raw/fmereani_xss_dataset_payload.csv\")\n",
    "df_xss_kaggle = pd.read_csv(\"datasets/raw/XSS_dataset.csv\")\n",
    "\n",
    "df_shengqin_ab2 = pd.read_csv(\"datasets/raw/shengqin_web_attacks_ab2_train.csv\")\n",
    "df_shengqin_ab2_test = pd.read_csv(\"datasets/raw/shengqin_web_attacks_ab2_test.csv\")\n",
    "df_shengqin_ab2 = pd.concat([df_shengqin_ab2, df_shengqin_ab2_test], ignore_index=True)\n",
    "\n",
    "df_shengqin_web = pd.read_csv(\"datasets/raw/shengqin_web_attacks_train.csv\")\n",
    "df_shengqin_web_test = pd.read_csv(\"datasets/raw/shengqin_web_attacks_test.csv\")\n",
    "df_shengqin_web = pd.concat([df_shengqin_web, df_shengqin_web_test], ignore_index=True)\n",
    "\n",
    "df_payloadbox_xss = pd.read_csv(\"datasets/raw/xss_payload_list_payloadbox.csv\")\n",
    "df_alextrinity = pd.read_csv(\"datasets/raw/alextrinity_xss_sqli_dataset.csv\")"
   ],
   "id": "d5341490305e7032",
   "outputs": [],
   "execution_count": 2
  },
  {
   "metadata": {
    "ExecuteTime": {
     "end_time": "2025-09-10T01:59:31.551151Z",
     "start_time": "2025-09-10T01:59:31.540509Z"
    }
   },
   "cell_type": "code",
   "source": "df_fmereani.sample(5)",
   "id": "506b5fbd3431f67e",
   "outputs": [
    {
     "data": {
      "text/plain": [
       "                                                Payloads      Class\n",
       "14318  http://localhost:8080/tienda1/publico/pagar.js...     Benign\n",
       "36148  awesome location-great staff-good value first ...     Benign\n",
       "3343   http://www.the-morph.co.uk/gallery/igallery.as...  Malicious\n",
       "15176  http://www.wikihow.com/appreciate-robert-patti...     Benign\n",
       "33304  http://www.wikihow.com/accept-a-trade-on-anima...     Benign"
      ],
      "text/html": [
       "<div>\n",
       "<style scoped>\n",
       "    .dataframe tbody tr th:only-of-type {\n",
       "        vertical-align: middle;\n",
       "    }\n",
       "\n",
       "    .dataframe tbody tr th {\n",
       "        vertical-align: top;\n",
       "    }\n",
       "\n",
       "    .dataframe thead th {\n",
       "        text-align: right;\n",
       "    }\n",
       "</style>\n",
       "<table border=\"1\" class=\"dataframe\">\n",
       "  <thead>\n",
       "    <tr style=\"text-align: right;\">\n",
       "      <th></th>\n",
       "      <th>Payloads</th>\n",
       "      <th>Class</th>\n",
       "    </tr>\n",
       "  </thead>\n",
       "  <tbody>\n",
       "    <tr>\n",
       "      <th>14318</th>\n",
       "      <td>http://localhost:8080/tienda1/publico/pagar.js...</td>\n",
       "      <td>Benign</td>\n",
       "    </tr>\n",
       "    <tr>\n",
       "      <th>36148</th>\n",
       "      <td>awesome location-great staff-good value first ...</td>\n",
       "      <td>Benign</td>\n",
       "    </tr>\n",
       "    <tr>\n",
       "      <th>3343</th>\n",
       "      <td>http://www.the-morph.co.uk/gallery/igallery.as...</td>\n",
       "      <td>Malicious</td>\n",
       "    </tr>\n",
       "    <tr>\n",
       "      <th>15176</th>\n",
       "      <td>http://www.wikihow.com/appreciate-robert-patti...</td>\n",
       "      <td>Benign</td>\n",
       "    </tr>\n",
       "    <tr>\n",
       "      <th>33304</th>\n",
       "      <td>http://www.wikihow.com/accept-a-trade-on-anima...</td>\n",
       "      <td>Benign</td>\n",
       "    </tr>\n",
       "  </tbody>\n",
       "</table>\n",
       "</div>"
      ]
     },
     "execution_count": 3,
     "metadata": {},
     "output_type": "execute_result"
    }
   ],
   "execution_count": 3
  },
  {
   "metadata": {
    "ExecuteTime": {
     "end_time": "2025-09-10T01:59:33.708915Z",
     "start_time": "2025-09-10T01:59:33.701761Z"
    }
   },
   "cell_type": "code",
   "source": "df_xss_kaggle.sample(5)",
   "id": "41194a3b07c0387",
   "outputs": [
    {
     "data": {
      "text/plain": [
       "       Unnamed: 0                                           Sentence  Label\n",
       "4864         4864            <font ondblclick=\"alert(1)\">test</font>      1\n",
       "11790       11790  <li class=\"toctree-l1\"><a class=\"reference int...      0\n",
       "10457       10457     <section onmousemove=\"alert(1)\">test</section>      1\n",
       "7560         7560                                              </li>      0\n",
       "4657         4657  <meter onbeforecut=\"alert(1)\" contenteditable>...      1"
      ],
      "text/html": [
       "<div>\n",
       "<style scoped>\n",
       "    .dataframe tbody tr th:only-of-type {\n",
       "        vertical-align: middle;\n",
       "    }\n",
       "\n",
       "    .dataframe tbody tr th {\n",
       "        vertical-align: top;\n",
       "    }\n",
       "\n",
       "    .dataframe thead th {\n",
       "        text-align: right;\n",
       "    }\n",
       "</style>\n",
       "<table border=\"1\" class=\"dataframe\">\n",
       "  <thead>\n",
       "    <tr style=\"text-align: right;\">\n",
       "      <th></th>\n",
       "      <th>Unnamed: 0</th>\n",
       "      <th>Sentence</th>\n",
       "      <th>Label</th>\n",
       "    </tr>\n",
       "  </thead>\n",
       "  <tbody>\n",
       "    <tr>\n",
       "      <th>4864</th>\n",
       "      <td>4864</td>\n",
       "      <td>&lt;font ondblclick=\"alert(1)\"&gt;test&lt;/font&gt;</td>\n",
       "      <td>1</td>\n",
       "    </tr>\n",
       "    <tr>\n",
       "      <th>11790</th>\n",
       "      <td>11790</td>\n",
       "      <td>&lt;li class=\"toctree-l1\"&gt;&lt;a class=\"reference int...</td>\n",
       "      <td>0</td>\n",
       "    </tr>\n",
       "    <tr>\n",
       "      <th>10457</th>\n",
       "      <td>10457</td>\n",
       "      <td>&lt;section onmousemove=\"alert(1)\"&gt;test&lt;/section&gt;</td>\n",
       "      <td>1</td>\n",
       "    </tr>\n",
       "    <tr>\n",
       "      <th>7560</th>\n",
       "      <td>7560</td>\n",
       "      <td>&lt;/li&gt;</td>\n",
       "      <td>0</td>\n",
       "    </tr>\n",
       "    <tr>\n",
       "      <th>4657</th>\n",
       "      <td>4657</td>\n",
       "      <td>&lt;meter onbeforecut=\"alert(1)\" contenteditable&gt;...</td>\n",
       "      <td>1</td>\n",
       "    </tr>\n",
       "  </tbody>\n",
       "</table>\n",
       "</div>"
      ]
     },
     "execution_count": 4,
     "metadata": {},
     "output_type": "execute_result"
    }
   ],
   "execution_count": 4
  },
  {
   "metadata": {
    "ExecuteTime": {
     "end_time": "2025-09-10T01:59:34.716928Z",
     "start_time": "2025-09-10T01:59:34.708903Z"
    }
   },
   "cell_type": "code",
   "source": "df_shengqin_ab2.sample(5)",
   "id": "11c382bc5cc0be09",
   "outputs": [
    {
     "data": {
      "text/plain": [
       "                                                 Payload  Label text_label  \\\n",
       "20643  \"1   )    )     )   and 8148  =  like  (  'abc...      1       SQLi   \n",
       "37625  ä½¿ã„å§‹ã‚ã¦ã‹ã‚‰7æ—¥ç›®ã§1æœ¬ç›®ãŒåå¿...      0     normal   \n",
       "19889  80k6g9 fil13vv9jljqaw gatp1q9gvqti8gk4mlvfufb3...      1       SQLi   \n",
       "21647  1\" where 6325 = 6325 union all select null,nul...      1       SQLi   \n",
       "12279  1\" and 9254 =  ( select count ( * )  from rdb$...      1       SQLi   \n",
       "\n",
       "          ID  \n",
       "20643  20644  \n",
       "37625  37626  \n",
       "19889  19890  \n",
       "21647  21648  \n",
       "12279  12280  "
      ],
      "text/html": [
       "<div>\n",
       "<style scoped>\n",
       "    .dataframe tbody tr th:only-of-type {\n",
       "        vertical-align: middle;\n",
       "    }\n",
       "\n",
       "    .dataframe tbody tr th {\n",
       "        vertical-align: top;\n",
       "    }\n",
       "\n",
       "    .dataframe thead th {\n",
       "        text-align: right;\n",
       "    }\n",
       "</style>\n",
       "<table border=\"1\" class=\"dataframe\">\n",
       "  <thead>\n",
       "    <tr style=\"text-align: right;\">\n",
       "      <th></th>\n",
       "      <th>Payload</th>\n",
       "      <th>Label</th>\n",
       "      <th>text_label</th>\n",
       "      <th>ID</th>\n",
       "    </tr>\n",
       "  </thead>\n",
       "  <tbody>\n",
       "    <tr>\n",
       "      <th>20643</th>\n",
       "      <td>\"1   )    )     )   and 8148  =  like  (  'abc...</td>\n",
       "      <td>1</td>\n",
       "      <td>SQLi</td>\n",
       "      <td>20644</td>\n",
       "    </tr>\n",
       "    <tr>\n",
       "      <th>37625</th>\n",
       "      <td>ä½¿ã„å§‹ã‚ã¦ã‹ã‚‰7æ—¥ç›®ã§1æœ¬ç›®ãŒåå¿...</td>\n",
       "      <td>0</td>\n",
       "      <td>normal</td>\n",
       "      <td>37626</td>\n",
       "    </tr>\n",
       "    <tr>\n",
       "      <th>19889</th>\n",
       "      <td>80k6g9 fil13vv9jljqaw gatp1q9gvqti8gk4mlvfufb3...</td>\n",
       "      <td>1</td>\n",
       "      <td>SQLi</td>\n",
       "      <td>19890</td>\n",
       "    </tr>\n",
       "    <tr>\n",
       "      <th>21647</th>\n",
       "      <td>1\" where 6325 = 6325 union all select null,nul...</td>\n",
       "      <td>1</td>\n",
       "      <td>SQLi</td>\n",
       "      <td>21648</td>\n",
       "    </tr>\n",
       "    <tr>\n",
       "      <th>12279</th>\n",
       "      <td>1\" and 9254 =  ( select count ( * )  from rdb$...</td>\n",
       "      <td>1</td>\n",
       "      <td>SQLi</td>\n",
       "      <td>12280</td>\n",
       "    </tr>\n",
       "  </tbody>\n",
       "</table>\n",
       "</div>"
      ]
     },
     "execution_count": 5,
     "metadata": {},
     "output_type": "execute_result"
    }
   ],
   "execution_count": 5
  },
  {
   "metadata": {
    "ExecuteTime": {
     "end_time": "2025-09-10T01:59:35.823830Z",
     "start_time": "2025-09-10T01:59:35.816650Z"
    }
   },
   "cell_type": "code",
   "source": "df_shengqin_web.sample(5)",
   "id": "25361630288795ee",
   "outputs": [
    {
     "data": {
      "text/plain": [
       "                                                 Payload  Label text_label  \\\n",
       "15244  <blockquote onmouseup=\"alert(1)\">test</blockqu...      1        XSS   \n",
       "9431   Up to 30% off select smart and electronic door...      0     normal   \n",
       "6237   <u draggable=\"true\" ondragleave=\"alert(1)\">tes...      1        XSS   \n",
       "10521  It Was Proposed By A Committee Of The British ...      0     normal   \n",
       "13383           `'><script>-javascript:alert(1)</script>      1        XSS   \n",
       "\n",
       "          ID  \n",
       "15244   5962  \n",
       "9431   25215  \n",
       "6237    5970  \n",
       "10521  25949  \n",
       "13383    573  "
      ],
      "text/html": [
       "<div>\n",
       "<style scoped>\n",
       "    .dataframe tbody tr th:only-of-type {\n",
       "        vertical-align: middle;\n",
       "    }\n",
       "\n",
       "    .dataframe tbody tr th {\n",
       "        vertical-align: top;\n",
       "    }\n",
       "\n",
       "    .dataframe thead th {\n",
       "        text-align: right;\n",
       "    }\n",
       "</style>\n",
       "<table border=\"1\" class=\"dataframe\">\n",
       "  <thead>\n",
       "    <tr style=\"text-align: right;\">\n",
       "      <th></th>\n",
       "      <th>Payload</th>\n",
       "      <th>Label</th>\n",
       "      <th>text_label</th>\n",
       "      <th>ID</th>\n",
       "    </tr>\n",
       "  </thead>\n",
       "  <tbody>\n",
       "    <tr>\n",
       "      <th>15244</th>\n",
       "      <td>&lt;blockquote onmouseup=\"alert(1)\"&gt;test&lt;/blockqu...</td>\n",
       "      <td>1</td>\n",
       "      <td>XSS</td>\n",
       "      <td>5962</td>\n",
       "    </tr>\n",
       "    <tr>\n",
       "      <th>9431</th>\n",
       "      <td>Up to 30% off select smart and electronic door...</td>\n",
       "      <td>0</td>\n",
       "      <td>normal</td>\n",
       "      <td>25215</td>\n",
       "    </tr>\n",
       "    <tr>\n",
       "      <th>6237</th>\n",
       "      <td>&lt;u draggable=\"true\" ondragleave=\"alert(1)\"&gt;tes...</td>\n",
       "      <td>1</td>\n",
       "      <td>XSS</td>\n",
       "      <td>5970</td>\n",
       "    </tr>\n",
       "    <tr>\n",
       "      <th>10521</th>\n",
       "      <td>It Was Proposed By A Committee Of The British ...</td>\n",
       "      <td>0</td>\n",
       "      <td>normal</td>\n",
       "      <td>25949</td>\n",
       "    </tr>\n",
       "    <tr>\n",
       "      <th>13383</th>\n",
       "      <td>`'&gt;&lt;script&gt;-javascript:alert(1)&lt;/script&gt;</td>\n",
       "      <td>1</td>\n",
       "      <td>XSS</td>\n",
       "      <td>573</td>\n",
       "    </tr>\n",
       "  </tbody>\n",
       "</table>\n",
       "</div>"
      ]
     },
     "execution_count": 6,
     "metadata": {},
     "output_type": "execute_result"
    }
   ],
   "execution_count": 6
  },
  {
   "metadata": {
    "ExecuteTime": {
     "end_time": "2025-09-10T01:59:37.579292Z",
     "start_time": "2025-09-10T01:59:37.572333Z"
    }
   },
   "cell_type": "code",
   "source": "df_payloadbox_xss.sample(5)",
   "id": "e27f84b6cc8e6688",
   "outputs": [
    {
     "data": {
      "text/plain": [
       "                                                payload  label       type  \\\n",
       "3730  <rp onkeydown=\"alert(1)\" contenteditable>test<...      1  Malicious   \n",
       "4987  <style>@keyframes x{from {left:0;}to {left: 10...      1  Malicious   \n",
       "2742  <link id=x tabindex=1 onbeforedeactivate=alert...      1  Malicious   \n",
       "4654  <style>:target {transform: rotate(180deg);}</s...      1  Malicious   \n",
       "6263                <iframe/onreadystatechange=alert(1)      1  Malicious   \n",
       "\n",
       "     attack_label  \n",
       "3730          XSS  \n",
       "4987          XSS  \n",
       "2742          XSS  \n",
       "4654          XSS  \n",
       "6263          XSS  "
      ],
      "text/html": [
       "<div>\n",
       "<style scoped>\n",
       "    .dataframe tbody tr th:only-of-type {\n",
       "        vertical-align: middle;\n",
       "    }\n",
       "\n",
       "    .dataframe tbody tr th {\n",
       "        vertical-align: top;\n",
       "    }\n",
       "\n",
       "    .dataframe thead th {\n",
       "        text-align: right;\n",
       "    }\n",
       "</style>\n",
       "<table border=\"1\" class=\"dataframe\">\n",
       "  <thead>\n",
       "    <tr style=\"text-align: right;\">\n",
       "      <th></th>\n",
       "      <th>payload</th>\n",
       "      <th>label</th>\n",
       "      <th>type</th>\n",
       "      <th>attack_label</th>\n",
       "    </tr>\n",
       "  </thead>\n",
       "  <tbody>\n",
       "    <tr>\n",
       "      <th>3730</th>\n",
       "      <td>&lt;rp onkeydown=\"alert(1)\" contenteditable&gt;test&lt;...</td>\n",
       "      <td>1</td>\n",
       "      <td>Malicious</td>\n",
       "      <td>XSS</td>\n",
       "    </tr>\n",
       "    <tr>\n",
       "      <th>4987</th>\n",
       "      <td>&lt;style&gt;@keyframes x{from {left:0;}to {left: 10...</td>\n",
       "      <td>1</td>\n",
       "      <td>Malicious</td>\n",
       "      <td>XSS</td>\n",
       "    </tr>\n",
       "    <tr>\n",
       "      <th>2742</th>\n",
       "      <td>&lt;link id=x tabindex=1 onbeforedeactivate=alert...</td>\n",
       "      <td>1</td>\n",
       "      <td>Malicious</td>\n",
       "      <td>XSS</td>\n",
       "    </tr>\n",
       "    <tr>\n",
       "      <th>4654</th>\n",
       "      <td>&lt;style&gt;:target {transform: rotate(180deg);}&lt;/s...</td>\n",
       "      <td>1</td>\n",
       "      <td>Malicious</td>\n",
       "      <td>XSS</td>\n",
       "    </tr>\n",
       "    <tr>\n",
       "      <th>6263</th>\n",
       "      <td>&lt;iframe/onreadystatechange=alert(1)</td>\n",
       "      <td>1</td>\n",
       "      <td>Malicious</td>\n",
       "      <td>XSS</td>\n",
       "    </tr>\n",
       "  </tbody>\n",
       "</table>\n",
       "</div>"
      ]
     },
     "execution_count": 7,
     "metadata": {},
     "output_type": "execute_result"
    }
   ],
   "execution_count": 7
  },
  {
   "metadata": {
    "ExecuteTime": {
     "end_time": "2025-09-10T01:59:39.105918Z",
     "start_time": "2025-09-10T01:59:39.092499Z"
    }
   },
   "cell_type": "code",
   "source": "df_alextrinity.sample(5)",
   "id": "e07808968e828fa4",
   "outputs": [
    {
     "data": {
      "text/plain": [
       "                                                 Sentence  SQLInjection  XSS  \\\n",
       "75506   The plot of 'Edison' was decent, but one actor...           0.0  0.0   \n",
       "172273  TMTWr580weBOp8AcmJ8gPuiRAbNyzrfIYXnSJ0 NbcndlF...           0.0  0.0   \n",
       "145860  action=search&uri=%2Findex.html&__locale=en&qu...           0.0  1.0   \n",
       "195007  Have you ever sat watching a movie when 20 or ...           0.0  0.0   \n",
       "174156  HDOxb8HjJo1e44EC5Obl4swbqX7Onsdt5BH9CMCAk  ZJa...           0.0  0.0   \n",
       "\n",
       "        CommandInjection  Normal  \n",
       "75506                0.0     1.0  \n",
       "172273               1.0     0.0  \n",
       "145860               0.0     0.0  \n",
       "195007               1.0     0.0  \n",
       "174156               1.0     0.0  "
      ],
      "text/html": [
       "<div>\n",
       "<style scoped>\n",
       "    .dataframe tbody tr th:only-of-type {\n",
       "        vertical-align: middle;\n",
       "    }\n",
       "\n",
       "    .dataframe tbody tr th {\n",
       "        vertical-align: top;\n",
       "    }\n",
       "\n",
       "    .dataframe thead th {\n",
       "        text-align: right;\n",
       "    }\n",
       "</style>\n",
       "<table border=\"1\" class=\"dataframe\">\n",
       "  <thead>\n",
       "    <tr style=\"text-align: right;\">\n",
       "      <th></th>\n",
       "      <th>Sentence</th>\n",
       "      <th>SQLInjection</th>\n",
       "      <th>XSS</th>\n",
       "      <th>CommandInjection</th>\n",
       "      <th>Normal</th>\n",
       "    </tr>\n",
       "  </thead>\n",
       "  <tbody>\n",
       "    <tr>\n",
       "      <th>75506</th>\n",
       "      <td>The plot of 'Edison' was decent, but one actor...</td>\n",
       "      <td>0.0</td>\n",
       "      <td>0.0</td>\n",
       "      <td>0.0</td>\n",
       "      <td>1.0</td>\n",
       "    </tr>\n",
       "    <tr>\n",
       "      <th>172273</th>\n",
       "      <td>TMTWr580weBOp8AcmJ8gPuiRAbNyzrfIYXnSJ0 NbcndlF...</td>\n",
       "      <td>0.0</td>\n",
       "      <td>0.0</td>\n",
       "      <td>1.0</td>\n",
       "      <td>0.0</td>\n",
       "    </tr>\n",
       "    <tr>\n",
       "      <th>145860</th>\n",
       "      <td>action=search&amp;uri=%2Findex.html&amp;__locale=en&amp;qu...</td>\n",
       "      <td>0.0</td>\n",
       "      <td>1.0</td>\n",
       "      <td>0.0</td>\n",
       "      <td>0.0</td>\n",
       "    </tr>\n",
       "    <tr>\n",
       "      <th>195007</th>\n",
       "      <td>Have you ever sat watching a movie when 20 or ...</td>\n",
       "      <td>0.0</td>\n",
       "      <td>0.0</td>\n",
       "      <td>1.0</td>\n",
       "      <td>0.0</td>\n",
       "    </tr>\n",
       "    <tr>\n",
       "      <th>174156</th>\n",
       "      <td>HDOxb8HjJo1e44EC5Obl4swbqX7Onsdt5BH9CMCAk  ZJa...</td>\n",
       "      <td>0.0</td>\n",
       "      <td>0.0</td>\n",
       "      <td>1.0</td>\n",
       "      <td>0.0</td>\n",
       "    </tr>\n",
       "  </tbody>\n",
       "</table>\n",
       "</div>"
      ]
     },
     "execution_count": 8,
     "metadata": {},
     "output_type": "execute_result"
    }
   ],
   "execution_count": 8
  },
  {
   "metadata": {
    "ExecuteTime": {
     "end_time": "2025-09-10T03:08:41.317436Z",
     "start_time": "2025-09-10T03:08:41.284227Z"
    }
   },
   "cell_type": "code",
   "source": [
    "# Merge Shengqin sources\n",
    "df_shengqin_merged = pd.concat([df_shengqin_ab2, df_shengqin_web], ignore_index=True)\n",
    "df_shengqin_merged.rename(columns={\"text_label\": \"attack_label\", \"Payload\": 'payload', \"Label\": 'label'}, inplace=True)\n",
    "df_shengqin_merged.drop(columns=[\"ID\"], inplace=True, errors=\"ignore\")\n",
    "df_shengqin_merged[\"type\"] = df_shengqin_merged[\"attack_label\"].map(\n",
    "    {'SQLi': \"Malicious\", \"XSS\": \"Malicious\", \"normal\": \"Benign\"})\n",
    "df_shengqin_merged.sample(5)"
   ],
   "id": "16bb834e09000a3c",
   "outputs": [
    {
     "data": {
      "text/plain": [
       "                                                 payload  label attack_label  \\\n",
       "4497   \"UNION SELECT @@VERSION,SLEEP(5),USER(),BENCHM...      1         SQLi   \n",
       "44395                                     sick,sick,sick      0       normal   \n",
       "72154   -4684 ) as uqjn where 4550 = 4550 or 1689 = 5825      2         SQLi   \n",
       "52470  1%'  )  )   and char ( 120 ) ||char ( 106 ) ||...      1         SQLi   \n",
       "83854  <style>@keyframes x{}</style><col style=\"anima...      1          XSS   \n",
       "\n",
       "            type  \n",
       "4497   Malicious  \n",
       "44395     Benign  \n",
       "72154  Malicious  \n",
       "52470  Malicious  \n",
       "83854  Malicious  "
      ],
      "text/html": [
       "<div>\n",
       "<style scoped>\n",
       "    .dataframe tbody tr th:only-of-type {\n",
       "        vertical-align: middle;\n",
       "    }\n",
       "\n",
       "    .dataframe tbody tr th {\n",
       "        vertical-align: top;\n",
       "    }\n",
       "\n",
       "    .dataframe thead th {\n",
       "        text-align: right;\n",
       "    }\n",
       "</style>\n",
       "<table border=\"1\" class=\"dataframe\">\n",
       "  <thead>\n",
       "    <tr style=\"text-align: right;\">\n",
       "      <th></th>\n",
       "      <th>payload</th>\n",
       "      <th>label</th>\n",
       "      <th>attack_label</th>\n",
       "      <th>type</th>\n",
       "    </tr>\n",
       "  </thead>\n",
       "  <tbody>\n",
       "    <tr>\n",
       "      <th>4497</th>\n",
       "      <td>\"UNION SELECT @@VERSION,SLEEP(5),USER(),BENCHM...</td>\n",
       "      <td>1</td>\n",
       "      <td>SQLi</td>\n",
       "      <td>Malicious</td>\n",
       "    </tr>\n",
       "    <tr>\n",
       "      <th>44395</th>\n",
       "      <td>sick,sick,sick</td>\n",
       "      <td>0</td>\n",
       "      <td>normal</td>\n",
       "      <td>Benign</td>\n",
       "    </tr>\n",
       "    <tr>\n",
       "      <th>72154</th>\n",
       "      <td>-4684 ) as uqjn where 4550 = 4550 or 1689 = 5825</td>\n",
       "      <td>2</td>\n",
       "      <td>SQLi</td>\n",
       "      <td>Malicious</td>\n",
       "    </tr>\n",
       "    <tr>\n",
       "      <th>52470</th>\n",
       "      <td>1%'  )  )   and char ( 120 ) ||char ( 106 ) ||...</td>\n",
       "      <td>1</td>\n",
       "      <td>SQLi</td>\n",
       "      <td>Malicious</td>\n",
       "    </tr>\n",
       "    <tr>\n",
       "      <th>83854</th>\n",
       "      <td>&lt;style&gt;@keyframes x{}&lt;/style&gt;&lt;col style=\"anima...</td>\n",
       "      <td>1</td>\n",
       "      <td>XSS</td>\n",
       "      <td>Malicious</td>\n",
       "    </tr>\n",
       "  </tbody>\n",
       "</table>\n",
       "</div>"
      ]
     },
     "execution_count": 3,
     "metadata": {},
     "output_type": "execute_result"
    }
   ],
   "execution_count": 3
  },
  {
   "metadata": {
    "ExecuteTime": {
     "end_time": "2025-09-10T03:08:44.282196Z",
     "start_time": "2025-09-10T03:08:44.273695Z"
    }
   },
   "cell_type": "code",
   "source": [
    "# Adapt Kaggle datasource\n",
    "df_xss_kaggle[\"type\"] = df_xss_kaggle['Label'].map({0: \"Benign\", 1: \"Malicious\"})\n",
    "df_xss_kaggle[\"attack_label\"] = df_xss_kaggle['Label'].map({0: \"normal\", 1: 'XSS'})\n",
    "df_xss_kaggle.drop([\"Unnamed: 0\"], axis=1, inplace=True, errors=\"ignore\")\n",
    "df_xss_kaggle.rename(columns={\"Sentence\": \"payload\", \"Label\": \"label\"}, inplace=True)"
   ],
   "id": "a96cac00e011be4e",
   "outputs": [],
   "execution_count": 4
  },
  {
   "metadata": {
    "ExecuteTime": {
     "end_time": "2025-09-10T01:59:44.511996Z",
     "start_time": "2025-09-10T01:59:44.504146Z"
    }
   },
   "cell_type": "code",
   "source": "df_xss_kaggle.sample(5)",
   "id": "e18e550a5db51a",
   "outputs": [
    {
     "data": {
      "text/plain": [
       "                                                 payload  label       type  \\\n",
       "2064            \\t </span> <span class=\"reference-text\">      0     Benign   \n",
       "1001   <dir draggable=\"true\" ondragend=\"alert(1)\">tes...      1  Malicious   \n",
       "11425   <font id=x tabindex=1 onfocusin=alert(1)></font>      1  Malicious   \n",
       "5668                                    \\t </span> </li>      0     Benign   \n",
       "12978   <textarea onmouseover=\"alert(1)\">test</textarea>      1  Malicious   \n",
       "\n",
       "      attack_label  \n",
       "2064        normal  \n",
       "1001           XSS  \n",
       "11425          XSS  \n",
       "5668        normal  \n",
       "12978          XSS  "
      ],
      "text/html": [
       "<div>\n",
       "<style scoped>\n",
       "    .dataframe tbody tr th:only-of-type {\n",
       "        vertical-align: middle;\n",
       "    }\n",
       "\n",
       "    .dataframe tbody tr th {\n",
       "        vertical-align: top;\n",
       "    }\n",
       "\n",
       "    .dataframe thead th {\n",
       "        text-align: right;\n",
       "    }\n",
       "</style>\n",
       "<table border=\"1\" class=\"dataframe\">\n",
       "  <thead>\n",
       "    <tr style=\"text-align: right;\">\n",
       "      <th></th>\n",
       "      <th>payload</th>\n",
       "      <th>label</th>\n",
       "      <th>type</th>\n",
       "      <th>attack_label</th>\n",
       "    </tr>\n",
       "  </thead>\n",
       "  <tbody>\n",
       "    <tr>\n",
       "      <th>2064</th>\n",
       "      <td>\\t &lt;/span&gt; &lt;span class=\"reference-text\"&gt;</td>\n",
       "      <td>0</td>\n",
       "      <td>Benign</td>\n",
       "      <td>normal</td>\n",
       "    </tr>\n",
       "    <tr>\n",
       "      <th>1001</th>\n",
       "      <td>&lt;dir draggable=\"true\" ondragend=\"alert(1)\"&gt;tes...</td>\n",
       "      <td>1</td>\n",
       "      <td>Malicious</td>\n",
       "      <td>XSS</td>\n",
       "    </tr>\n",
       "    <tr>\n",
       "      <th>11425</th>\n",
       "      <td>&lt;font id=x tabindex=1 onfocusin=alert(1)&gt;&lt;/font&gt;</td>\n",
       "      <td>1</td>\n",
       "      <td>Malicious</td>\n",
       "      <td>XSS</td>\n",
       "    </tr>\n",
       "    <tr>\n",
       "      <th>5668</th>\n",
       "      <td>\\t &lt;/span&gt; &lt;/li&gt;</td>\n",
       "      <td>0</td>\n",
       "      <td>Benign</td>\n",
       "      <td>normal</td>\n",
       "    </tr>\n",
       "    <tr>\n",
       "      <th>12978</th>\n",
       "      <td>&lt;textarea onmouseover=\"alert(1)\"&gt;test&lt;/textarea&gt;</td>\n",
       "      <td>1</td>\n",
       "      <td>Malicious</td>\n",
       "      <td>XSS</td>\n",
       "    </tr>\n",
       "  </tbody>\n",
       "</table>\n",
       "</div>"
      ]
     },
     "execution_count": 11,
     "metadata": {},
     "output_type": "execute_result"
    }
   ],
   "execution_count": 11
  },
  {
   "metadata": {
    "ExecuteTime": {
     "end_time": "2025-09-10T03:08:48.958960Z",
     "start_time": "2025-09-10T03:08:48.932679Z"
    }
   },
   "cell_type": "code",
   "source": [
    "# merge shengqin with kaggle\n",
    "df_shengqin_kaggle_merged = pd.concat([df_shengqin_merged, df_xss_kaggle], ignore_index=True)\n",
    "df_shengqin_kaggle_merged.info()"
   ],
   "id": "e5b8b02663fb3e3d",
   "outputs": [
    {
     "name": "stdout",
     "output_type": "stream",
     "text": [
      "<class 'pandas.core.frame.DataFrame'>\n",
      "RangeIndex: 99777 entries, 0 to 99776\n",
      "Data columns (total 4 columns):\n",
      " #   Column        Non-Null Count  Dtype \n",
      "---  ------        --------------  ----- \n",
      " 0   payload       99751 non-null  object\n",
      " 1   label         99777 non-null  int64 \n",
      " 2   attack_label  99777 non-null  object\n",
      " 3   type          99777 non-null  object\n",
      "dtypes: int64(1), object(3)\n",
      "memory usage: 3.0+ MB\n"
     ]
    }
   ],
   "execution_count": 5
  },
  {
   "metadata": {
    "ExecuteTime": {
     "end_time": "2025-09-10T03:08:51.153239Z",
     "start_time": "2025-09-10T03:08:51.138848Z"
    }
   },
   "cell_type": "code",
   "source": [
    "# Adapt fmereani dataset\n",
    "df_fmereani.rename(columns={\"Class\": \"type\", 'Payloads': 'payload'}, inplace=True)\n",
    "df_fmereani['attack_label'] = df_fmereani['type'].map({\"Benign\": \"normal\", \"Malicious\": 'XSS'})\n",
    "df_fmereani['label'] = df_fmereani['attack_label'].map({'normal': 0, 'XSS': 1})\n",
    "df_fmereani.sample(5)"
   ],
   "id": "33d76b947cf9754e",
   "outputs": [
    {
     "data": {
      "text/plain": [
       "                                                 payload       type  \\\n",
       "27892  http://localhost:8080/tienda1/publico/registro...     Benign   \n",
       "32268  http://www.wikihow.com/add-rss-and-web-feeds-t...     Benign   \n",
       "14617  http://www.wikihow.com/deal-with-widespread-un...     Benign   \n",
       "9413   http://www.ct.gov/ctportal/taxonomy/ct_taxonom...  Malicious   \n",
       "1717   http://www.stats.gov.cn/was40/reldetail.jsp?do...  Malicious   \n",
       "\n",
       "      attack_label  label  \n",
       "27892       normal      0  \n",
       "32268       normal      0  \n",
       "14617       normal      0  \n",
       "9413           XSS      1  \n",
       "1717           XSS      1  "
      ],
      "text/html": [
       "<div>\n",
       "<style scoped>\n",
       "    .dataframe tbody tr th:only-of-type {\n",
       "        vertical-align: middle;\n",
       "    }\n",
       "\n",
       "    .dataframe tbody tr th {\n",
       "        vertical-align: top;\n",
       "    }\n",
       "\n",
       "    .dataframe thead th {\n",
       "        text-align: right;\n",
       "    }\n",
       "</style>\n",
       "<table border=\"1\" class=\"dataframe\">\n",
       "  <thead>\n",
       "    <tr style=\"text-align: right;\">\n",
       "      <th></th>\n",
       "      <th>payload</th>\n",
       "      <th>type</th>\n",
       "      <th>attack_label</th>\n",
       "      <th>label</th>\n",
       "    </tr>\n",
       "  </thead>\n",
       "  <tbody>\n",
       "    <tr>\n",
       "      <th>27892</th>\n",
       "      <td>http://localhost:8080/tienda1/publico/registro...</td>\n",
       "      <td>Benign</td>\n",
       "      <td>normal</td>\n",
       "      <td>0</td>\n",
       "    </tr>\n",
       "    <tr>\n",
       "      <th>32268</th>\n",
       "      <td>http://www.wikihow.com/add-rss-and-web-feeds-t...</td>\n",
       "      <td>Benign</td>\n",
       "      <td>normal</td>\n",
       "      <td>0</td>\n",
       "    </tr>\n",
       "    <tr>\n",
       "      <th>14617</th>\n",
       "      <td>http://www.wikihow.com/deal-with-widespread-un...</td>\n",
       "      <td>Benign</td>\n",
       "      <td>normal</td>\n",
       "      <td>0</td>\n",
       "    </tr>\n",
       "    <tr>\n",
       "      <th>9413</th>\n",
       "      <td>http://www.ct.gov/ctportal/taxonomy/ct_taxonom...</td>\n",
       "      <td>Malicious</td>\n",
       "      <td>XSS</td>\n",
       "      <td>1</td>\n",
       "    </tr>\n",
       "    <tr>\n",
       "      <th>1717</th>\n",
       "      <td>http://www.stats.gov.cn/was40/reldetail.jsp?do...</td>\n",
       "      <td>Malicious</td>\n",
       "      <td>XSS</td>\n",
       "      <td>1</td>\n",
       "    </tr>\n",
       "  </tbody>\n",
       "</table>\n",
       "</div>"
      ]
     },
     "execution_count": 6,
     "metadata": {},
     "output_type": "execute_result"
    }
   ],
   "execution_count": 6
  },
  {
   "metadata": {
    "ExecuteTime": {
     "end_time": "2025-09-10T03:08:54.356709Z",
     "start_time": "2025-09-10T03:08:54.321020Z"
    }
   },
   "cell_type": "code",
   "source": [
    "# Merge shengqin, kaggle and fmereani datasets\n",
    "df_fmereani_shengqin_kaggle_merged = pd.concat([df_shengqin_kaggle_merged, df_fmereani], ignore_index=True)\n",
    "df_fmereani_shengqin_kaggle_merged.info()"
   ],
   "id": "63581506d186276",
   "outputs": [
    {
     "name": "stdout",
     "output_type": "stream",
     "text": [
      "<class 'pandas.core.frame.DataFrame'>\n",
      "RangeIndex: 142994 entries, 0 to 142993\n",
      "Data columns (total 4 columns):\n",
      " #   Column        Non-Null Count   Dtype \n",
      "---  ------        --------------   ----- \n",
      " 0   payload       142968 non-null  object\n",
      " 1   label         142994 non-null  int64 \n",
      " 2   attack_label  142994 non-null  object\n",
      " 3   type          142994 non-null  object\n",
      "dtypes: int64(1), object(3)\n",
      "memory usage: 4.4+ MB\n"
     ]
    }
   ],
   "execution_count": 7
  },
  {
   "metadata": {
    "ExecuteTime": {
     "end_time": "2025-09-10T03:08:59.961778Z",
     "start_time": "2025-09-10T03:08:59.926853Z"
    }
   },
   "cell_type": "code",
   "source": [
    "# Merge shengqin, kaggle, fmereani and payloadbox datasets\n",
    "df_fmereani_shengqin_kaggle_payloadbox_merged = pd.concat([df_fmereani_shengqin_kaggle_merged, df_payloadbox_xss],\n",
    "                                                          ignore_index=True)\n",
    "df_fmereani_shengqin_kaggle_payloadbox_merged.info()"
   ],
   "id": "f2a5fc99d1c678d7",
   "outputs": [
    {
     "name": "stdout",
     "output_type": "stream",
     "text": [
      "<class 'pandas.core.frame.DataFrame'>\n",
      "RangeIndex: 149607 entries, 0 to 149606\n",
      "Data columns (total 4 columns):\n",
      " #   Column        Non-Null Count   Dtype \n",
      "---  ------        --------------   ----- \n",
      " 0   payload       149581 non-null  object\n",
      " 1   label         149607 non-null  int64 \n",
      " 2   attack_label  149607 non-null  object\n",
      " 3   type          149607 non-null  object\n",
      "dtypes: int64(1), object(3)\n",
      "memory usage: 4.6+ MB\n"
     ]
    }
   ],
   "execution_count": 8
  },
  {
   "metadata": {
    "ExecuteTime": {
     "end_time": "2025-09-10T03:09:16.100817Z",
     "start_time": "2025-09-10T03:09:16.083501Z"
    }
   },
   "cell_type": "code",
   "source": "df_fmereani_shengqin_kaggle_payloadbox_merged['attack_label'].value_counts()",
   "id": "35800153250779f3",
   "outputs": [
    {
     "data": {
      "text/plain": [
       "attack_label\n",
       "normal    75268\n",
       "XSS       40398\n",
       "SQLi      33941\n",
       "Name: count, dtype: int64"
      ]
     },
     "execution_count": 9,
     "metadata": {},
     "output_type": "execute_result"
    }
   ],
   "execution_count": 9
  },
  {
   "metadata": {
    "ExecuteTime": {
     "end_time": "2025-09-10T03:09:21.969579Z",
     "start_time": "2025-09-10T03:09:21.846707Z"
    }
   },
   "cell_type": "code",
   "source": [
    "# Standardizing alex trinity dataset\n",
    "attack_labels = [\"normal\", \"XSS\", \"SQLi\"]\n",
    "type_labels = ['Benign', 'Malicious']\n",
    "\n",
    "df_alextrinity.rename(columns={\"SQLInjection\": \"SQLi\", 'Sentence': 'payload', 'Normal': 'normal'}, inplace=True)\n",
    "# Removing all with Command Injection\n",
    "df_alextrinity = df_alextrinity.loc[~df_alextrinity['CommandInjection'].eq(1.0)].copy()\n",
    "# Assigning attack_label for XSS\n",
    "df_alextrinity[\"attack_label\"] = df_alextrinity[attack_labels].idxmax(axis=1).where(\n",
    "    df_alextrinity[attack_labels].any(axis=1), \"unknown\")\n",
    "\n",
    "df_alextrinity['label'] = df_alextrinity['attack_label'].map({'normal': 0, 'XSS': 1, 'SQLi': 2})\n",
    "\n",
    "df_alextrinity.loc[df_alextrinity[\"attack_label\"].eq(\"normal\"), \"type\"] = \"Benign\"\n",
    "df_alextrinity.loc[df_alextrinity[\"attack_label\"].isin([\"XSS\", \"SQLi\"]), \"type\"] = \"Malicious\"\n",
    "\n",
    "df_alextrinity.drop([\"SQLi\", \"XSS\", \"CommandInjection\", 'normal'], axis=1, inplace=True, errors=\"ignore\")\n",
    "df_alextrinity.info()"
   ],
   "id": "a1b9fc42d78a99be",
   "outputs": [
    {
     "name": "stdout",
     "output_type": "stream",
     "text": [
      "<class 'pandas.core.frame.DataFrame'>\n",
      "Index: 156636 entries, 0 to 156635\n",
      "Data columns (total 4 columns):\n",
      " #   Column        Non-Null Count   Dtype \n",
      "---  ------        --------------   ----- \n",
      " 0   payload       156636 non-null  object\n",
      " 1   attack_label  156636 non-null  object\n",
      " 2   label         156636 non-null  int64 \n",
      " 3   type          156636 non-null  object\n",
      "dtypes: int64(1), object(3)\n",
      "memory usage: 6.0+ MB\n"
     ]
    }
   ],
   "execution_count": 10
  },
  {
   "metadata": {
    "ExecuteTime": {
     "end_time": "2025-09-10T03:09:28.474557Z",
     "start_time": "2025-09-10T03:09:28.414190Z"
    }
   },
   "cell_type": "code",
   "source": [
    "df_fmereani_shengqin_kaggle_payloadbox_alextrinity_merged = pd.concat(\n",
    "    [df_fmereani_shengqin_kaggle_payloadbox_merged, df_alextrinity], ignore_index=True)\n",
    "df_fmereani_shengqin_kaggle_payloadbox_alextrinity_merged.info()"
   ],
   "id": "9590bed14935a524",
   "outputs": [
    {
     "name": "stdout",
     "output_type": "stream",
     "text": [
      "<class 'pandas.core.frame.DataFrame'>\n",
      "RangeIndex: 306243 entries, 0 to 306242\n",
      "Data columns (total 4 columns):\n",
      " #   Column        Non-Null Count   Dtype \n",
      "---  ------        --------------   ----- \n",
      " 0   payload       306217 non-null  object\n",
      " 1   label         306243 non-null  int64 \n",
      " 2   attack_label  306243 non-null  object\n",
      " 3   type          306243 non-null  object\n",
      "dtypes: int64(1), object(3)\n",
      "memory usage: 9.3+ MB\n"
     ]
    }
   ],
   "execution_count": 11
  },
  {
   "metadata": {
    "ExecuteTime": {
     "end_time": "2025-09-10T03:18:28.631828Z",
     "start_time": "2025-09-10T03:18:28.604997Z"
    }
   },
   "cell_type": "code",
   "source": "df_fmereani_shengqin_kaggle_payloadbox_alextrinity_merged['attack_label'].value_counts()",
   "id": "138d0df014dc4bc2",
   "outputs": [
    {
     "data": {
      "text/plain": [
       "attack_label\n",
       "normal    133789\n",
       "SQLi       91257\n",
       "XSS        81197\n",
       "Name: count, dtype: int64"
      ]
     },
     "execution_count": 23,
     "metadata": {},
     "output_type": "execute_result"
    }
   ],
   "execution_count": 23
  },
  {
   "metadata": {
    "ExecuteTime": {
     "end_time": "2025-09-10T03:14:07.300443Z",
     "start_time": "2025-09-10T03:14:07.268189Z"
    }
   },
   "cell_type": "code",
   "source": "df_condensed = df_fmereani_shengqin_kaggle_payloadbox_alextrinity_merged.copy()",
   "id": "14ed06c926aa8c81",
   "outputs": [],
   "execution_count": 18
  },
  {
   "metadata": {
    "ExecuteTime": {
     "end_time": "2025-09-10T03:14:27.512040Z",
     "start_time": "2025-09-10T03:14:27.455455Z"
    }
   },
   "cell_type": "code",
   "source": "df_condensed.info()",
   "id": "3d7042a106e5d616",
   "outputs": [
    {
     "name": "stdout",
     "output_type": "stream",
     "text": [
      "<class 'pandas.core.frame.DataFrame'>\n",
      "RangeIndex: 306243 entries, 0 to 306242\n",
      "Data columns (total 4 columns):\n",
      " #   Column        Non-Null Count   Dtype \n",
      "---  ------        --------------   ----- \n",
      " 0   payload       306217 non-null  object\n",
      " 1   label         306243 non-null  int64 \n",
      " 2   attack_label  306243 non-null  object\n",
      " 3   type          306243 non-null  object\n",
      "dtypes: int64(1), object(3)\n",
      "memory usage: 9.3+ MB\n"
     ]
    }
   ],
   "execution_count": 19
  },
  {
   "metadata": {
    "ExecuteTime": {
     "end_time": "2025-09-10T03:14:34.349245Z",
     "start_time": "2025-09-10T03:14:34.137427Z"
    }
   },
   "cell_type": "code",
   "source": [
    "# Remove duplicates!\n",
    "df_condensed = df_condensed.drop_duplicates().reset_index(drop=True)\n",
    "df_condensed.info()"
   ],
   "id": "178cb360e1a18298",
   "outputs": [
    {
     "name": "stdout",
     "output_type": "stream",
     "text": [
      "<class 'pandas.core.frame.DataFrame'>\n",
      "RangeIndex: 273705 entries, 0 to 273704\n",
      "Data columns (total 4 columns):\n",
      " #   Column        Non-Null Count   Dtype \n",
      "---  ------        --------------   ----- \n",
      " 0   payload       273704 non-null  object\n",
      " 1   label         273705 non-null  int64 \n",
      " 2   attack_label  273705 non-null  object\n",
      " 3   type          273705 non-null  object\n",
      "dtypes: int64(1), object(3)\n",
      "memory usage: 8.4+ MB\n"
     ]
    }
   ],
   "execution_count": 20
  },
  {
   "metadata": {
    "ExecuteTime": {
     "end_time": "2025-09-10T03:09:54.620827Z",
     "start_time": "2025-09-10T03:09:54.597808Z"
    }
   },
   "cell_type": "code",
   "source": "df_condensed['attack_label'].value_counts()",
   "id": "cb0659e2dbc267a3",
   "outputs": [
    {
     "data": {
      "text/plain": [
       "attack_label\n",
       "normal    121199\n",
       "SQLi       88569\n",
       "XSS        63635\n",
       "Name: count, dtype: int64"
      ]
     },
     "execution_count": 15,
     "metadata": {},
     "output_type": "execute_result"
    }
   ],
   "execution_count": 15
  },
  {
   "metadata": {
    "ExecuteTime": {
     "end_time": "2025-09-10T03:15:02.432106Z",
     "start_time": "2025-09-10T03:15:00.588039Z"
    }
   },
   "cell_type": "code",
   "source": "df_condensed.to_csv('datasets/raw/xss_sqli_condensed.csv', index=False)",
   "id": "132682dfb516e963",
   "outputs": [],
   "execution_count": 21
  },
  {
   "metadata": {
    "ExecuteTime": {
     "end_time": "2025-09-10T03:15:18.661167Z",
     "start_time": "2025-09-10T03:15:18.645120Z"
    }
   },
   "cell_type": "code",
   "source": "df_condensed.sample(15)",
   "id": "d7df329c04bb5fb4",
   "outputs": [
    {
     "data": {
      "text/plain": [
       "                                                  payload  label attack_label  \\\n",
       "221697  George Carlin is probably my favorite comedian...      0       normal   \n",
       "260845  sign=';alert(String.fromCharCode(88,<br/>83,83...      1          XSS   \n",
       "153614  _#%yh&^|c%!2n4no!i0l0^us@)<}3*@c%vb\\{[-6]th7>0...      2         SQLi   \n",
       "185802  9999999999999999999999999999999999999999999999...      2         SQLi   \n",
       "112341  superior quality and value showreview(2240962,...      0       normal   \n",
       "203982  I caught this on the dish last night. I liked ...      0       normal   \n",
       "236553  Wow! I remember so many awful films that loose...      0       normal   \n",
       "51384   select case when 2095 = 9074 t/*This was a ter...      1         SQLi   \n",
       "184497  dj89xyxiwqvd577amuha2fr10giv6tiw32kh33858n7qve...      2         SQLi   \n",
       "248316  srchval=%3Cscript%3Ealert%28document.cookie%29...      1          XSS   \n",
       "269464  q=%27%3Balert%280%29%2F%2F%5C%27%3Balert%281%2...      1          XSS   \n",
       "51434   34 Pretty goddamn hard to keep up w a social d...      0       normal   \n",
       "62137   1  )  )   union all select null,null,null#--I ...      1         SQLi   \n",
       "53284   -3501\"  )  )   )  or  ( 6789 = 6990 ) *6990 an...      1         SQLi   \n",
       "185364  _r/bl/946vl<}:?yiz$#0uc5c)>::*^%!\\t)=9>ey;7<-#...      2         SQLi   \n",
       "\n",
       "             type  \n",
       "221697     Benign  \n",
       "260845  Malicious  \n",
       "153614  Malicious  \n",
       "185802  Malicious  \n",
       "112341     Benign  \n",
       "203982     Benign  \n",
       "236553     Benign  \n",
       "51384   Malicious  \n",
       "184497  Malicious  \n",
       "248316  Malicious  \n",
       "269464  Malicious  \n",
       "51434      Benign  \n",
       "62137   Malicious  \n",
       "53284   Malicious  \n",
       "185364  Malicious  "
      ],
      "text/html": [
       "<div>\n",
       "<style scoped>\n",
       "    .dataframe tbody tr th:only-of-type {\n",
       "        vertical-align: middle;\n",
       "    }\n",
       "\n",
       "    .dataframe tbody tr th {\n",
       "        vertical-align: top;\n",
       "    }\n",
       "\n",
       "    .dataframe thead th {\n",
       "        text-align: right;\n",
       "    }\n",
       "</style>\n",
       "<table border=\"1\" class=\"dataframe\">\n",
       "  <thead>\n",
       "    <tr style=\"text-align: right;\">\n",
       "      <th></th>\n",
       "      <th>payload</th>\n",
       "      <th>label</th>\n",
       "      <th>attack_label</th>\n",
       "      <th>type</th>\n",
       "    </tr>\n",
       "  </thead>\n",
       "  <tbody>\n",
       "    <tr>\n",
       "      <th>221697</th>\n",
       "      <td>George Carlin is probably my favorite comedian...</td>\n",
       "      <td>0</td>\n",
       "      <td>normal</td>\n",
       "      <td>Benign</td>\n",
       "    </tr>\n",
       "    <tr>\n",
       "      <th>260845</th>\n",
       "      <td>sign=';alert(String.fromCharCode(88,&lt;br/&gt;83,83...</td>\n",
       "      <td>1</td>\n",
       "      <td>XSS</td>\n",
       "      <td>Malicious</td>\n",
       "    </tr>\n",
       "    <tr>\n",
       "      <th>153614</th>\n",
       "      <td>_#%yh&amp;^|c%!2n4no!i0l0^us@)&lt;}3*@c%vb\\{[-6]th7&gt;0...</td>\n",
       "      <td>2</td>\n",
       "      <td>SQLi</td>\n",
       "      <td>Malicious</td>\n",
       "    </tr>\n",
       "    <tr>\n",
       "      <th>185802</th>\n",
       "      <td>9999999999999999999999999999999999999999999999...</td>\n",
       "      <td>2</td>\n",
       "      <td>SQLi</td>\n",
       "      <td>Malicious</td>\n",
       "    </tr>\n",
       "    <tr>\n",
       "      <th>112341</th>\n",
       "      <td>superior quality and value showreview(2240962,...</td>\n",
       "      <td>0</td>\n",
       "      <td>normal</td>\n",
       "      <td>Benign</td>\n",
       "    </tr>\n",
       "    <tr>\n",
       "      <th>203982</th>\n",
       "      <td>I caught this on the dish last night. I liked ...</td>\n",
       "      <td>0</td>\n",
       "      <td>normal</td>\n",
       "      <td>Benign</td>\n",
       "    </tr>\n",
       "    <tr>\n",
       "      <th>236553</th>\n",
       "      <td>Wow! I remember so many awful films that loose...</td>\n",
       "      <td>0</td>\n",
       "      <td>normal</td>\n",
       "      <td>Benign</td>\n",
       "    </tr>\n",
       "    <tr>\n",
       "      <th>51384</th>\n",
       "      <td>select case when 2095 = 9074 t/*This was a ter...</td>\n",
       "      <td>1</td>\n",
       "      <td>SQLi</td>\n",
       "      <td>Malicious</td>\n",
       "    </tr>\n",
       "    <tr>\n",
       "      <th>184497</th>\n",
       "      <td>dj89xyxiwqvd577amuha2fr10giv6tiw32kh33858n7qve...</td>\n",
       "      <td>2</td>\n",
       "      <td>SQLi</td>\n",
       "      <td>Malicious</td>\n",
       "    </tr>\n",
       "    <tr>\n",
       "      <th>248316</th>\n",
       "      <td>srchval=%3Cscript%3Ealert%28document.cookie%29...</td>\n",
       "      <td>1</td>\n",
       "      <td>XSS</td>\n",
       "      <td>Malicious</td>\n",
       "    </tr>\n",
       "    <tr>\n",
       "      <th>269464</th>\n",
       "      <td>q=%27%3Balert%280%29%2F%2F%5C%27%3Balert%281%2...</td>\n",
       "      <td>1</td>\n",
       "      <td>XSS</td>\n",
       "      <td>Malicious</td>\n",
       "    </tr>\n",
       "    <tr>\n",
       "      <th>51434</th>\n",
       "      <td>34 Pretty goddamn hard to keep up w a social d...</td>\n",
       "      <td>0</td>\n",
       "      <td>normal</td>\n",
       "      <td>Benign</td>\n",
       "    </tr>\n",
       "    <tr>\n",
       "      <th>62137</th>\n",
       "      <td>1  )  )   union all select null,null,null#--I ...</td>\n",
       "      <td>1</td>\n",
       "      <td>SQLi</td>\n",
       "      <td>Malicious</td>\n",
       "    </tr>\n",
       "    <tr>\n",
       "      <th>53284</th>\n",
       "      <td>-3501\"  )  )   )  or  ( 6789 = 6990 ) *6990 an...</td>\n",
       "      <td>1</td>\n",
       "      <td>SQLi</td>\n",
       "      <td>Malicious</td>\n",
       "    </tr>\n",
       "    <tr>\n",
       "      <th>185364</th>\n",
       "      <td>_r/bl/946vl&lt;}:?yiz$#0uc5c)&gt;::*^%!\\t)=9&gt;ey;7&lt;-#...</td>\n",
       "      <td>2</td>\n",
       "      <td>SQLi</td>\n",
       "      <td>Malicious</td>\n",
       "    </tr>\n",
       "  </tbody>\n",
       "</table>\n",
       "</div>"
      ]
     },
     "execution_count": 22,
     "metadata": {},
     "output_type": "execute_result"
    }
   ],
   "execution_count": 22
  },
  {
   "metadata": {},
   "cell_type": "markdown",
   "source": "### Now that the datasets are condensed and normalized, we need to start creating new features and deep understand",
   "id": "9019d7d856a6088d"
  }
 ],
 "metadata": {
  "kernelspec": {
   "name": "python3",
   "language": "python",
   "display_name": "Python 3 (ipykernel)"
  }
 },
 "nbformat": 4,
 "nbformat_minor": 5
}
