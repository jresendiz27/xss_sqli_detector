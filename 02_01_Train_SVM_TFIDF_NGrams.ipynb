{
 "cells": [
  {
   "metadata": {},
   "cell_type": "markdown",
   "source": "## SVM / TFIDF with NGrams",
   "id": "f6f4822078deed7d"
  },
  {
   "metadata": {
    "ExecuteTime": {
     "end_time": "2025-09-14T01:12:38.165527Z",
     "start_time": "2025-09-14T01:12:38.047507Z"
    }
   },
   "cell_type": "code",
   "source": [
    "import pandas as pd, numpy as np\n",
    "from sklearn.model_selection import train_test_split, StratifiedKFold\n",
    "from sklearn.metrics import classification_report, average_precision_score, f1_score\n",
    "from sklearn.calibration import CalibratedClassifierCV\n",
    "from sklearn.feature_extraction.text import TfidfVectorizer, HashingVectorizer\n",
    "from sklearn.pipeline import Pipeline\n",
    "from sklearn.svm import LinearSVC\n",
    "from sklearn.linear_model import SGDClassifier\n",
    "from sklearn.utils.class_weight import compute_class_weight\n",
    "\n",
    "STORAGE_PATH = './datasets/raw'\n",
    "try:\n",
    "    from google.colab import drive\n",
    "\n",
    "    drive.mount('/content/drive')\n",
    "    STORAGE_PATH = '/content/drive/MyDrive/xss_sqli_detector/datasets'\n",
    "except:\n",
    "    print('Not running on Google Colab')\n",
    "\n",
    "XSS_SQLI_CONDENSED_WITH_FEATURES_DATASET_PATH = f'{STORAGE_PATH}/xss_sqli_condensed_with_features.csv'"
   ],
   "id": "391c1da8c2ff1909",
   "outputs": [
    {
     "name": "stdout",
     "output_type": "stream",
     "text": [
      "Not running on Google Colab\n"
     ]
    }
   ],
   "execution_count": 1
  },
  {
   "metadata": {
    "ExecuteTime": {
     "end_time": "2025-09-14T01:12:43.309562Z",
     "start_time": "2025-09-14T01:12:41.980151Z"
    }
   },
   "cell_type": "code",
   "source": "df = pd.read_csv(XSS_SQLI_CONDENSED_WITH_FEATURES_DATASET_PATH)",
   "id": "52f01293ba5a31d7",
   "outputs": [],
   "execution_count": 2
  },
  {
   "metadata": {
    "jupyter": {
     "is_executing": true
    },
    "ExecuteTime": {
     "end_time": "2025-09-14T01:42:42.547705345Z",
     "start_time": "2025-09-14T01:37:15.292209Z"
    }
   },
   "cell_type": "code",
   "source": [
    "X = df[\"payload\"].astype(str).values\n",
    "y = df[\"label_type\"].values\n",
    "num_classes = len(np.unique(y))\n",
    "\n",
    "X_train, X_test, y_train, y_test = train_test_split(X, y, stratify=y, test_size=0.2, random_state=42)\n",
    "\n",
    "svm_pipe = Pipeline([\n",
    "    (\"tfidf\", TfidfVectorizer(analyzer=\"char\", ngram_range=(2,8), min_df=4, sublinear_tf=True)),\n",
    "    (\"svm\", LinearSVC(C=1.0, class_weight=\"balanced\", verbose=2, max_iter=2000))\n",
    "])\n",
    "\n",
    "svm_pipe.fit(X_train, y_train)\n",
    "y_pred = svm_pipe.predict(X_test)\n",
    "print(\"SVM report:\\n\", classification_report(y_test, y_pred, digits=3))\n"
   ],
   "id": "883d0a1e59655b02",
   "outputs": [],
   "execution_count": null
  },
  {
   "metadata": {
    "ExecuteTime": {
     "end_time": "2025-09-14T01:32:19.399012Z",
     "start_time": "2025-09-14T01:32:19.390590Z"
    }
   },
   "cell_type": "code",
   "source": "print(\"This is benign\", svm_pipe.predict([\"\"\"Hola! Me da gusto saber de ti y de todos los siguientes: Juan, Paco, Pedro aka. Paquito y el t0x1c en l33tc0d3 '%%%%%.href=google.com <li><a href=\"/wiki/File:Socrates.png\" class=\"image\"><img alt=\"Socrates.png\" src=\"//upload.wikimedia.org/wikipedia/commons/thumb/c/cd/Socrates.png/18px-Socrates.png\" decoding=\"async\" width=\"18\" height=\"28\" class=\"noviewer\" srcset=\"//upload.wikimedia.org/wikipedia/commons/thumb/c/cd/Socrates.png/27px-Socrates.png 1.5x, //upload.wikimedia.org/wikipedia/commons/thumb/c/cd/Socrates.png/36px-Socrates.png 2x\" data-file-width=\"326\" data-file-height=\"500\" /> </a> <a href=\"/wiki/Portal:Philosophy\" title=\"Portal:Philosophy\">Philosophy&#32;portal </a> </li> </ul> \"\"\"]))\n",
   "id": "e1c9e9dc10be3f3e",
   "outputs": [
    {
     "name": "stdout",
     "output_type": "stream",
     "text": [
      "This is benign [0]\n"
     ]
    }
   ],
   "execution_count": 16
  },
  {
   "metadata": {
    "ExecuteTime": {
     "end_time": "2025-09-14T01:32:15.980272Z",
     "start_time": "2025-09-14T01:32:15.975255Z"
    }
   },
   "cell_type": "code",
   "source": "print(\"This is malicious\", svm_pipe.predict([\"<a onblur=alert(1) tabindex=1 id=x></a><input autofocus>\"]))",
   "id": "b635246f30a6f422",
   "outputs": [
    {
     "name": "stdout",
     "output_type": "stream",
     "text": [
      "This is malicious [1]\n"
     ]
    }
   ],
   "execution_count": 15
  },
  {
   "metadata": {
    "ExecuteTime": {
     "end_time": "2025-09-14T01:34:41.149508Z",
     "start_time": "2025-09-14T01:34:41.139928Z"
    }
   },
   "cell_type": "code",
   "source": "print(\"This is benign???? (inserted some bad code)\", svm_pipe.predict([\"\"\"Hola! Me da gusto saber de ti y de todos los siguientes: Juan, Paco, Pedro aka. Paquito y el t0x1c en l33tc0d3 '%%%%%.href=google.com <li><a href=\"/wiki/File:Socrates.png\" class=\"image\"><img alt=\"Socrates.png\" src=\"//upload.wikimedia.org/wikipedia/commons/thumb/c/cd/Socrates.png/18px-Socrates.png\" decoding=\"async\" width=\"18\" height=\"28\" class=\"noviewer\" srcset=\"//upload.wikimedia.org/wikipedia/commons/thumb/c/cd/Socrates.png/27px-Socrates.png 1.5x, //upload.wikimedia.org/wikipedia/commons/thumb/c/cd/Socrates.png/36px-Socrates.png 2x\" data-file-width=\"326\" data-file-height=\"500\" /> </a> <a href=\"/wiki/Portal:Philosophy\" title=\"Portal:Philosophy\">Philosophy&#32;portal </a> </li> </ul>  div draggable=\"true\" contenteditable>drag me</div><sup ondrop=alert(1) contenteditable>drop here</sup>\"\"\"]))",
   "id": "644a22a6291a4cc3",
   "outputs": [
    {
     "name": "stdout",
     "output_type": "stream",
     "text": [
      "This is benign???? (inserted some bad code) [0]\n"
     ]
    }
   ],
   "execution_count": 17
  },
  {
   "metadata": {},
   "cell_type": "code",
   "outputs": [],
   "execution_count": null,
   "source": "",
   "id": "56e6a799fef0d77c"
  }
 ],
 "metadata": {
  "kernelspec": {
   "name": "python3",
   "language": "python",
   "display_name": "Python 3 (ipykernel)"
  }
 },
 "nbformat": 4,
 "nbformat_minor": 5
}
