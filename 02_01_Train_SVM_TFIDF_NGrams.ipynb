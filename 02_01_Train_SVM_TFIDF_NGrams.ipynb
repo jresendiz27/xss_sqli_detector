{
 "cells": [
  {
   "metadata": {},
   "cell_type": "markdown",
   "source": [
    "## SVM / TFIDF with NGrams\n",
    "\n",
    "### Objective\n",
    "\n",
    "Adjust the dataset and create new features to use a SVM with a TFIDF approach with n-grams, using `char` and `word` approach.\n",
    "\n"
   ],
   "id": "f6f4822078deed7d"
  },
  {
   "metadata": {
    "ExecuteTime": {
     "end_time": "2025-09-16T22:51:15.114176Z",
     "start_time": "2025-09-16T22:51:14.930407Z"
    }
   },
   "cell_type": "code",
   "source": [
    "import html\n",
    "import re\n",
    "import urllib\n",
    "\n",
    "import joblib\n",
    "import matplotlib.pyplot as plt\n",
    "import numpy as np\n",
    "import pandas as pd\n",
    "import seaborn as sns\n",
    "from sklearn.feature_extraction.text import TfidfVectorizer\n",
    "from sklearn.metrics import ConfusionMatrixDisplay\n",
    "from sklearn.metrics import classification_report\n",
    "from sklearn.metrics import roc_curve, roc_auc_score, precision_recall_curve, average_precision_score\n",
    "from sklearn.model_selection import learning_curve, train_test_split, StratifiedKFold\n",
    "from sklearn.pipeline import FeatureUnion\n",
    "from sklearn.pipeline import Pipeline\n",
    "from sklearn.svm import LinearSVC\n",
    "\n",
    "STORAGE_PATH = './datasets/raw'\n",
    "try:\n",
    "    from google.colab import drive\n",
    "\n",
    "    drive.mount('/content/drive')\n",
    "    STORAGE_PATH = '/content/drive/MyDrive/xss_sqli_detector/datasets'\n",
    "except:\n",
    "    print('Not running on Google Colab')\n",
    "\n",
    "XSS_SQLI_CONDENSED_WITH_FEATURES_DATASET_PATH = f'{STORAGE_PATH}/xss_sqli_condensed_with_features.csv'"
   ],
   "id": "391c1da8c2ff1909",
   "outputs": [
    {
     "name": "stdout",
     "output_type": "stream",
     "text": [
      "Not running on Google Colab\n"
     ]
    }
   ],
   "execution_count": 1
  },
  {
   "metadata": {
    "ExecuteTime": {
     "end_time": "2025-09-16T22:51:22.769167Z",
     "start_time": "2025-09-16T22:51:21.439828Z"
    }
   },
   "cell_type": "code",
   "source": "df = pd.read_csv(XSS_SQLI_CONDENSED_WITH_FEATURES_DATASET_PATH)",
   "id": "52f01293ba5a31d7",
   "outputs": [],
   "execution_count": 2
  },
  {
   "metadata": {
    "ExecuteTime": {
     "end_time": "2025-09-16T22:51:23.735772Z",
     "start_time": "2025-09-16T22:51:23.731186Z"
    }
   },
   "cell_type": "code",
   "source": [
    "# Cleanup/Categorization functions\n",
    "def size_bins(payload_size: int) -> str:\n",
    "    if 0 < payload_size < 500:\n",
    "        return \"0_500\"\n",
    "    elif 500 <= payload_size < 1000:\n",
    "        return \"500_1000\"\n",
    "    elif 1000 <= payload_size < 1500:\n",
    "        return \"1000_1500\"\n",
    "    elif 1500 <= payload_size < 2000:\n",
    "        return \"1500_2000\"\n",
    "    elif 2000 <= payload_size < 2500:\n",
    "        return \"2000_2500\"\n",
    "    elif 2500 <= payload_size < 3000:\n",
    "        return \"2500_3000\"\n",
    "    elif 3000 <= payload_size < 3500:\n",
    "        return \"3000_3500\"\n",
    "    else:\n",
    "        return \">3500\"\n",
    "\n",
    "\n",
    "def size_bins_number(payload_size: int) -> int:\n",
    "    if 0 < payload_size < 500:\n",
    "        return 0\n",
    "    elif 500 <= payload_size < 1000:\n",
    "        return 1\n",
    "    elif 1000 <= payload_size < 1500:\n",
    "        return 2\n",
    "    elif 1500 <= payload_size < 2000:\n",
    "        return 3\n",
    "    elif 2000 <= payload_size < 2500:\n",
    "        return 4\n",
    "    elif 2500 <= payload_size < 3000:\n",
    "        return 5\n",
    "    elif 3000 <= payload_size < 3500:\n",
    "        return 6\n",
    "    else:\n",
    "        return 7\n",
    "\n",
    "\n",
    "def canonicalize_text(s: str) -> str:\n",
    "    s = s.strip().lower()\n",
    "    s = urllib.parse.unquote(s)\n",
    "    s = html.unescape(s)\n",
    "    s = re.sub(r\"\\s+\", \" \", s)\n",
    "    return s"
   ],
   "id": "6a7d39b26bb5f0f8",
   "outputs": [],
   "execution_count": 3
  },
  {
   "metadata": {
    "ExecuteTime": {
     "end_time": "2025-09-16T22:51:28.805275Z",
     "start_time": "2025-09-16T22:51:24.884923Z"
    }
   },
   "cell_type": "code",
   "source": [
    "# Remove unused columns\n",
    "\n",
    "df.drop(columns=['Unnamed: 0', 'contains_script_tag', 'contains_cookie_related', 'contains_xss_ascii_malformed',\n",
    "                 'contains_sql_operators', 'contains_sql_functions', 'contains_sql_tautologies', 'special_chars_count',\n",
    "                 'http_word_count', 'reserved_sql_words_count', 'reserved_js_words_count', 'reserved_web_sink_count',\n",
    "                 'detected_by_libinjection'], inplace=True)\n",
    "\n",
    "df['payload_bin'] = df['payload_length'].apply(size_bins)\n",
    "df['payload_bin_number'] = df['payload_length'].apply(size_bins_number)\n",
    "df['payload'].astype(str).map(canonicalize_text)\n",
    "\n",
    "df.drop_duplicates()"
   ],
   "id": "7162c696dba7d79c",
   "outputs": [
    {
     "data": {
      "text/plain": [
       "                                                  payload  label attack_label  \\\n",
       "0                     \"1%\"\"  )   waitfor delay '0:0:5'--\"      1         SQLi   \n",
       "1                  <form onmouseup=\"alert(1)\">test</form>      2          XSS   \n",
       "2                                  your skin looks lovely      0       normal   \n",
       "3       xubder rvy6crzr34rulq71yfvscl740klx2d0 s6so06r...      1         SQLi   \n",
       "4       åŒã˜ãƒ–ãƒ©ãƒ³ãƒ‰ã®æ™‚è¨ˆã‚’è³¼å…¥ã—ã€ãƒ•ã...      0       normal   \n",
       "...                                                   ...    ...          ...   \n",
       "273699  produto=%22%3E'%3E%3CSCRIPT%3Ealert(String.fro...      1          XSS   \n",
       "273700  m=%22%3E'%3E%3CSCRIPT%3Ealert(String.fromCharC...      1          XSS   \n",
       "273701      q=%3Cscript%3Ealert%28%22m%22%29%3C/script%3E      1          XSS   \n",
       "273702  Search=%22%3E'%3E%3CSCRIPT%20SRC=http://br.zon...      1          XSS   \n",
       "273703  method=show&lojaPrincipal=&areaName=busca&nome...      1          XSS   \n",
       "\n",
       "             type  payload_length  label_type payload_bin  payload_bin_number  \n",
       "0       Malicious              35           1       0_500                   0  \n",
       "1       Malicious              38           1       0_500                   0  \n",
       "2          Benign              22           0       0_500                   0  \n",
       "3       Malicious             983           1    500_1000                   1  \n",
       "4          Benign             251           0       0_500                   0  \n",
       "...           ...             ...         ...         ...                 ...  \n",
       "273699  Malicious              90           1       0_500                   0  \n",
       "273700  Malicious              84           1       0_500                   0  \n",
       "273701  Malicious              45           1       0_500                   0  \n",
       "273702  Malicious             273           1       0_500                   0  \n",
       "273703  Malicious             220           1       0_500                   0  \n",
       "\n",
       "[273704 rows x 8 columns]"
      ],
      "text/html": [
       "<div>\n",
       "<style scoped>\n",
       "    .dataframe tbody tr th:only-of-type {\n",
       "        vertical-align: middle;\n",
       "    }\n",
       "\n",
       "    .dataframe tbody tr th {\n",
       "        vertical-align: top;\n",
       "    }\n",
       "\n",
       "    .dataframe thead th {\n",
       "        text-align: right;\n",
       "    }\n",
       "</style>\n",
       "<table border=\"1\" class=\"dataframe\">\n",
       "  <thead>\n",
       "    <tr style=\"text-align: right;\">\n",
       "      <th></th>\n",
       "      <th>payload</th>\n",
       "      <th>label</th>\n",
       "      <th>attack_label</th>\n",
       "      <th>type</th>\n",
       "      <th>payload_length</th>\n",
       "      <th>label_type</th>\n",
       "      <th>payload_bin</th>\n",
       "      <th>payload_bin_number</th>\n",
       "    </tr>\n",
       "  </thead>\n",
       "  <tbody>\n",
       "    <tr>\n",
       "      <th>0</th>\n",
       "      <td>\"1%\"\"  )   waitfor delay '0:0:5'--\"</td>\n",
       "      <td>1</td>\n",
       "      <td>SQLi</td>\n",
       "      <td>Malicious</td>\n",
       "      <td>35</td>\n",
       "      <td>1</td>\n",
       "      <td>0_500</td>\n",
       "      <td>0</td>\n",
       "    </tr>\n",
       "    <tr>\n",
       "      <th>1</th>\n",
       "      <td>&lt;form onmouseup=\"alert(1)\"&gt;test&lt;/form&gt;</td>\n",
       "      <td>2</td>\n",
       "      <td>XSS</td>\n",
       "      <td>Malicious</td>\n",
       "      <td>38</td>\n",
       "      <td>1</td>\n",
       "      <td>0_500</td>\n",
       "      <td>0</td>\n",
       "    </tr>\n",
       "    <tr>\n",
       "      <th>2</th>\n",
       "      <td>your skin looks lovely</td>\n",
       "      <td>0</td>\n",
       "      <td>normal</td>\n",
       "      <td>Benign</td>\n",
       "      <td>22</td>\n",
       "      <td>0</td>\n",
       "      <td>0_500</td>\n",
       "      <td>0</td>\n",
       "    </tr>\n",
       "    <tr>\n",
       "      <th>3</th>\n",
       "      <td>xubder rvy6crzr34rulq71yfvscl740klx2d0 s6so06r...</td>\n",
       "      <td>1</td>\n",
       "      <td>SQLi</td>\n",
       "      <td>Malicious</td>\n",
       "      <td>983</td>\n",
       "      <td>1</td>\n",
       "      <td>500_1000</td>\n",
       "      <td>1</td>\n",
       "    </tr>\n",
       "    <tr>\n",
       "      <th>4</th>\n",
       "      <td>åŒã˜ãƒ–ãƒ©ãƒ³ãƒ‰ã®æ™‚è¨ˆã‚’è³¼å…¥ã—ã€ãƒ•ã...</td>\n",
       "      <td>0</td>\n",
       "      <td>normal</td>\n",
       "      <td>Benign</td>\n",
       "      <td>251</td>\n",
       "      <td>0</td>\n",
       "      <td>0_500</td>\n",
       "      <td>0</td>\n",
       "    </tr>\n",
       "    <tr>\n",
       "      <th>...</th>\n",
       "      <td>...</td>\n",
       "      <td>...</td>\n",
       "      <td>...</td>\n",
       "      <td>...</td>\n",
       "      <td>...</td>\n",
       "      <td>...</td>\n",
       "      <td>...</td>\n",
       "      <td>...</td>\n",
       "    </tr>\n",
       "    <tr>\n",
       "      <th>273699</th>\n",
       "      <td>produto=%22%3E'%3E%3CSCRIPT%3Ealert(String.fro...</td>\n",
       "      <td>1</td>\n",
       "      <td>XSS</td>\n",
       "      <td>Malicious</td>\n",
       "      <td>90</td>\n",
       "      <td>1</td>\n",
       "      <td>0_500</td>\n",
       "      <td>0</td>\n",
       "    </tr>\n",
       "    <tr>\n",
       "      <th>273700</th>\n",
       "      <td>m=%22%3E'%3E%3CSCRIPT%3Ealert(String.fromCharC...</td>\n",
       "      <td>1</td>\n",
       "      <td>XSS</td>\n",
       "      <td>Malicious</td>\n",
       "      <td>84</td>\n",
       "      <td>1</td>\n",
       "      <td>0_500</td>\n",
       "      <td>0</td>\n",
       "    </tr>\n",
       "    <tr>\n",
       "      <th>273701</th>\n",
       "      <td>q=%3Cscript%3Ealert%28%22m%22%29%3C/script%3E</td>\n",
       "      <td>1</td>\n",
       "      <td>XSS</td>\n",
       "      <td>Malicious</td>\n",
       "      <td>45</td>\n",
       "      <td>1</td>\n",
       "      <td>0_500</td>\n",
       "      <td>0</td>\n",
       "    </tr>\n",
       "    <tr>\n",
       "      <th>273702</th>\n",
       "      <td>Search=%22%3E'%3E%3CSCRIPT%20SRC=http://br.zon...</td>\n",
       "      <td>1</td>\n",
       "      <td>XSS</td>\n",
       "      <td>Malicious</td>\n",
       "      <td>273</td>\n",
       "      <td>1</td>\n",
       "      <td>0_500</td>\n",
       "      <td>0</td>\n",
       "    </tr>\n",
       "    <tr>\n",
       "      <th>273703</th>\n",
       "      <td>method=show&amp;lojaPrincipal=&amp;areaName=busca&amp;nome...</td>\n",
       "      <td>1</td>\n",
       "      <td>XSS</td>\n",
       "      <td>Malicious</td>\n",
       "      <td>220</td>\n",
       "      <td>1</td>\n",
       "      <td>0_500</td>\n",
       "      <td>0</td>\n",
       "    </tr>\n",
       "  </tbody>\n",
       "</table>\n",
       "<p>273704 rows × 8 columns</p>\n",
       "</div>"
      ]
     },
     "execution_count": 4,
     "metadata": {},
     "output_type": "execute_result"
    }
   ],
   "execution_count": 4
  },
  {
   "metadata": {
    "ExecuteTime": {
     "end_time": "2025-09-16T19:34:08.743704Z",
     "start_time": "2025-09-16T19:34:08.729044Z"
    }
   },
   "cell_type": "code",
   "source": "df['payload_bin'].value_counts()",
   "id": "18b6623898fa1297",
   "outputs": [
    {
     "data": {
      "text/plain": [
       "payload_bin\n",
       "0_500        207013\n",
       "500_1000      61812\n",
       "1000_1500      2315\n",
       "1500_2000       880\n",
       ">3500           733\n",
       "2000_2500       478\n",
       "2500_3000       277\n",
       "3000_3500       196\n",
       "Name: count, dtype: int64"
      ]
     },
     "execution_count": 5,
     "metadata": {},
     "output_type": "execute_result"
    }
   ],
   "execution_count": 5
  },
  {
   "metadata": {
    "ExecuteTime": {
     "end_time": "2025-09-16T19:34:09.707833Z",
     "start_time": "2025-09-16T19:34:09.671288Z"
    }
   },
   "cell_type": "code",
   "source": "df[df['payload_bin_number'] <= 6]['type'].value_counts()",
   "id": "f7e2fba330956404",
   "outputs": [
    {
     "data": {
      "text/plain": [
       "type\n",
       "Malicious    152412\n",
       "Benign       120559\n",
       "Name: count, dtype: int64"
      ]
     },
     "execution_count": 6,
     "metadata": {},
     "output_type": "execute_result"
    }
   ],
   "execution_count": 6
  },
  {
   "metadata": {
    "ExecuteTime": {
     "end_time": "2025-09-16T19:34:10.760064Z",
     "start_time": "2025-09-16T19:34:10.724136Z"
    }
   },
   "cell_type": "code",
   "source": "df[df['payload_bin_number'] <= 5]['type'].value_counts()\n",
   "id": "49ffba95ff1b4a26",
   "outputs": [
    {
     "data": {
      "text/plain": [
       "type\n",
       "Malicious    152403\n",
       "Benign       120372\n",
       "Name: count, dtype: int64"
      ]
     },
     "execution_count": 7,
     "metadata": {},
     "output_type": "execute_result"
    }
   ],
   "execution_count": 7
  },
  {
   "metadata": {
    "ExecuteTime": {
     "end_time": "2025-09-16T19:34:11.613657Z",
     "start_time": "2025-09-16T19:34:11.576930Z"
    }
   },
   "cell_type": "code",
   "source": "df[df['payload_bin_number'] <= 2]['type'].value_counts()\n",
   "id": "bf0a035785e0223b",
   "outputs": [
    {
     "data": {
      "text/plain": [
       "type\n",
       "Malicious    152363\n",
       "Benign       118777\n",
       "Name: count, dtype: int64"
      ]
     },
     "execution_count": 8,
     "metadata": {},
     "output_type": "execute_result"
    }
   ],
   "execution_count": 8
  },
  {
   "metadata": {
    "ExecuteTime": {
     "end_time": "2025-09-16T22:51:34.091849Z",
     "start_time": "2025-09-16T22:51:34.015076Z"
    }
   },
   "cell_type": "code",
   "source": [
    "filtered_df = df[df['payload_bin_number'] <= 2].copy()\n",
    "df = None"
   ],
   "id": "84b82ca3bbd563c2",
   "outputs": [],
   "execution_count": 5
  },
  {
   "metadata": {
    "ExecuteTime": {
     "end_time": "2025-09-16T22:51:34.796256Z",
     "start_time": "2025-09-16T22:51:34.748516Z"
    }
   },
   "cell_type": "code",
   "source": "filtered_df.info()",
   "id": "7ad5fdee676e0b6b",
   "outputs": [
    {
     "name": "stdout",
     "output_type": "stream",
     "text": [
      "<class 'pandas.core.frame.DataFrame'>\n",
      "Index: 271140 entries, 0 to 273703\n",
      "Data columns (total 8 columns):\n",
      " #   Column              Non-Null Count   Dtype \n",
      "---  ------              --------------   ----- \n",
      " 0   payload             271140 non-null  object\n",
      " 1   label               271140 non-null  int64 \n",
      " 2   attack_label        271140 non-null  object\n",
      " 3   type                271140 non-null  object\n",
      " 4   payload_length      271140 non-null  int64 \n",
      " 5   label_type          271140 non-null  int64 \n",
      " 6   payload_bin         271140 non-null  object\n",
      " 7   payload_bin_number  271140 non-null  int64 \n",
      "dtypes: int64(4), object(4)\n",
      "memory usage: 18.6+ MB\n"
     ]
    }
   ],
   "execution_count": 6
  },
  {
   "metadata": {
    "ExecuteTime": {
     "end_time": "2025-09-16T22:51:38.773552Z",
     "start_time": "2025-09-16T22:51:38.679857Z"
    }
   },
   "cell_type": "code",
   "source": [
    "X = filtered_df[\"payload\"].astype(str).values\n",
    "y = filtered_df[\"label_type\"].values\n",
    "\n",
    "num_classes = len(np.unique(y))\n",
    "\n",
    "X_train, X_test, y_train, y_test = train_test_split(X, y, stratify=y, test_size=0.2, random_state=42)\n"
   ],
   "id": "883d0a1e59655b02",
   "outputs": [],
   "execution_count": 7
  },
  {
   "metadata": {
    "ExecuteTime": {
     "end_time": "2025-09-16T19:41:19.239780Z",
     "start_time": "2025-09-16T19:35:26.798945Z"
    }
   },
   "cell_type": "code",
   "source": [
    "char_vectorizer = TfidfVectorizer(analyzer=\"char\", ngram_range=(2, 7), min_df=5, max_df=0.85, sublinear_tf=True,\n",
    "                                  strip_accents=None)\n",
    "word_vectorizer = TfidfVectorizer(analyzer=\"word\", ngram_range=(1, 3), min_df=5, max_df=0.85,\n",
    "                                  token_pattern=r'\\b\\w+\\b|<[^>]+>|[!\"#$%&\\'()*+,\\-./:;<=>?@\\[\\]\\\\^—`\\{\\|\\}~]')\n",
    "\n",
    "svm_pipe = Pipeline([\n",
    "    (\"feats\", FeatureUnion([(\"char_tfid\", char_vectorizer), (\"word_tfid\", word_vectorizer)])),\n",
    "    (\"svm\", LinearSVC(C=1.0, class_weight=\"balanced\", verbose=5, max_iter=5000))\n",
    "], verbose=True)\n",
    "\n",
    "svm_pipe.fit(X_train, y_train)\n"
   ],
   "id": "d7e51f90c99b5268",
   "outputs": [
    {
     "name": "stdout",
     "output_type": "stream",
     "text": [
      "[Pipeline] ............. (step 1 of 2) Processing feats, total= 5.2min\n",
      "[LibLinear]......*\n",
      "optimization finished, #iter = 61\n",
      "Objective value = -1693.528872\n",
      "nSV = 23085\n",
      "[Pipeline] ............... (step 2 of 2) Processing svm, total=  28.7s\n"
     ]
    },
    {
     "data": {
      "text/plain": [
       "Pipeline(steps=[('feats',\n",
       "                 FeatureUnion(transformer_list=[('char_tfid',\n",
       "                                                 TfidfVectorizer(analyzer='char',\n",
       "                                                                 max_df=0.85,\n",
       "                                                                 min_df=5,\n",
       "                                                                 ngram_range=(2,\n",
       "                                                                              7),\n",
       "                                                                 sublinear_tf=True)),\n",
       "                                                ('word_tfid',\n",
       "                                                 TfidfVectorizer(max_df=0.85,\n",
       "                                                                 min_df=5,\n",
       "                                                                 ngram_range=(1,\n",
       "                                                                              3),\n",
       "                                                                 token_pattern='\\\\b\\\\w+\\\\b|<[^>]+>|[!\"#$%&\\\\\\'()*+,\\\\-./:;<=>?@\\\\[\\\\]\\\\\\\\^—`\\\\{\\\\|\\\\}~]'))])),\n",
       "                ('svm',\n",
       "                 LinearSVC(class_weight='balanced', max_iter=5000, verbose=5))],\n",
       "         verbose=True)"
      ],
      "text/html": [
       "<style>#sk-container-id-1 {\n",
       "  /* Definition of color scheme common for light and dark mode */\n",
       "  --sklearn-color-text: #000;\n",
       "  --sklearn-color-text-muted: #666;\n",
       "  --sklearn-color-line: gray;\n",
       "  /* Definition of color scheme for unfitted estimators */\n",
       "  --sklearn-color-unfitted-level-0: #fff5e6;\n",
       "  --sklearn-color-unfitted-level-1: #f6e4d2;\n",
       "  --sklearn-color-unfitted-level-2: #ffe0b3;\n",
       "  --sklearn-color-unfitted-level-3: chocolate;\n",
       "  /* Definition of color scheme for fitted estimators */\n",
       "  --sklearn-color-fitted-level-0: #f0f8ff;\n",
       "  --sklearn-color-fitted-level-1: #d4ebff;\n",
       "  --sklearn-color-fitted-level-2: #b3dbfd;\n",
       "  --sklearn-color-fitted-level-3: cornflowerblue;\n",
       "\n",
       "  /* Specific color for light theme */\n",
       "  --sklearn-color-text-on-default-background: var(--sg-text-color, var(--theme-code-foreground, var(--jp-content-font-color1, black)));\n",
       "  --sklearn-color-background: var(--sg-background-color, var(--theme-background, var(--jp-layout-color0, white)));\n",
       "  --sklearn-color-border-box: var(--sg-text-color, var(--theme-code-foreground, var(--jp-content-font-color1, black)));\n",
       "  --sklearn-color-icon: #696969;\n",
       "\n",
       "  @media (prefers-color-scheme: dark) {\n",
       "    /* Redefinition of color scheme for dark theme */\n",
       "    --sklearn-color-text-on-default-background: var(--sg-text-color, var(--theme-code-foreground, var(--jp-content-font-color1, white)));\n",
       "    --sklearn-color-background: var(--sg-background-color, var(--theme-background, var(--jp-layout-color0, #111)));\n",
       "    --sklearn-color-border-box: var(--sg-text-color, var(--theme-code-foreground, var(--jp-content-font-color1, white)));\n",
       "    --sklearn-color-icon: #878787;\n",
       "  }\n",
       "}\n",
       "\n",
       "#sk-container-id-1 {\n",
       "  color: var(--sklearn-color-text);\n",
       "}\n",
       "\n",
       "#sk-container-id-1 pre {\n",
       "  padding: 0;\n",
       "}\n",
       "\n",
       "#sk-container-id-1 input.sk-hidden--visually {\n",
       "  border: 0;\n",
       "  clip: rect(1px 1px 1px 1px);\n",
       "  clip: rect(1px, 1px, 1px, 1px);\n",
       "  height: 1px;\n",
       "  margin: -1px;\n",
       "  overflow: hidden;\n",
       "  padding: 0;\n",
       "  position: absolute;\n",
       "  width: 1px;\n",
       "}\n",
       "\n",
       "#sk-container-id-1 div.sk-dashed-wrapped {\n",
       "  border: 1px dashed var(--sklearn-color-line);\n",
       "  margin: 0 0.4em 0.5em 0.4em;\n",
       "  box-sizing: border-box;\n",
       "  padding-bottom: 0.4em;\n",
       "  background-color: var(--sklearn-color-background);\n",
       "}\n",
       "\n",
       "#sk-container-id-1 div.sk-container {\n",
       "  /* jupyter's `normalize.less` sets `[hidden] { display: none; }`\n",
       "     but bootstrap.min.css set `[hidden] { display: none !important; }`\n",
       "     so we also need the `!important` here to be able to override the\n",
       "     default hidden behavior on the sphinx rendered scikit-learn.org.\n",
       "     See: https://github.com/scikit-learn/scikit-learn/issues/21755 */\n",
       "  display: inline-block !important;\n",
       "  position: relative;\n",
       "}\n",
       "\n",
       "#sk-container-id-1 div.sk-text-repr-fallback {\n",
       "  display: none;\n",
       "}\n",
       "\n",
       "div.sk-parallel-item,\n",
       "div.sk-serial,\n",
       "div.sk-item {\n",
       "  /* draw centered vertical line to link estimators */\n",
       "  background-image: linear-gradient(var(--sklearn-color-text-on-default-background), var(--sklearn-color-text-on-default-background));\n",
       "  background-size: 2px 100%;\n",
       "  background-repeat: no-repeat;\n",
       "  background-position: center center;\n",
       "}\n",
       "\n",
       "/* Parallel-specific style estimator block */\n",
       "\n",
       "#sk-container-id-1 div.sk-parallel-item::after {\n",
       "  content: \"\";\n",
       "  width: 100%;\n",
       "  border-bottom: 2px solid var(--sklearn-color-text-on-default-background);\n",
       "  flex-grow: 1;\n",
       "}\n",
       "\n",
       "#sk-container-id-1 div.sk-parallel {\n",
       "  display: flex;\n",
       "  align-items: stretch;\n",
       "  justify-content: center;\n",
       "  background-color: var(--sklearn-color-background);\n",
       "  position: relative;\n",
       "}\n",
       "\n",
       "#sk-container-id-1 div.sk-parallel-item {\n",
       "  display: flex;\n",
       "  flex-direction: column;\n",
       "}\n",
       "\n",
       "#sk-container-id-1 div.sk-parallel-item:first-child::after {\n",
       "  align-self: flex-end;\n",
       "  width: 50%;\n",
       "}\n",
       "\n",
       "#sk-container-id-1 div.sk-parallel-item:last-child::after {\n",
       "  align-self: flex-start;\n",
       "  width: 50%;\n",
       "}\n",
       "\n",
       "#sk-container-id-1 div.sk-parallel-item:only-child::after {\n",
       "  width: 0;\n",
       "}\n",
       "\n",
       "/* Serial-specific style estimator block */\n",
       "\n",
       "#sk-container-id-1 div.sk-serial {\n",
       "  display: flex;\n",
       "  flex-direction: column;\n",
       "  align-items: center;\n",
       "  background-color: var(--sklearn-color-background);\n",
       "  padding-right: 1em;\n",
       "  padding-left: 1em;\n",
       "}\n",
       "\n",
       "\n",
       "/* Toggleable style: style used for estimator/Pipeline/ColumnTransformer box that is\n",
       "clickable and can be expanded/collapsed.\n",
       "- Pipeline and ColumnTransformer use this feature and define the default style\n",
       "- Estimators will overwrite some part of the style using the `sk-estimator` class\n",
       "*/\n",
       "\n",
       "/* Pipeline and ColumnTransformer style (default) */\n",
       "\n",
       "#sk-container-id-1 div.sk-toggleable {\n",
       "  /* Default theme specific background. It is overwritten whether we have a\n",
       "  specific estimator or a Pipeline/ColumnTransformer */\n",
       "  background-color: var(--sklearn-color-background);\n",
       "}\n",
       "\n",
       "/* Toggleable label */\n",
       "#sk-container-id-1 label.sk-toggleable__label {\n",
       "  cursor: pointer;\n",
       "  display: flex;\n",
       "  width: 100%;\n",
       "  margin-bottom: 0;\n",
       "  padding: 0.5em;\n",
       "  box-sizing: border-box;\n",
       "  text-align: center;\n",
       "  align-items: start;\n",
       "  justify-content: space-between;\n",
       "  gap: 0.5em;\n",
       "}\n",
       "\n",
       "#sk-container-id-1 label.sk-toggleable__label .caption {\n",
       "  font-size: 0.6rem;\n",
       "  font-weight: lighter;\n",
       "  color: var(--sklearn-color-text-muted);\n",
       "}\n",
       "\n",
       "#sk-container-id-1 label.sk-toggleable__label-arrow:before {\n",
       "  /* Arrow on the left of the label */\n",
       "  content: \"▸\";\n",
       "  float: left;\n",
       "  margin-right: 0.25em;\n",
       "  color: var(--sklearn-color-icon);\n",
       "}\n",
       "\n",
       "#sk-container-id-1 label.sk-toggleable__label-arrow:hover:before {\n",
       "  color: var(--sklearn-color-text);\n",
       "}\n",
       "\n",
       "/* Toggleable content - dropdown */\n",
       "\n",
       "#sk-container-id-1 div.sk-toggleable__content {\n",
       "  max-height: 0;\n",
       "  max-width: 0;\n",
       "  overflow: hidden;\n",
       "  text-align: left;\n",
       "  /* unfitted */\n",
       "  background-color: var(--sklearn-color-unfitted-level-0);\n",
       "}\n",
       "\n",
       "#sk-container-id-1 div.sk-toggleable__content.fitted {\n",
       "  /* fitted */\n",
       "  background-color: var(--sklearn-color-fitted-level-0);\n",
       "}\n",
       "\n",
       "#sk-container-id-1 div.sk-toggleable__content pre {\n",
       "  margin: 0.2em;\n",
       "  border-radius: 0.25em;\n",
       "  color: var(--sklearn-color-text);\n",
       "  /* unfitted */\n",
       "  background-color: var(--sklearn-color-unfitted-level-0);\n",
       "}\n",
       "\n",
       "#sk-container-id-1 div.sk-toggleable__content.fitted pre {\n",
       "  /* unfitted */\n",
       "  background-color: var(--sklearn-color-fitted-level-0);\n",
       "}\n",
       "\n",
       "#sk-container-id-1 input.sk-toggleable__control:checked~div.sk-toggleable__content {\n",
       "  /* Expand drop-down */\n",
       "  max-height: 200px;\n",
       "  max-width: 100%;\n",
       "  overflow: auto;\n",
       "}\n",
       "\n",
       "#sk-container-id-1 input.sk-toggleable__control:checked~label.sk-toggleable__label-arrow:before {\n",
       "  content: \"▾\";\n",
       "}\n",
       "\n",
       "/* Pipeline/ColumnTransformer-specific style */\n",
       "\n",
       "#sk-container-id-1 div.sk-label input.sk-toggleable__control:checked~label.sk-toggleable__label {\n",
       "  color: var(--sklearn-color-text);\n",
       "  background-color: var(--sklearn-color-unfitted-level-2);\n",
       "}\n",
       "\n",
       "#sk-container-id-1 div.sk-label.fitted input.sk-toggleable__control:checked~label.sk-toggleable__label {\n",
       "  background-color: var(--sklearn-color-fitted-level-2);\n",
       "}\n",
       "\n",
       "/* Estimator-specific style */\n",
       "\n",
       "/* Colorize estimator box */\n",
       "#sk-container-id-1 div.sk-estimator input.sk-toggleable__control:checked~label.sk-toggleable__label {\n",
       "  /* unfitted */\n",
       "  background-color: var(--sklearn-color-unfitted-level-2);\n",
       "}\n",
       "\n",
       "#sk-container-id-1 div.sk-estimator.fitted input.sk-toggleable__control:checked~label.sk-toggleable__label {\n",
       "  /* fitted */\n",
       "  background-color: var(--sklearn-color-fitted-level-2);\n",
       "}\n",
       "\n",
       "#sk-container-id-1 div.sk-label label.sk-toggleable__label,\n",
       "#sk-container-id-1 div.sk-label label {\n",
       "  /* The background is the default theme color */\n",
       "  color: var(--sklearn-color-text-on-default-background);\n",
       "}\n",
       "\n",
       "/* On hover, darken the color of the background */\n",
       "#sk-container-id-1 div.sk-label:hover label.sk-toggleable__label {\n",
       "  color: var(--sklearn-color-text);\n",
       "  background-color: var(--sklearn-color-unfitted-level-2);\n",
       "}\n",
       "\n",
       "/* Label box, darken color on hover, fitted */\n",
       "#sk-container-id-1 div.sk-label.fitted:hover label.sk-toggleable__label.fitted {\n",
       "  color: var(--sklearn-color-text);\n",
       "  background-color: var(--sklearn-color-fitted-level-2);\n",
       "}\n",
       "\n",
       "/* Estimator label */\n",
       "\n",
       "#sk-container-id-1 div.sk-label label {\n",
       "  font-family: monospace;\n",
       "  font-weight: bold;\n",
       "  display: inline-block;\n",
       "  line-height: 1.2em;\n",
       "}\n",
       "\n",
       "#sk-container-id-1 div.sk-label-container {\n",
       "  text-align: center;\n",
       "}\n",
       "\n",
       "/* Estimator-specific */\n",
       "#sk-container-id-1 div.sk-estimator {\n",
       "  font-family: monospace;\n",
       "  border: 1px dotted var(--sklearn-color-border-box);\n",
       "  border-radius: 0.25em;\n",
       "  box-sizing: border-box;\n",
       "  margin-bottom: 0.5em;\n",
       "  /* unfitted */\n",
       "  background-color: var(--sklearn-color-unfitted-level-0);\n",
       "}\n",
       "\n",
       "#sk-container-id-1 div.sk-estimator.fitted {\n",
       "  /* fitted */\n",
       "  background-color: var(--sklearn-color-fitted-level-0);\n",
       "}\n",
       "\n",
       "/* on hover */\n",
       "#sk-container-id-1 div.sk-estimator:hover {\n",
       "  /* unfitted */\n",
       "  background-color: var(--sklearn-color-unfitted-level-2);\n",
       "}\n",
       "\n",
       "#sk-container-id-1 div.sk-estimator.fitted:hover {\n",
       "  /* fitted */\n",
       "  background-color: var(--sklearn-color-fitted-level-2);\n",
       "}\n",
       "\n",
       "/* Specification for estimator info (e.g. \"i\" and \"?\") */\n",
       "\n",
       "/* Common style for \"i\" and \"?\" */\n",
       "\n",
       ".sk-estimator-doc-link,\n",
       "a:link.sk-estimator-doc-link,\n",
       "a:visited.sk-estimator-doc-link {\n",
       "  float: right;\n",
       "  font-size: smaller;\n",
       "  line-height: 1em;\n",
       "  font-family: monospace;\n",
       "  background-color: var(--sklearn-color-background);\n",
       "  border-radius: 1em;\n",
       "  height: 1em;\n",
       "  width: 1em;\n",
       "  text-decoration: none !important;\n",
       "  margin-left: 0.5em;\n",
       "  text-align: center;\n",
       "  /* unfitted */\n",
       "  border: var(--sklearn-color-unfitted-level-1) 1pt solid;\n",
       "  color: var(--sklearn-color-unfitted-level-1);\n",
       "}\n",
       "\n",
       ".sk-estimator-doc-link.fitted,\n",
       "a:link.sk-estimator-doc-link.fitted,\n",
       "a:visited.sk-estimator-doc-link.fitted {\n",
       "  /* fitted */\n",
       "  border: var(--sklearn-color-fitted-level-1) 1pt solid;\n",
       "  color: var(--sklearn-color-fitted-level-1);\n",
       "}\n",
       "\n",
       "/* On hover */\n",
       "div.sk-estimator:hover .sk-estimator-doc-link:hover,\n",
       ".sk-estimator-doc-link:hover,\n",
       "div.sk-label-container:hover .sk-estimator-doc-link:hover,\n",
       ".sk-estimator-doc-link:hover {\n",
       "  /* unfitted */\n",
       "  background-color: var(--sklearn-color-unfitted-level-3);\n",
       "  color: var(--sklearn-color-background);\n",
       "  text-decoration: none;\n",
       "}\n",
       "\n",
       "div.sk-estimator.fitted:hover .sk-estimator-doc-link.fitted:hover,\n",
       ".sk-estimator-doc-link.fitted:hover,\n",
       "div.sk-label-container:hover .sk-estimator-doc-link.fitted:hover,\n",
       ".sk-estimator-doc-link.fitted:hover {\n",
       "  /* fitted */\n",
       "  background-color: var(--sklearn-color-fitted-level-3);\n",
       "  color: var(--sklearn-color-background);\n",
       "  text-decoration: none;\n",
       "}\n",
       "\n",
       "/* Span, style for the box shown on hovering the info icon */\n",
       ".sk-estimator-doc-link span {\n",
       "  display: none;\n",
       "  z-index: 9999;\n",
       "  position: relative;\n",
       "  font-weight: normal;\n",
       "  right: .2ex;\n",
       "  padding: .5ex;\n",
       "  margin: .5ex;\n",
       "  width: min-content;\n",
       "  min-width: 20ex;\n",
       "  max-width: 50ex;\n",
       "  color: var(--sklearn-color-text);\n",
       "  box-shadow: 2pt 2pt 4pt #999;\n",
       "  /* unfitted */\n",
       "  background: var(--sklearn-color-unfitted-level-0);\n",
       "  border: .5pt solid var(--sklearn-color-unfitted-level-3);\n",
       "}\n",
       "\n",
       ".sk-estimator-doc-link.fitted span {\n",
       "  /* fitted */\n",
       "  background: var(--sklearn-color-fitted-level-0);\n",
       "  border: var(--sklearn-color-fitted-level-3);\n",
       "}\n",
       "\n",
       ".sk-estimator-doc-link:hover span {\n",
       "  display: block;\n",
       "}\n",
       "\n",
       "/* \"?\"-specific style due to the `<a>` HTML tag */\n",
       "\n",
       "#sk-container-id-1 a.estimator_doc_link {\n",
       "  float: right;\n",
       "  font-size: 1rem;\n",
       "  line-height: 1em;\n",
       "  font-family: monospace;\n",
       "  background-color: var(--sklearn-color-background);\n",
       "  border-radius: 1rem;\n",
       "  height: 1rem;\n",
       "  width: 1rem;\n",
       "  text-decoration: none;\n",
       "  /* unfitted */\n",
       "  color: var(--sklearn-color-unfitted-level-1);\n",
       "  border: var(--sklearn-color-unfitted-level-1) 1pt solid;\n",
       "}\n",
       "\n",
       "#sk-container-id-1 a.estimator_doc_link.fitted {\n",
       "  /* fitted */\n",
       "  border: var(--sklearn-color-fitted-level-1) 1pt solid;\n",
       "  color: var(--sklearn-color-fitted-level-1);\n",
       "}\n",
       "\n",
       "/* On hover */\n",
       "#sk-container-id-1 a.estimator_doc_link:hover {\n",
       "  /* unfitted */\n",
       "  background-color: var(--sklearn-color-unfitted-level-3);\n",
       "  color: var(--sklearn-color-background);\n",
       "  text-decoration: none;\n",
       "}\n",
       "\n",
       "#sk-container-id-1 a.estimator_doc_link.fitted:hover {\n",
       "  /* fitted */\n",
       "  background-color: var(--sklearn-color-fitted-level-3);\n",
       "}\n",
       "</style><div id=\"sk-container-id-1\" class=\"sk-top-container\"><div class=\"sk-text-repr-fallback\"><pre>Pipeline(steps=[(&#x27;feats&#x27;,\n",
       "                 FeatureUnion(transformer_list=[(&#x27;char_tfid&#x27;,\n",
       "                                                 TfidfVectorizer(analyzer=&#x27;char&#x27;,\n",
       "                                                                 max_df=0.85,\n",
       "                                                                 min_df=5,\n",
       "                                                                 ngram_range=(2,\n",
       "                                                                              7),\n",
       "                                                                 sublinear_tf=True)),\n",
       "                                                (&#x27;word_tfid&#x27;,\n",
       "                                                 TfidfVectorizer(max_df=0.85,\n",
       "                                                                 min_df=5,\n",
       "                                                                 ngram_range=(1,\n",
       "                                                                              3),\n",
       "                                                                 token_pattern=&#x27;\\\\b\\\\w+\\\\b|&lt;[^&gt;]+&gt;|[!&quot;#$%&amp;\\\\\\&#x27;()*+,\\\\-./:;&lt;=&gt;?@\\\\[\\\\]\\\\\\\\^—`\\\\{\\\\|\\\\}~]&#x27;))])),\n",
       "                (&#x27;svm&#x27;,\n",
       "                 LinearSVC(class_weight=&#x27;balanced&#x27;, max_iter=5000, verbose=5))],\n",
       "         verbose=True)</pre><b>In a Jupyter environment, please rerun this cell to show the HTML representation or trust the notebook. <br />On GitHub, the HTML representation is unable to render, please try loading this page with nbviewer.org.</b></div><div class=\"sk-container\" hidden><div class=\"sk-item sk-dashed-wrapped\"><div class=\"sk-label-container\"><div class=\"sk-label fitted sk-toggleable\"><input class=\"sk-toggleable__control sk-hidden--visually\" id=\"sk-estimator-id-1\" type=\"checkbox\" ><label for=\"sk-estimator-id-1\" class=\"sk-toggleable__label fitted sk-toggleable__label-arrow\"><div><div>Pipeline</div></div><div><a class=\"sk-estimator-doc-link fitted\" rel=\"noreferrer\" target=\"_blank\" href=\"https://scikit-learn.org/1.6/modules/generated/sklearn.pipeline.Pipeline.html\">?<span>Documentation for Pipeline</span></a><span class=\"sk-estimator-doc-link fitted\">i<span>Fitted</span></span></div></label><div class=\"sk-toggleable__content fitted\"><pre>Pipeline(steps=[(&#x27;feats&#x27;,\n",
       "                 FeatureUnion(transformer_list=[(&#x27;char_tfid&#x27;,\n",
       "                                                 TfidfVectorizer(analyzer=&#x27;char&#x27;,\n",
       "                                                                 max_df=0.85,\n",
       "                                                                 min_df=5,\n",
       "                                                                 ngram_range=(2,\n",
       "                                                                              7),\n",
       "                                                                 sublinear_tf=True)),\n",
       "                                                (&#x27;word_tfid&#x27;,\n",
       "                                                 TfidfVectorizer(max_df=0.85,\n",
       "                                                                 min_df=5,\n",
       "                                                                 ngram_range=(1,\n",
       "                                                                              3),\n",
       "                                                                 token_pattern=&#x27;\\\\b\\\\w+\\\\b|&lt;[^&gt;]+&gt;|[!&quot;#$%&amp;\\\\\\&#x27;()*+,\\\\-./:;&lt;=&gt;?@\\\\[\\\\]\\\\\\\\^—`\\\\{\\\\|\\\\}~]&#x27;))])),\n",
       "                (&#x27;svm&#x27;,\n",
       "                 LinearSVC(class_weight=&#x27;balanced&#x27;, max_iter=5000, verbose=5))],\n",
       "         verbose=True)</pre></div> </div></div><div class=\"sk-serial\"><div class=\"sk-item sk-dashed-wrapped\"><div class=\"sk-label-container\"><div class=\"sk-label fitted sk-toggleable\"><input class=\"sk-toggleable__control sk-hidden--visually\" id=\"sk-estimator-id-2\" type=\"checkbox\" ><label for=\"sk-estimator-id-2\" class=\"sk-toggleable__label fitted sk-toggleable__label-arrow\"><div><div>feats: FeatureUnion</div></div><div><a class=\"sk-estimator-doc-link fitted\" rel=\"noreferrer\" target=\"_blank\" href=\"https://scikit-learn.org/1.6/modules/generated/sklearn.pipeline.FeatureUnion.html\">?<span>Documentation for feats: FeatureUnion</span></a></div></label><div class=\"sk-toggleable__content fitted\"><pre>FeatureUnion(transformer_list=[(&#x27;char_tfid&#x27;,\n",
       "                                TfidfVectorizer(analyzer=&#x27;char&#x27;, max_df=0.85,\n",
       "                                                min_df=5, ngram_range=(2, 7),\n",
       "                                                sublinear_tf=True)),\n",
       "                               (&#x27;word_tfid&#x27;,\n",
       "                                TfidfVectorizer(max_df=0.85, min_df=5,\n",
       "                                                ngram_range=(1, 3),\n",
       "                                                token_pattern=&#x27;\\\\b\\\\w+\\\\b|&lt;[^&gt;]+&gt;|[!&quot;#$%&amp;\\\\\\&#x27;()*+,\\\\-./:;&lt;=&gt;?@\\\\[\\\\]\\\\\\\\^—`\\\\{\\\\|\\\\}~]&#x27;))])</pre></div> </div></div><div class=\"sk-parallel\"><div class=\"sk-parallel-item\"><div class=\"sk-item\"><div class=\"sk-label-container\"><div class=\"sk-label fitted sk-toggleable\"><label>char_tfid</label></div></div><div class=\"sk-serial\"><div class=\"sk-item\"><div class=\"sk-estimator fitted sk-toggleable\"><input class=\"sk-toggleable__control sk-hidden--visually\" id=\"sk-estimator-id-3\" type=\"checkbox\" ><label for=\"sk-estimator-id-3\" class=\"sk-toggleable__label fitted sk-toggleable__label-arrow\"><div><div>TfidfVectorizer</div></div><div><a class=\"sk-estimator-doc-link fitted\" rel=\"noreferrer\" target=\"_blank\" href=\"https://scikit-learn.org/1.6/modules/generated/sklearn.feature_extraction.text.TfidfVectorizer.html\">?<span>Documentation for TfidfVectorizer</span></a></div></label><div class=\"sk-toggleable__content fitted\"><pre>TfidfVectorizer(analyzer=&#x27;char&#x27;, max_df=0.85, min_df=5, ngram_range=(2, 7),\n",
       "                sublinear_tf=True)</pre></div> </div></div></div></div></div><div class=\"sk-parallel-item\"><div class=\"sk-item\"><div class=\"sk-label-container\"><div class=\"sk-label fitted sk-toggleable\"><label>word_tfid</label></div></div><div class=\"sk-serial\"><div class=\"sk-item\"><div class=\"sk-estimator fitted sk-toggleable\"><input class=\"sk-toggleable__control sk-hidden--visually\" id=\"sk-estimator-id-4\" type=\"checkbox\" ><label for=\"sk-estimator-id-4\" class=\"sk-toggleable__label fitted sk-toggleable__label-arrow\"><div><div>TfidfVectorizer</div></div><div><a class=\"sk-estimator-doc-link fitted\" rel=\"noreferrer\" target=\"_blank\" href=\"https://scikit-learn.org/1.6/modules/generated/sklearn.feature_extraction.text.TfidfVectorizer.html\">?<span>Documentation for TfidfVectorizer</span></a></div></label><div class=\"sk-toggleable__content fitted\"><pre>TfidfVectorizer(max_df=0.85, min_df=5, ngram_range=(1, 3),\n",
       "                token_pattern=&#x27;\\\\b\\\\w+\\\\b|&lt;[^&gt;]+&gt;|[!&quot;#$%&amp;\\\\\\&#x27;()*+,\\\\-./:;&lt;=&gt;?@\\\\[\\\\]\\\\\\\\^—`\\\\{\\\\|\\\\}~]&#x27;)</pre></div> </div></div></div></div></div></div></div><div class=\"sk-item\"><div class=\"sk-estimator fitted sk-toggleable\"><input class=\"sk-toggleable__control sk-hidden--visually\" id=\"sk-estimator-id-5\" type=\"checkbox\" ><label for=\"sk-estimator-id-5\" class=\"sk-toggleable__label fitted sk-toggleable__label-arrow\"><div><div>LinearSVC</div></div><div><a class=\"sk-estimator-doc-link fitted\" rel=\"noreferrer\" target=\"_blank\" href=\"https://scikit-learn.org/1.6/modules/generated/sklearn.svm.LinearSVC.html\">?<span>Documentation for LinearSVC</span></a></div></label><div class=\"sk-toggleable__content fitted\"><pre>LinearSVC(class_weight=&#x27;balanced&#x27;, max_iter=5000, verbose=5)</pre></div> </div></div></div></div></div></div>"
      ]
     },
     "execution_count": 12,
     "metadata": {},
     "output_type": "execute_result"
    }
   ],
   "execution_count": 12
  },
  {
   "metadata": {
    "ExecuteTime": {
     "end_time": "2025-09-16T22:29:10.430939Z",
     "start_time": "2025-09-16T22:28:12.380760Z"
    }
   },
   "cell_type": "code",
   "source": [
    "y_pred = svm_pipe.predict(X_test)\n",
    "print(\"SVM report:\\n\", classification_report(y_test, y_pred, digits=3))"
   ],
   "id": "114fe1cb0da6543d",
   "outputs": [
    {
     "name": "stdout",
     "output_type": "stream",
     "text": [
      "SVM report:\n",
      "               precision    recall  f1-score   support\n",
      "\n",
      "           0      0.995     0.998     0.996     23755\n",
      "           1      0.999     0.996     0.997     30473\n",
      "\n",
      "    accuracy                          0.997     54228\n",
      "   macro avg      0.997     0.997     0.997     54228\n",
      "weighted avg      0.997     0.997     0.997     54228\n",
      "\n"
     ]
    }
   ],
   "execution_count": 18
  },
  {
   "metadata": {
    "ExecuteTime": {
     "end_time": "2025-09-16T20:29:47.623983Z",
     "start_time": "2025-09-16T20:29:47.615846Z"
    }
   },
   "cell_type": "code",
   "source": [
    "print(\"This is malicious\", svm_pipe.predict(\n",
    "    [\"\"\"\"<p>Este es un parrafo en html</p> y ahora trae un suculento xss donde este texto es algo grande o suficientemente gigante como para evadir el modelo, será cierto eso? o podré seguir escribiendo texto acá? <script>alert(1)</script>\"\"\"]))\n"
   ],
   "id": "e1c9e9dc10be3f3e",
   "outputs": [
    {
     "name": "stdout",
     "output_type": "stream",
     "text": [
      "This is benign [1]\n"
     ]
    }
   ],
   "execution_count": 24
  },
  {
   "metadata": {
    "ExecuteTime": {
     "end_time": "2025-09-16T19:44:23.778290Z",
     "start_time": "2025-09-16T19:44:23.772539Z"
    }
   },
   "cell_type": "code",
   "source": "print(\"This is malicious\", svm_pipe.predict([\"<a onblur=alert(1) tabindex=1 id=x></a><input autofocus>\"]))",
   "id": "b635246f30a6f422",
   "outputs": [
    {
     "name": "stdout",
     "output_type": "stream",
     "text": [
      "This is malicious [1]\n"
     ]
    }
   ],
   "execution_count": 21
  },
  {
   "metadata": {
    "ExecuteTime": {
     "end_time": "2025-09-16T20:30:39.368478Z",
     "start_time": "2025-09-16T20:30:39.361143Z"
    }
   },
   "cell_type": "code",
   "source": [
    "print(\"This is benign???? (inserted some bad code)\", svm_pipe.predict(\n",
    "    [\"\"\"Hola! Me da gusto saber de ti y de todos los siguientes: Juan, Paco, Pedro y este es otro texto bien Paquito y el t0x1c en l33tc0d3 <script>alert('XSS3')</script>\"\"\"]))"
   ],
   "id": "644a22a6291a4cc3",
   "outputs": [
    {
     "name": "stdout",
     "output_type": "stream",
     "text": [
      "This is benign???? (inserted some bad code) [1]\n"
     ]
    }
   ],
   "execution_count": 29
  },
  {
   "metadata": {
    "ExecuteTime": {
     "end_time": "2025-09-16T22:51:43.736336Z",
     "start_time": "2025-09-16T22:51:43.732969Z"
    }
   },
   "cell_type": "code",
   "source": [
    "## Save/Load Functions\n",
    "def save_model(path: str, pipeline: Pipeline, metadata: dict) -> None:\n",
    "    joblib.dump({\"model\": pipeline, \"metadata\": metadata}, path, compress=(\"lzma\", 3))\n",
    "    print(f\"Model saved in : {path}\")\n",
    "\n",
    "\n",
    "def load_model(path: str):\n",
    "    return joblib.load(path)\n"
   ],
   "id": "51f52f7ce8b8ce54",
   "outputs": [],
   "execution_count": 8
  },
  {
   "metadata": {
    "ExecuteTime": {
     "end_time": "2025-09-16T22:51:53.647898Z",
     "start_time": "2025-09-16T22:51:44.629368Z"
    }
   },
   "cell_type": "code",
   "source": [
    "# Save/load the trained model\n",
    "model_path = \"models/svm_tfidf_linearSVC.joblib\"\n",
    "\n",
    "# metadata = {\n",
    "#     \"sklearn_version\": sk_version,\n",
    "#     \"created_at\": time.strftime(\"%Y-%m-%d %H:%M\"),\n",
    "#     \"model_type\": \"Pipeline(FeatureUnion(TfidfVectorizer char + word) -> LinearSVC)\",\n",
    "#     \"classes_\": svm_pipe.named_steps[\"svm\"].classes_.tolist(),\n",
    "#     \"params\": svm_pipe.get_params(deep=False),\n",
    "# }\n",
    "# save_model(path=model_path, pipeline=svm_pipe, metadata=metadata)\n",
    "\n",
    "# Load the trained model\n",
    "loaded_model = load_model(path=model_path)\n",
    "\n",
    "# temporary hack\n",
    "\n",
    "svm_pipe = loaded_model[\"model\"]\n",
    "\n"
   ],
   "id": "dc30e03272a4ec9a",
   "outputs": [],
   "execution_count": 9
  },
  {
   "metadata": {
    "ExecuteTime": {
     "end_time": "2025-09-16T20:36:32.960714Z",
     "start_time": "2025-09-16T20:36:32.848817Z"
    }
   },
   "cell_type": "code",
   "source": [
    "# Plotting data\n",
    "sns.set_theme(context=\"notebook\", style=\"whitegrid\")\n",
    "\n",
    "fig, ax = plt.subplots(figsize=(5, 4))\n",
    "ConfusionMatrixDisplay.from_predictions(\n",
    "    y_test, y_pred, normalize=\"true\", values_format=\".2f\", cmap=\"Blues\", ax=ax\n",
    ")\n",
    "ax.set_title(\"LinearSVC — Matriz de confusión (normalizada)\")\n",
    "plt.tight_layout()\n"
   ],
   "id": "3aaddab92513559e",
   "outputs": [
    {
     "data": {
      "text/plain": [
       "<Figure size 500x400 with 2 Axes>"
      ],
      "image/png": "[encoded data removed]"
     },
     "metadata": {},
     "output_type": "display_data",
     "jetTransient": {
      "display_id": null
     }
    }
   ],
   "execution_count": 37
  },
  {
   "metadata": {
    "ExecuteTime": {
     "end_time": "2025-09-16T20:42:44.365453Z",
     "start_time": "2025-09-16T20:41:41.055485Z"
    }
   },
   "cell_type": "code",
   "source": [
    "# --- 2) Curvas ROC y PR usando decision_function---\n",
    "scores = svm_pipe.decision_function(X_test)  # márgenes\n",
    "fpr, tpr, _ = roc_curve(y_test, scores, pos_label=1)\n",
    "roc_auc = roc_auc_score(y_test, scores)\n",
    "prec, rec, _ = precision_recall_curve(y_test, scores, pos_label=1)\n",
    "ap = average_precision_score(y_test, scores)\n",
    "\n",
    "fig, axes = plt.subplots(1, 2, figsize=(10, 4))\n",
    "axes[0].plot(fpr, tpr, label=f\"AUC = {roc_auc:.4f}\")\n",
    "axes[0].plot([0, 1], [0, 1], \"--\", color=\"gray\")\n",
    "axes[0].set(title=\"ROC\", xlabel=\"FPR\", ylabel=\"TPR\");\n",
    "axes[0].legend()\n",
    "\n",
    "axes[1].plot(rec, prec, label=f\"AP = {ap:.4f}\")\n",
    "axes[1].set(title=\"Precision–Recall\", xlabel=\"Recall\", ylabel=\"Precision\");\n",
    "axes[1].legend()\n",
    "plt.tight_layout()"
   ],
   "id": "ecd170e066c1d0e6",
   "outputs": [
    {
     "data": {
      "text/plain": [
       "<Figure size 1000x400 with 2 Axes>"
      ],
      "image/png": "[encoded data removed]"
     },
     "metadata": {},
     "output_type": "display_data",
     "jetTransient": {
      "display_id": null
     }
    }
   ],
   "execution_count": 40
  },
  {
   "metadata": {
    "ExecuteTime": {
     "end_time": "2025-09-16T23:27:19.636793Z",
     "start_time": "2025-09-16T22:52:20.049533Z"
    }
   },
   "cell_type": "code",
   "source": [
    "# --- 3) Curva de aprendizaje (¿sobre-ajuste/sub-ajuste y beneficio de más datos?) ---\n",
    "# Métrica: f1_weighted (útil con clases desbalanceadas)\n",
    "\n",
    "cv = StratifiedKFold(n_splits=3, shuffle=True, random_state=42)\n",
    "\n",
    "train_sizes, train_scores, valid_scores = learning_curve(\n",
    "    svm_pipe, X_train, y_train,\n",
    "    train_sizes=np.linspace(0.2, 1.0, 4),\n",
    "    cv=cv, n_jobs=2, scoring=\"f1_weighted\"\n",
    ")\n",
    "\n",
    "train_mean, train_std = train_scores.mean(axis=1), train_scores.std(axis=1)\n",
    "valid_mean, valid_std = valid_scores.mean(axis=1), valid_scores.std(axis=1)\n",
    "\n",
    "fig, ax = plt.subplots(figsize=(6, 4))\n",
    "ax.plot(train_sizes, train_mean, \"o-\", label=\"train\")\n",
    "ax.fill_between(train_sizes, train_mean - train_std, train_mean + train_std, alpha=.2)\n",
    "ax.plot(train_sizes, valid_mean, \"o-\", label=\"cv\")\n",
    "ax.fill_between(train_sizes, valid_mean - valid_std, valid_mean + valid_std, alpha=.2)\n",
    "ax.set(title=\"Curva de aprendizaje (f1_weighted)\", xlabel=\"# ejemplos de entrenamiento\", ylabel=\"score\")\n",
    "ax.legend()\n",
    "plt.tight_layout()"
   ],
   "id": "b2a23ad1d6cd6f10",
   "outputs": [
    {
     "name": "stdout",
     "output_type": "stream",
     "text": [
      "[Pipeline] ............. (step 1 of 2) Processing feats, total=  42.0s\n",
      "[LibLinear]....*\n",
      "optimization finished, #iter = 47\n",
      "Objective value = -433.309377\n",
      "nSV = 6191\n",
      "[Pipeline] ............... (step 2 of 2) Processing svm, total=   2.3s\n",
      "[Pipeline] ............. (step 1 of 2) Processing feats, total= 1.6min\n",
      "[LibLinear].....*\n",
      "optimization finished, #iter = 54\n",
      "Objective value = -796.285693\n",
      "nSV = 11408\n",
      "[Pipeline] ............... (step 2 of 2) Processing svm, total=   7.8s\n",
      "[Pipeline] ............. (step 1 of 2) Processing feats, total= 2.6min\n",
      "[LibLinear].....*\n",
      "optimization finished, #iter = 54\n",
      "Objective value = -1058.558613\n",
      "nSV = 15040\n",
      "[Pipeline] ............... (step 2 of 2) Processing svm, total=  11.8s\n",
      "[Pipeline] ............. (step 1 of 2) Processing feats, total= 3.7min\n",
      "[LibLinear].....*\n",
      "optimization finished, #iter = 54\n",
      "Objective value = -1298.088303\n",
      "nSV = 18218\n",
      "[Pipeline] ............... (step 2 of 2) Processing svm, total=  17.2s\n",
      "[Pipeline] ............. (step 1 of 2) Processing feats, total=  45.9s\n",
      "[LibLinear].....*\n",
      "optimization finished, #iter = 54\n",
      "Objective value = -427.579319\n",
      "nSV = 6200\n",
      "[Pipeline] ............... (step 2 of 2) Processing svm, total=   2.5s\n",
      "[Pipeline] ............. (step 1 of 2) Processing feats, total= 1.7min\n",
      "[LibLinear].....*.\n",
      "optimization finished, #iter = 60\n",
      "Objective value = -783.768300\n",
      "nSV = 11205\n",
      "[Pipeline] ............... (step 2 of 2) Processing svm, total=   6.9s\n",
      "[Pipeline] ............. (step 1 of 2) Processing feats, total= 2.7min\n",
      "[LibLinear].....*\n",
      "optimization finished, #iter = 59\n",
      "Objective value = -1048.115857\n",
      "nSV = 15067\n",
      "[Pipeline] ............... (step 2 of 2) Processing svm, total=  11.3s\n",
      "[Pipeline] ............. (step 1 of 2) Processing feats, total= 3.6min\n",
      "[LibLinear].....*\n",
      "optimization finished, #iter = 59\n",
      "Objective value = -1281.550389\n",
      "nSV = 18362\n",
      "[Pipeline] ............... (step 2 of 2) Processing svm, total=  17.9s\n",
      "[Pipeline] ............. (step 1 of 2) Processing feats, total=  43.3s\n",
      "[LibLinear]....*\n",
      "optimization finished, #iter = 49\n",
      "Objective value = -420.601295\n",
      "nSV = 6090\n",
      "[Pipeline] ............... (step 2 of 2) Processing svm, total=   2.3s\n",
      "[Pipeline] ............. (step 1 of 2) Processing feats, total= 1.7min\n",
      "[LibLinear].....*\n",
      "optimization finished, #iter = 59\n",
      "Objective value = -769.628959\n",
      "nSV = 10964\n",
      "[Pipeline] ............... (step 2 of 2) Processing svm, total=   6.5s\n",
      "[Pipeline] ............. (step 1 of 2) Processing feats, total= 2.6min\n",
      "[LibLinear].....*\n",
      "optimization finished, #iter = 58\n",
      "Objective value = -1037.407905\n",
      "nSV = 14647\n",
      "[Pipeline] ............... (step 2 of 2) Processing svm, total=  11.3s\n",
      "[Pipeline] ............. (step 1 of 2) Processing feats, total= 3.6min\n",
      "[LibLinear].....*.\n",
      "optimization finished, #iter = 60\n",
      "Objective value = -1295.421189\n",
      "nSV = 18052\n",
      "[Pipeline] ............... (step 2 of 2) Processing svm, total=  19.1s\n"
     ]
    },
    {
     "data": {
      "text/plain": [
       "<Figure size 600x400 with 1 Axes>"
      ],
      "image/png": "[encoded data removed]"
     },
     "metadata": {},
     "output_type": "display_data",
     "jetTransient": {
      "display_id": null
     }
    }
   ],
   "execution_count": 10
  },
  {
   "metadata": {},
   "cell_type": "code",
   "outputs": [],
   "execution_count": null,
   "source": "",
   "id": "407eda37b25c252c"
  }
 ],
 "metadata": {
  "kernelspec": {
   "name": "python3",
   "language": "python",
   "display_name": "Python 3 (ipykernel)"
  }
 },
 "nbformat": 4,
 "nbformat_minor": 5
}
