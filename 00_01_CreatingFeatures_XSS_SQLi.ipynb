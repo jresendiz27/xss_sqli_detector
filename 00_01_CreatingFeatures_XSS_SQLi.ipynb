{
 "cells": [
  {
   "cell_type": "markdown",
   "metadata": {
    "id": "view-in-github",
    "colab_type": "text"
   },
   "source": [
    "<a href=\"https://colab.research.google.com/github/jresendiz27/xss_sqli_detector/blob/main/00_01_CreatingFeatures_XSS_SQLi.ipynb\" target=\"_parent\"><img src=\"https://colab.research.google.com/assets/colab-badge.svg\" alt=\"Open In Colab\"/></a>"
   ],
   "id": "238a8a3e3bde0c54"
  },
  {
   "metadata": {
    "id": "119da47744d512a2"
   },
   "cell_type": "markdown",
   "source": [
    "# Starting the Feature Creation (dataset level)"
   ],
   "id": "119da47744d512a2"
  },
  {
   "metadata": {
    "id": "88d6a306e7ce03f5"
   },
   "cell_type": "markdown",
   "source": [
    "### Now, let's start creating some features!\n",
    "We will take some inspiration on the OWASP coreruleset repository for diagnosing XSS and SQLi injection attacks\n",
    "They provide some configurations for apache just as a plug-n-play and reject requests based on certain regexes.\n",
    "* [Corerules XSS configurations](https://github.com/coreruleset/coreruleset/blob/main/rules/REQUEST-941-APPLICATION-ATTACK-XSS.conf)\n",
    "* [Corerules SQLi configurations](https://github.com/coreruleset/coreruleset/blob/main/rules/REQUEST-942-APPLICATION-ATTACK-SQLI.conf)\n",
    "\n",
    "\n",
    "Using those rules, we will create features for the dataset and update it as needed"
   ],
   "id": "88d6a306e7ce03f5"
  },
  {
   "cell_type": "code",
   "source": [
    "# Install extra dependencies\n",
    "# !pip install libinjection-python"
   ],
   "metadata": {
    "colab": {
     "base_uri": "https://localhost:8080/"
    },
    "id": "izkfx_sp3E3e",
    "outputId": "8470a461-c34d-4a58-fcb2-28b330988390"
   },
   "id": "izkfx_sp3E3e",
   "execution_count": 5,
   "outputs": [
    {
     "output_type": "stream",
     "name": "stdout",
     "text": [
      "Collecting libinjection-python\n",
      "  Downloading libinjection-python-1.1.6.tar.gz (174 kB)\n",
      "\u001B[?25l     \u001B[90m━━━━━━━━━━━━━━━━━━━━━━━━━━━━━━━━━━━━━━━━\u001B[0m \u001B[32m0.0/174.0 kB\u001B[0m \u001B[31m?\u001B[0m eta \u001B[36m-:--:--\u001B[0m\r\u001B[2K     \u001B[91m━━━━━━━━━━━━━━━━━━━━━━━━━━━━━━━━━━━━\u001B[0m\u001B[91m╸\u001B[0m\u001B[90m━━\u001B[0m \u001B[32m163.8/174.0 kB\u001B[0m \u001B[31m4.7 MB/s\u001B[0m eta \u001B[36m0:00:01\u001B[0m\r\u001B[2K     \u001B[90m━━━━━━━━━━━━━━━━━━━━━━━━━━━━━━━━━━━━━━━\u001B[0m \u001B[32m174.0/174.0 kB\u001B[0m \u001B[31m3.4 MB/s\u001B[0m eta \u001B[36m0:00:00\u001B[0m\n",
      "\u001B[?25h  Installing build dependencies ... \u001B[?25l\u001B[?25hdone\n",
      "  Getting requirements to build wheel ... \u001B[?25l\u001B[?25hdone\n",
      "  Preparing metadata (pyproject.toml) ... \u001B[?25l\u001B[?25hdone\n",
      "Building wheels for collected packages: libinjection-python\n",
      "  Building wheel for libinjection-python (pyproject.toml) ... \u001B[?25l\u001B[?25hdone\n",
      "  Created wheel for libinjection-python: filename=libinjection_python-1.1.6-cp312-cp312-linux_x86_64.whl size=251567 sha256=e6c16c2806dd934d227a679b118f788124054c03a85ad3f0d8931bcc980b98ad\n",
      "  Stored in directory: /root/.cache/pip/wheels/b5/a2/0f/eb48da355b19a32635f793215e5d5908b072f7dc951e9fe295\n",
      "Successfully built libinjection-python\n",
      "Installing collected packages: libinjection-python\n",
      "Successfully installed libinjection-python-1.1.6\n"
     ]
    }
   ]
  },
  {
   "metadata": {
    "id": "b091ae02ae3491a7",
    "ExecuteTime": {
     "end_time": "2025-09-10T19:44:50.951300Z",
     "start_time": "2025-09-10T19:44:50.945631Z"
    }
   },
   "cell_type": "code",
   "source": [
    "# Basic imports\n",
    "import re\n",
    "from urllib.parse import parse_qsl, unquote_plus\n",
    "import seaborn as sns\n",
    "import matplotlib.pyplot as plt\n",
    "import pandas as pd\n",
    "import libinjection\n",
    "\n",
    "# Adjusting for localhost or google colab\n",
    "STORAGE_PATH = './datasets/raw'\n",
    "try:\n",
    "    from google.colab import drive\n",
    "\n",
    "    drive.mount('/content/drive')\n",
    "    STORAGE_PATH = '/content/drive/MyDrive/xss_sqli_detector/datasets'\n",
    "except:\n",
    "    print('Not running on Google Colab')\n",
    "\n",
    "XSS_SQLI_CONDENSED_DATASET_PATH = f'{STORAGE_PATH}/xss_sqli_condensed.csv'"
   ],
   "id": "b091ae02ae3491a7",
   "outputs": [
    {
     "name": "stdout",
     "output_type": "stream",
     "text": [
      "Not running on Google Colab\n"
     ]
    }
   ],
   "execution_count": 1
  },
  {
   "metadata": {
    "id": "f4752c0e6e5c9600",
    "ExecuteTime": {
     "end_time": "2025-09-10T19:45:10.319394Z",
     "start_time": "2025-09-10T19:45:09.134293Z"
    }
   },
   "cell_type": "code",
   "source": [
    "df_xss_sqli = pd.read_csv(XSS_SQLI_CONDENSED_DATASET_PATH)"
   ],
   "id": "f4752c0e6e5c9600",
   "outputs": [],
   "execution_count": 2
  },
  {
   "cell_type": "code",
   "source": [
    "df_xss_sqli.info()"
   ],
   "metadata": {
    "colab": {
     "base_uri": "https://localhost:8080/"
    },
    "id": "w3SDOXcCueRS",
    "outputId": "f877c6ba-50a8-4084-d80e-aa07c115ff1d"
   },
   "id": "w3SDOXcCueRS",
   "execution_count": 4,
   "outputs": [
    {
     "output_type": "stream",
     "name": "stdout",
     "text": [
      "<class 'pandas.core.frame.DataFrame'>\n",
      "RangeIndex: 273705 entries, 0 to 273704\n",
      "Data columns (total 4 columns):\n",
      " #   Column        Non-Null Count   Dtype \n",
      "---  ------        --------------   ----- \n",
      " 0   payload       273704 non-null  object\n",
      " 1   label         273705 non-null  int64 \n",
      " 2   attack_label  273705 non-null  object\n",
      " 3   type          273705 non-null  object\n",
      "dtypes: int64(1), object(3)\n",
      "memory usage: 8.4+ MB\n"
     ]
    }
   ]
  },
  {
   "cell_type": "code",
   "source": [
    "## Creating new features for XSS considering CoreRulesSet Regexes for XSS/SQLi\n",
    "## XSS Related\n",
    "df_xss_sqli['contains_http'] = df_xss_sqli['payload'].str.contains(r'(?i)\\b(?:https?:)?//[^\\s\"\\'<>()]+', case=False,\n",
    "                                                                   regex=True)\n",
    "df_xss_sqli['contains_script_tag'] = df_xss_sqli['payload'].str.contains(r'(?i)<script[^>]*>[\\s\\S]*?', case=False,\n",
    "                                                                         regex=True)\n",
    "df_xss_sqli['contains_external_payloads'] = df_xss_sqli['payload'].str.contains(\n",
    "    r'(?i).(?:\\b(?:(?:x(?:link:href|html|mlns)|data:text/html|formaction)\\b|pattern[\\s\\x0b]*=)|(?:!ENTITY[\\s\\x0b]+(?:%[\\s\\x0b]+)?[^\\s\\x0b]+[\\s\\x0b]+(?:SYSTEM|PUBLIC)|@import|;base64)\\b)',\n",
    "    case=False, regex=True)\n",
    "df_xss_sqli['contains_javascript_uri'] = df_xss_sqli['payload'].str.contains(\n",
    "    r'(?i)[a-z]+=(?:[^:=]+:.+;)*?[^:=]+:url\\(javascript', case=False, regex=True)\n",
    "df_xss_sqli['contains_html_injection'] = df_xss_sqli['payload'].str.contains(\n",
    "    r'(?i)<[^0-9<>A-Z_a-z]*(?:[^\\s\\x0b\\\"\\'<>]*:)?[^0-9<>A-Z_a-z]*[^0-9A-Z_a-z]*?(?:s[^0-9A-Z_a-z]*?(?:c[^0-9A-Z_a-z]*?r[^0-9A-Z_a-z]*?i[^0-9A-Z_a-z]*?p[^0-9A-Z_a-z]*?t|t[^0-9A-Z_a-z]*?y[^0-9A-Z_a-z]*?l[^0-9A-Z_a-z]*?e|v[^0-9A-Z_a-z]*?g|e[^0-9A-Z_a-z]*?t[^0-9>A-Z_a-z])|f[^0-9A-Z_a-z]*?o[^0-9A-Z_a-z]*?r[^0-9A-Z_a-z]*?m|d[^0-9A-Z_a-z]*?i[^0-9A-Z_a-z]*?a[^0-9A-Z_a-z]*?l[^0-9A-Z_a-z]*?o[^0-9A-Z_a-z]*?g|m[^0-9A-Z_a-z]*?(?:a[^0-9A-Z_a-z]*?r[^0-9A-Z_a-z]*?q[^0-9A-Z_a-z]*?u[^0-9A-Z_a-z]*?e[^0-9A-Z_a-z]*?e|e[^0-9A-Z_a-z]*?t[^0-9A-Z_a-z]*?a[^0-9>A-Z_a-z])|(?:l[^0-9A-Z_a-z]*?i[^0-9A-Z_a-z]*?n[^0-9A-Z_a-z]*?k|o[^0-9A-Z_a-z]*?b[^0-9A-Z_a-z]*?j[^0-9A-Z_a-z]*?e[^0-9A-Z_a-z]*?c[^0-9A-Z_a-z]*?t|e[^0-9A-Z_a-z]*?m[^0-9A-Z_a-z]*?b[^0-9A-Z_a-z]*?e[^0-9A-Z_a-z]*?d|a[^0-9A-Z_a-z]*?(?:p[^0-9A-Z_a-z]*?p[^0-9A-Z_a-z]*?l[^0-9A-Z_a-z]*?e[^0-9A-Z_a-z]*?t|u[^0-9A-Z_a-z]*?d[^0-9A-Z_a-z]*?i[^0-9A-Z_a-z]*?o|n[^0-9A-Z_a-z]*?i[^0-9A-Z_a-z]*?m[^0-9A-Z_a-z]*?a[^0-9A-Z_a-z]*?t[^0-9A-Z_a-z]*?e)|p[^0-9A-Z_a-z]*?a[^0-9A-Z_a-z]*?r[^0-9A-Z_a-z]*?a[^0-9A-Z_a-z]*?m|i?[^0-9A-Z_a-z]*?f[^0-9A-Z_a-z]*?r[^0-9A-Z_a-z]*?a[^0-9A-Z_a-z]*?m[^0-9A-Z_a-z]*?e|b[^0-9A-Z_a-z]*?(?:a[^0-9A-Z_a-z]*?s[^0-9A-Z_a-z]*?e|o[^0-9A-Z_a-z]*?d[^0-9A-Z_a-z]*?y|i[^0-9A-Z_a-z]*?n[^0-9A-Z_a-z]*?d[^0-9A-Z_a-z]*?i[^0-9A-Z_a-z]*?n[^0-9A-Z_a-z]*?g[^0-9A-Z_a-z]*?s)|i[^0-9A-Z_a-z]*?m[^0-9A-Z_a-z]*?a?[^0-9A-Z_a-z]*?g[^0-9A-Z_a-z]*?e?|v[^0-9A-Z_a-z]*?i[^0-9A-Z_a-z]*?d[^0-9A-Z_a-z]*?e[^0-9A-Z_a-z]*?o)[^0-9>A-Z_a-z])|(?:<[0-9A-Z_a-z][^\\s\\x0b/]*[\\s\\x0b/]|[\\\"\\'](?:[^\\s\\x0b/]*[\\s\\x0b/])?)(?:background|formaction|lowsrc|on(?:a(?:bort|ctivate|d(?:apteradded|dtrack)|fter(?:print|(?:scriptexecu|upda)te)|lerting|n(?:imation(?:cancel|end|iteration|start)|tennastatechange)|ppcommand|u(?:dio(?:end|process|start)|xclick))|b(?:e(?:fore(?:(?:(?:(?:de)?activa|scriptexecu)t|toggl)e|c(?:opy|ut)|editfocus|input|p(?:aste|rint)|u(?:nload|pdate))|gin(?:Event)?)|l(?:ocked|ur)|oun(?:ce|dary)|roadcast|usy)|c(?:a(?:(?:ch|llschang)ed|nplay(?:through)?|rdstatechange)|(?:ell|fstate)change|h(?:a(?:rging(?:time)?cha)?nge|ecking)|l(?:ick|ose)|o(?:m(?:mand(?:update)?|p(?:lete|osition(?:end|start|update)))|n(?:nect(?:ed|ing)|t(?:extmenu|rolselect))|py)|u(?:echange|t))|d(?:ata(?:(?:availabl|chang)e|error|setc(?:hanged|omplete))|blclick|e(?:activate|livery(?:error|success)|vice(?:found|light|(?:mo|orienta)tion|proximity))|i(?:aling|s(?:abled|c(?:hargingtimechange|onnect(?:ed|ing))))|o(?:m(?:a(?:ctivate|ttrmodified)|(?:characterdata|subtree)modified|focus(?:in|out)|mousescroll|node(?:inserted(?:intodocument)?|removed(?:fromdocument)?))|wnloading)|r(?:ag(?:drop|e(?:n(?:d|ter)|xit)|(?:gestur|leav)e|over|start)|op)|urationchange)|e(?:mptied|n(?:abled|d(?:ed|Event)?|ter)|rror(?:update)?|xit)|f(?:ailed|i(?:lterchange|nish)|o(?:cus(?:in|out)?|rm(?:change|input))|ullscreenchange)|g(?:amepad(?:axismove|button(?:down|up)|(?:dis)?connected)|et)|h(?:ashchange|e(?:adphoneschange|l[dp])|olding)|i(?:cc(?:cardlockerror|infochange)|n(?:coming|put|valid))|key(?:down|press|up)|l(?:evelchange|o(?:ad(?:e(?:d(?:meta)?data|nd)|start)?|secapture)|y)|m(?:ark|essage|o(?:use(?:down|enter|(?:lea|mo)ve|o(?:ut|ver)|up|wheel)|ve(?:end|start)?|z(?:a(?:fterpaint|udioavailable)|(?:beforeresiz|orientationchang|t(?:apgestur|imechang))e|(?:edgeui(?:c(?:ancel|omplet)|start)e|network(?:down|up)loa)d|fullscreen(?:change|error)|m(?:agnifygesture(?:start|update)?|ouse(?:hittest|pixelscroll))|p(?:ointerlock(?:change|error)|resstapgesture)|rotategesture(?:start|update)?|s(?:crolledareachanged|wipegesture(?:end|start|update)?))))|no(?:match|update)|o(?:(?:bsolet|(?:ff|n)lin)e|pen|verflow(?:changed)?)|p(?:a(?:ge(?:hide|show)|int|(?:st|us)e)|lay(?:ing)?|o(?:inter(?:down|enter|(?:(?:lea|mo)v|rawupdat)e|o(?:ut|ver)|up)|p(?:state|up(?:hid(?:den|ing)|show(?:ing|n))))|ro(?:gress|pertychange))|r(?:atechange|e(?:adystatechange|ceived|movetrack|peat(?:Event)?|quest|s(?:et|ize|u(?:lt|m(?:e|ing)))|trieving)|ow(?:e(?:nter|xit)|s(?:delete|inserted)))|s(?:croll(?:end)?|e(?:arch|ek(?:complete|ed|ing)|lect(?:ionchange|start)?|n(?:ding|t)|t)|how|(?:ound|peech)(?:end|start)|t(?:a(?:lled|rt|t(?:echange|uschanged))|k(?:comma|sessione)nd|op)|u(?:bmit|ccess|spend)|vg(?:abort|error|(?:un)?load|resize|scroll|zoom))|t(?:ext|ime(?:out|update)|o(?:ggle|uch(?:cancel|en(?:d|ter)|(?:lea|mo)ve|start))|ransition(?:cancel|end|run|start))|u(?:n(?:derflow|handledrejection|load)|p(?:dateready|gradeneeded)|s(?:erproximity|sdreceived))|v(?:ersion|o(?:ic|lum)e)change|w(?:a(?:it|rn)ing|ebkit(?:animation(?:end|iteration|start)|(?:playbacktargetavailabilitychange|transitionen)d)|heel)|zoom)|ping|s(?:rc|tyle))[\\x08-\\n\\f\\r ]*?=',\n",
    "    case=False, regex=True)\n",
    "df_xss_sqli['contains_attribute_injection'] = df_xss_sqli['payload'].str.contains(\n",
    "    r'(?i)(?:\\W|^)(?:javascript:(?:[\\s\\S]+[=\\x5c\\(\\[\\.<]|[\\s\\S]*?(?:\\bname\\b|\\x5c[ux]\\d))|data:(?:(?:[a-z]\\w+/\\w[\\w+-]+\\w)?[;,]|[\\s\\S]*?;[\\s\\S]*?\\b(?:base64|charset=)|[\\s\\S]*?,[\\s\\S]*?<[\\s\\S]*?\\w[\\s\\S]*?>))|@\\W*?i\\W*?m\\W*?p\\W*?o\\W*?r\\W*?t\\W*?(?:/\\*[\\s\\S]*?)?(?:[\\\"\\']|\\W*?u\\W*?r\\W*?l[\\s\\S]*?\\()|[^-]*?-\\W*?m\\W*?o\\W*?z\\W*?-\\W*?b\\W*?i\\W*?n\\W*?d\\W*?i\\W*?n\\W*?g[^:]*?:\\W*?u\\W*?r\\\\',\n",
    "    case=False, regex=True)\n",
    "df_xss_sqli['contains_cookie_related'] = df_xss_sqli['payload'].str.contains(\n",
    "    r'(?:document\\.cookie|document\\.domain|document\\.querySelector|document\\.body\\.appendChild|document\\.write|\\.parentnode|\\.innerhtml|window\\.location|-moz-binding|<!--|<!\\[cdata\\[|\\\\)',\n",
    "    case=False, regex=True)\n",
    "df_xss_sqli['contains_xss_filters_ie'] = df_xss_sqli['payload'].str.contains(\n",
    "    r'(?i:<style.*?>.*?(?:@[i\\x5c]|(?:[:=]|&#x?0*(?:58|3A|61|3D);?).*?(?:[(\\x5c]|&#x?0*(?:40|28|92|5C);?)))',\n",
    "    case=False, regex=True)\n",
    "df_xss_sqli['contains_html_javascript_escape_sequences'] = df_xss_sqli['payload'].str.contains(\n",
    "    r'(?i)(?:j|&#(?:0*(?:74|106)|x0*[46]A);)(?:[\\t\\n\\r]|&(?:#(?:0*(?:9|1[03])|x0*[AD]);?|(?:tab|newline);))*(?:a|&#(?:0*(?:65|97)|x0*[46]1);)(?:[\\t\\n\\r]|&(?:#(?:0*(?:9|1[03])|x0*[AD]);?|(?:tab|newline);))*(?:v|&#(?:0*(?:86|118)|x0*[57]6);)(?:[\\t\\n\\r]|&(?:#(?:0*(?:9|1[03])|x0*[AD]);?|(?:tab|newline);))*(?:a|&#(?:0*(?:65|97)|x0*[46]1);)(?:[\\t\\n\\r]|&(?:#(?:0*(?:9|1[03])|x0*[AD]);?|(?:tab|newline);))*(?:s|&#(?:0*(?:115|83)|x0*[57]3);)(?:[\\t\\n\\r]|&(?:#(?:0*(?:9|1[03])|x0*[AD]);?|(?:tab|newline);))*(?:c|&#(?:x0*[46]3|0*(?:99|67));)(?:[\\t\\n\\r]|&(?:#(?:0*(?:9|1[03])|x0*[AD]);?|(?:tab|newline);))*(?:r|&#(?:x0*[57]2|0*(?:114|82));)(?:[\\t\\n\\r]|&(?:#(?:0*(?:9|1[03])|x0*[AD]);?|(?:tab|newline);))*(?:i|&#(?:x0*[46]9|0*(?:105|73));)(?:[\\t\\n\\r]|&(?:#(?:0*(?:9|1[03])|x0*[AD]);?|(?:tab|newline);))*(?:p|&#(?:x0*[57]0|0*(?:112|80));)(?:[\\t\\n\\r]|&(?:#(?:0*(?:9|1[03])|x0*[AD]);?|(?:tab|newline);))*(?:t|&#(?:x0*[57]4|0*(?:116|84));)(?:[\\t\\n\\r]|&(?:#(?:0*(?:9|1[03])|x0*[AD]);?|(?:tab|newline);))*(?::|&(?:#(?:0*58|x0*3A);?|colon;)).',\n",
    "    case=False, regex=True)\n",
    "df_xss_sqli['contains_embed_tag'] = df_xss_sqli['payload'].str.contains(r'(?i)<EMBED[\\s/+].*?(?:src|type).*?=',\n",
    "                                                                        case=False, regex=True)\n",
    "df_xss_sqli['contains_meta_tag'] = df_xss_sqli['payload'].str.contains(\n",
    "    r'(?i:<META[\\s/+].*?http-equiv[\\s/+]*=[\\s/+]*[\\\"\\'`]?(?:(?:c|&#x?0*(?:67|43|99|63);?)|(?:r|&#x?0*(?:82|52|114|72);?)|(?:s|&#x?0*(?:83|53|115|73);?)))',\n",
    "    case=False, regex=True)\n",
    "df_xss_sqli['contains_applet_tag'] = df_xss_sqli['payload'].str.contains(r'(?i)<APPLET[\\s/+>]', case=False, regex=True)\n",
    "df_xss_sqli['contains_object_tag'] = df_xss_sqli['payload'].str.contains(\n",
    "    r'(?i)<OBJECT[\\s/+].*?(?:type|codetype|classid|code|data)[\\s/+]*=', case=False, regex=True)\n",
    "df_xss_sqli['contains_xss_ascii_malformed'] = df_xss_sqli['payload'].str.contains(\n",
    "    r'\\xbc[^\\xbe>]*[\\xbe>]|<[^\\xbe]*\\xbe|\\+ADw-.*(?:\\+AD4-|>)|<.*\\+AD4-', case=False, regex=True)\n",
    "df_xss_sqli['contains_jsfuck_obfusctaion'] = df_xss_sqli['payload'].str.contains(r'![!+ ]\\[\\]', case=False, regex=True)\n",
    "df_xss_sqli['contains_js_global_object'] = df_xss_sqli['payload'].str.contains(\n",
    "    r'(?:self|document|this|top|window)\\s*(?:/\\*|[\\[)]).+?(?:\\]|\\*/)', case=False, regex=True)\n",
    "df_xss_sqli['contains_js_function'] = df_xss_sqli['payload'].str.contains(\n",
    "    r'(?i)\\b(?:eval|set(?:timeout|interval)|new[\\s\\x0b]+Function|a(?:lert|tob)|btoa|(?:promp|impor)t|con(?:firm|sole\\.(?:log|dir))|fetch)[\\s\\x0b]*[\\(\\{]',\n",
    "    case=False, regex=True)\n",
    "df_xss_sqli['contains_js_function_wo_parenthesis'] = df_xss_sqli['payload'].str.contains(\n",
    "    r'((?:\\[[^\\]]*\\][^.]*\\.)|Reflect[^.]*\\.).*(?:map|sort|apply)[^.]*\\..*call[^`]*`.*`', case=False, regex=True)\n",
    "df_xss_sqli['contains_html_src_tags'] = df_xss_sqli['payload'].str.contains(r'(?i)\\b(?:s(?:tyle|rc)|href)\\b[\\s\\S]*?=',\n",
    "                                                                            case=False, regex=True)\n",
    "df_xss_sqli['xss_detected_by_libinjection'] = df_xss_sqli['payload'].apply(\n",
    "    lambda x: libinjection.is_sql_injection(x)['is_xss'] if isinstance(x, str) else False\n",
    ")\n"
   ],
   "metadata": {
    "id": "pI1B2NUhuh1y",
    "jupyter": {
     "is_executing": true
    },
    "ExecuteTime": {
     "start_time": "2025-09-10T20:09:54.082323Z"
    }
   },
   "id": "pI1B2NUhuh1y",
   "outputs": [],
   "execution_count": null
  },
  {
   "cell_type": "code",
   "source": [
    "df_xss_sqli.to_csv(f'{STORAGE_PATH}/xss_sqli_condensed_with_xss.csv')"
   ],
   "metadata": {
    "id": "wjpZsLzWCDwJ"
   },
   "id": "wjpZsLzWCDwJ",
   "execution_count": null,
   "outputs": []
  },
  {
   "cell_type": "code",
   "source": [
    "#SQLi Related\n",
    "df_xss_sqli['contains_db_names'] = df_xss_sqli['payload'].str.contains(\n",
    "    r'(?i)\\b(?:d(?:atabas|b_nam)e[^0-9A-Z_a-z]*\\(|(?:information_schema|m(?:aster\\.\\.sysdatabases|s(?:db|ys(?:ac(?:cess(?:objects|storage|xml)|es)|modules2?|(?:object|querie|relationship)s))|ysql\\.db)|northwind|pg_(?:catalog|toast)|tempdb)\\b|s(?:chema(?:_name\\b|[^0-9A-Z_a-z]*\\()|(?:qlite_(?:temp_)?master|ys(?:aux|\\.database_name))\\b))',\n",
    "    case=False, regex=True)\n",
    "df_xss_sqli['contains_sql_functions'] = df_xss_sqli['payload'].str.contains(\n",
    "    r'(?i)\\b(?:a(?:dd(?:dat|tim)e|es_(?:de|en)crypt|s(?:cii(?:str)?|in)|tan2?)|b(?:enchmark|i(?:n_to_num|t_(?:and|count|length|x?or)))|c(?:har(?:acter)?_length|iel(?:ing)?|o(?:alesce|ercibility|llation|(?:mpres)?s|n(?:cat(?:_ws)?|nection_id|v(?:ert_tz)?)|t)|r32|ur(?:(?:dat|tim)e|rent_(?:date|setting|time(?:stamp)?|user)))|d(?:a(?:t(?:abase(?:_to_xml)?|e(?:_(?:add|format|sub)|diff))|y(?:name|of(?:month|week|year)))|count|e(?:code|s_(?:de|en)crypt)|ump)|e(?:n(?:c(?:ode|rypt)|ds_?with)|x(?:p(?:ort_set)?|tract(?:value)?))|f(?:i(?:el|n)d_in_set|ound_rows|rom_(?:base64|days|unixtime))|g(?:e(?:ometrycollection|t(?:_(?:format|lock)|pgusername))|(?:r(?:eates|oup_conca)|tid_subse)t)|hex(?:toraw)?|i(?:fnull|n(?:et6?_(?:aton|ntoa)|s(?:ert|tr)|terval)|s(?:_(?:(?:free|used)_lock|ipv(?:4(?:_(?:compat|mapped))?|6)|n(?:ot(?:_null)?|ull)|superuser)|null))|json(?:_(?:a(?:gg|rray(?:_(?:elements(?:_text)?|length))?)|build_(?:array|object)|e(?:ac|xtract_pat)h(?:_text)?|object(?:_(?:agg|keys))?|populate_record(?:set)?|strip_nulls|t(?:o_record(?:set)?|ypeof))|b(?:_(?:array(?:_(?:elements(?:_text)?|length))?|build_(?:array|object)|e(?:ac|xtract_pat)h(?:_text)?|insert|object(?:_(?:agg|keys))?|p(?:ath_(?:(?:exists|match)(?:_tz)?|query(?:_(?:(?:array|first)(?:_tz)?|tz))?)|opulate_record(?:set)?|retty)|s(?:et(?:_lax)?|trip_nulls)|t(?:o_record(?:set)?|ypeof)))?|path)?|l(?:ast_(?:day|inser_id)|case|east|i(?:kely|nestring)|o(?:_(?:from_bytea|put)|ad_file|ca(?:ltimestamp|te)|g(?:10|2))|pad|trim)|m(?:a(?:ke(?:_set|date)|ster_pos_wait)|d5|i(?:crosecon)?d|onthname|ulti(?:linestring|po(?:int|lygon)))|n(?:ame_const|ot_in|ullif)|o(?:ct(?:et_length)?|(?:ld_passwo)?rd)|p(?:eriod_(?:add|diff)|g_(?:client_encoding|(?:databas|read_fil)e|l(?:argeobject|s_dir)|sleep|user)|o(?:lygon|w)|rocedure_analyse)|qu(?:ery_to_xml|ote)|r(?:a(?:dians|nd|wtohex)|elease_lock|ow_(?:count|to_json)|pad|trim)|s(?:chema|e(?:c_to_time|ssion_user)|ha[12]?|in|oundex|q(?:lite_(?:compileoption_(?:get|used)|source_id)|rt)|t(?:arts_?with|d(?:dev_(?:po|sam)p)?|r(?:_to_date|cmp))|ub(?:(?:dat|tim)e|str(?:ing(?:_index)?)?)|ys(?:date|tem_user))|t(?:ime(?:_(?:format|to_sec)|diff|stamp(?:add|diff)?)|o(?:_(?:base64|jsonb?)|n?char|(?:day|second)s)|r(?:im|uncate))|u(?:case|n(?:compress(?:ed_length)?|hex|i(?:str|x_timestamp))|(?:pdatexm|se_json_nul)l|tc_(?:date|time(?:stamp)?)|uid(?:_short)?)|var(?:_(?:po|sam)p|iance)|we(?:ek(?:day|ofyear)|ight_string)|xmltype|yearweek)[^0-9A-Z_a-z]*\\(',\n",
    "    case=False, regex=True)\n",
    "df_xss_sqli['contains_sql_time_based_functions'] = df_xss_sqli['payload'].str.contains(\n",
    "    r'(?i:sleep\\(\\s*?\\d*?\\s*?\\)|benchmark\\(.*?\\,.*?\\))', case=False, regex=True)\n",
    "df_xss_sqli['contains_sql_sleep_injection_conditional'] = df_xss_sqli['payload'].str.contains(\n",
    "    r'(i)(?:select|;)[\\s\\x0b]+(?:benchmark|if|sleep)[\\s\\x0b]*?\\([\\s\\x0b]*?\\(?[\\s\\x0b]*?[0-9A-Z_a-z]+', case=False,\n",
    "    regex=True)\n",
    "df_xss_sqli['contains_mssql_code_execution'] = df_xss_sqli['payload'].str.contains(\n",
    "    r'(?i)[\\\"\\'`](?:[\\s\\x0b]*![\\s\\x0b]*[\\\"\\'0-9A-Z_-z]|;?[\\s\\x0b]*(?:having|select|union\\b[\\s\\x0b]*(?:all|(?:distin|sele)ct))\\b[\\s\\x0b]*[^\\s\\x0b])|\\b(?:(?:(?:c(?:onnection_id|urrent_user)|database|schema|user)[\\s\\x0b]*?|select.*?[0-9A-Z_a-z]?user)\\(|exec(?:ute)?[\\s\\x0b]+master\\.|from[^0-9A-Z_a-z]+information_schema[^0-9A-Z_a-z]|into[\\s\\x0b\\+]+(?:dump|out)file[\\s\\x0b]*?[\\\"\\'`]|union(?:[\\s\\x0b]select[\\s\\x0b]@|[\\s\\x0b\\(0-9A-Z_a-z]*?select))|[\\s\\x0b]*?exec(?:ute)?.*?[^0-9A-Z_a-z]xp_cmdshell|[^0-9A-Z_a-z]iif[\\s\\x0b]*?\\(',\n",
    "    case=False, regex=True)\n",
    "df_xss_sqli['contains_sql_integer_overflow'] = df_xss_sqli['payload'].str.contains(\n",
    "    r'rx ^(?i:-0000023456|4294967295|4294967296|2147483648|2147483647|0000012345|-2147483648|-2147483649|0000023456|2.2250738585072007e-308|2.2250738585072011e-308|1e309)$',\n",
    "    case=False, regex=True)\n",
    "df_xss_sqli['contains_conditional_sql_injection'] = df_xss_sqli['payload'].str.contains(\n",
    "    r'(?i)[\\s\\x0b\\(\\)]case[\\s\\x0b]+when.*?then|\\)[\\s\\x0b]*?like[\\s\\x0b]*?\\(|select.*?having[\\s\\x0b]*?[^\\s\\x0b]+[\\s\\x0b]*?[^\\s\\x0b0-9A-Z_a-z]|if[\\s\\x0b]?\\([0-9A-Z_a-z]+[\\s\\x0b]*?[<->~]',\n",
    "    case=False, regex=True)\n",
    "df_xss_sqli['contains_mysql_mssql_charset'] = df_xss_sqli['payload'].str.contains(\n",
    "    r'(?i)alter[\\s\\x0b]*?[0-9A-Z_a-z]+.*?char(?:acter)?[\\s\\x0b]+set[\\s\\x0b]+[0-9A-Z_a-z]+|[\\\"\\'`](?:;*?[\\s\\x0b]*?waitfor[\\s\\x0b]+(?:time|delay)[\\s\\x0b]+[\\\"\\'`]|;.*?:[\\s\\x0b]*?goto)',\n",
    "    case=False, regex=True)\n",
    "df_xss_sqli['contains_match_merge_execute_injection'] = df_xss_sqli['payload'].str.contains(\n",
    "    r'(?i:merge.*?using\\s*?\\(|execute\\s*?immediate\\s*?[\\\"\\'`]|match\\s*?[\\w(),+-]+\\s*?against\\s*?\\()', case=False,\n",
    "    regex=True)\n",
    "df_xss_sqli['contains_basic_sqli'] = df_xss_sqli['payload'].str.contains(r'(?i)union.*?select.*?from', case=False,\n",
    "                                                                         regex=True)\n",
    "df_xss_sqli['contains_pgsql_delays'] = df_xss_sqli['payload'].str.contains(\n",
    "    r'(?i)select[\\s\\x0b]*?pg_sleep|waitfor[\\s\\x0b]*?delay[\\s\\x0b]?[\\\"\\'`]+[\\s\\x0b]?[0-9]|;[\\s\\x0b]*?shutdown[\\s\\x0b]*?(?:[#;\\{]|/\\*|--)',\n",
    "    case=False, regex=True)\n",
    "df_xss_sqli['contains_mongodb_injection'] = df_xss_sqli['payload'].str.contains(\n",
    "    r'(?i)\\[?\\$(?:a(?:bs|c(?:cumulator|osh?)|dd(?:ToSet)?|ll(?:ElementsTrue)?|n(?:d|yElementTrue)|rray(?:ElemA|ToObjec)t|sinh?|tan[2h]?|vg)|b(?:etween|i(?:narySize|t(?:And|Not|(?:O|Xo)r)?)|ottomN?|sonSize|ucket(?:Auto)?)|c(?:eil|mp|o(?:n(?:cat(?:Arrays)?|d|vert)|sh?|unt|variance(?:Po|Sam)p)|urrentDate)|d(?:a(?:te(?:Add|Diff|From(?:Parts|String)|Subtract|T(?:o(?:Parts|String)|runc))|yOf(?:Month|Week|Year))|e(?:greesToRadians|nseRank|rivative)|iv(?:ide)?|ocumentNumber)|e(?:(?:a|lemMat)ch|q|x(?:ists|p(?:MovingAvg|r)?))|f(?:i(?:lter|rstN?)|loor|unction)|g(?:etField|roup|te?)|(?:hou|xo|yea)r|i(?:fNull|n(?:c|dexOf(?:Array|Bytes|CP)|tegral)?|s(?:Array|Number|o(?:DayOfWeek|Week(?:Year)?)))|jsonSchema|l(?:astN?|et|i(?:ke|(?:nearFil|tera)l)|n|o(?:cf|g(?:10)?)|t(?:e|rim)?)|m(?:a(?:p|xN?)|e(?:dian|rgeObjects|ta)|i(?:llisecond|n(?:N|ute)?)|o(?:d|nth)|ul(?:tiply)?)|n(?:atural|e|in|o[rt])|o(?:bjectToArray|r)|p(?:ercentile|o(?:[pw]|sition)|roject|u(?:ll(?:All)?|sh))|r(?:a(?:diansToDegrees|n(?:[dk]|ge))|e(?:(?:duc|nam)e|gex(?:Find(?:All)?|Match)?|place(?:All|One)|verseArray)|ound|trim)|s(?:(?:ampleRat|lic)e|e(?:cond|t(?:Difference|(?:Equal|WindowField)s|Field|I(?:ntersection|sSubset)|OnInsert|Union)?)|(?:hif|pli|qr)t|i(?:nh?|ze)|ort(?:Array)?|t(?:dDev(?:Po|Sam)p|r(?:Len(?:Bytes|CP)|casecmp))|u(?:b(?:str(?:Bytes|CP)?|tract)|m)|witch)|t(?:anh?|ext|o(?:Bool|D(?:(?:at|oubl)e|ecimal)|HashedIndexKey|Int|Lo(?:ng|wer)|ObjectId|String|U(?:UID|pper)|pN?)|r(?:im|unc)|s(?:Increment|Second)|ype)|unset|w(?:eek|here)|zip)\\]?',\n",
    "    case=False, regex=True)\n",
    "df_xss_sqli['contains_mysql_mssql_sp_injection'] = df_xss_sqli['payload'].str.contains(\n",
    "    r'(?i)create[\\s\\x0b]+(?:function|procedure)[\\s\\x0b]*?[0-9A-Z_a-z]+[\\s\\x0b]*?\\([\\s\\x0b]*?\\)[\\s\\x0b]*?-|d(?:eclare[^0-9A-Z_a-z]+[#@][\\s\\x0b]*?[0-9A-Z_a-z]+|iv[\\s\\x0b]*?\\([\\+\\-]*[\\s\\x0b\\.0-9]+,[\\+\\-]*[\\s\\x0b\\.0-9]+\\))|exec[\\s\\x0b]*?\\([\\s\\x0b]*?@|(?:lo_(?:impor|ge)t|procedure[\\s\\x0b]+analyse)[\\s\\x0b]*?\\(|;[\\s\\x0b]*?(?:declare|open)[\\s\\x0b]+[\\-0-9A-Z_a-z]+|::(?:b(?:igint|ool)|double[\\s\\x0b]+precision|int(?:eger)?|numeric|oid|real|(?:tex|smallin)t)',\n",
    "    case=False, regex=True)\n",
    "df_xss_sqli['contains_mysql_ufd_injection'] = df_xss_sqli['payload'].str.contains(\n",
    "    r'(?i)create[\\s\\x0b]+function[\\s\\x0b].+[\\s\\x0b]returns|;[\\s\\x0b]*?(?:alter|(?:(?:cre|trunc|upd)at|renam)e|d(?:e(?:lete|sc)|rop)|(?:inser|selec)t|load)\\b[\\s\\x0b]*?[\\(\\[]?[0-9A-Z_a-z]{2,}',\n",
    "    case=False, regex=True)\n",
    "df_xss_sqli['contains_concatenated_sql_injection'] = df_xss_sqli['payload'].str.contains(\n",
    "    r'(?i)\\b(?:(?:alter|(?:(?:cre|trunc|upd)at|renam)e|de(?:lete|sc)|(?:inser|selec)t|load)[\\s\\x0b]+(?:char|group_concat|load_file)\\b[\\s\\x0b]*\\(?|end[\\s\\x0b]*?\\);)|[\\s\\x0b\\(]load_file[\\s\\x0b]*?\\(|[\\\"\\'`][\\s\\x0b]+regexp[^0-9A-Z_a-z]|[\\\"\\'0-9A-Z_-z][\\s\\x0b]+as\\b[\\s\\x0b]*[\\\"\\'0-9A-Z_-z]+[\\s\\x0b]*\\bfrom|^[^A-Z_a-z]+[\\s\\x0b]*?(?:(?:(?:(?:cre|trunc)at|renam)e|d(?:e(?:lete|sc)|rop)|(?:inser|selec)t|load)[\\s\\x0b]+[0-9A-Z_a-z]+|u(?:pdate[\\s\\x0b]+[0-9A-Z_a-z]+|nion[\\s\\x0b]*(?:all|(?:sele|distin)ct)\\b)|alter[\\s\\x0b]*(?:a(?:(?:ggregat|pplication[\\s\\x0b]*rol)e|s(?:sembl|ymmetric[\\s\\x0b]*ke)y|u(?:dit|thorization)|vailability[\\s\\x0b]*group)|b(?:roker[\\s\\x0b]*priority|ufferpool)|c(?:ertificate|luster|o(?:l(?:latio|um)|nversio)n|r(?:edential|yptographic[\\s\\x0b]*provider))|d(?:atabase|efault|i(?:mension|skgroup)|omain)|e(?:(?:ndpoi|ve)nt|xte(?:nsion|rnal))|f(?:lashback|oreign|u(?:lltext|nction))|hi(?:erarchy|stogram)|group|in(?:dex(?:type)?|memory|stance)|java|l(?:a(?:ngua|r)ge|ibrary|o(?:ckdown|g(?:file[\\s\\x0b]*group|in)))|m(?:a(?:s(?:k|ter[\\s\\x0b]*key)|terialized)|e(?:ssage[\\s\\x0b]*type|thod)|odule)|(?:nicknam|queu)e|o(?:perator|utline)|p(?:a(?:ckage|rtition)|ermission|ro(?:cedur|fil)e)|r(?:e(?:mot|sourc)e|o(?:l(?:e|lback)|ute))|s(?:chema|e(?:arch|curity|rv(?:er|ice)|quence|ssion)|y(?:mmetric[\\s\\x0b]*key|nonym)|togroup)|t(?:able(?:space)?|ext|hreshold|r(?:igger|usted)|ype)|us(?:age|er)|view|w(?:ork(?:load)?|rapper)|x(?:ml[\\s\\x0b]*schema|srobject))\\b)',\n",
    "    case=False, regex=True)\n",
    "df_xss_sqli['contains_mysql_inline_comments'] = df_xss_sqli['payload'].str.contains(\n",
    "    r'(?i)/\\*[\\s\\x0b]*?[!\\+](?:[\\s\\x0b\\(\\)\\-0-9=A-Z_a-z]+)?\\*/', case=False, regex=True)\n",
    "df_xss_sqli['contains_sql_auth_bypass'] = df_xss_sqli['payload'].str.contains(\n",
    "    r'^(?:[^\\']*\\'|[^\\\"]*\\\"|[^`]*`)[\\s\\x0b]*;', case=False, regex=True)\n",
    "df_xss_sqli['contains_mysql_scientific_notation'] = df_xss_sqli['payload'].str.contains(\n",
    "    r'(?i)1\\.e(?:[\\(\\),]|\\.[\\$0-9A-Z_a-z])', case=False, regex=True)\n",
    "df_xss_sqli['contains_jsonsql_syntax'] = df_xss_sqli['payload'].str.contains(\n",
    "    r'(?i)(?:::(/\\*.*?\\*/)?jsonb?)?(?:(?:@|->?)>|<@|\\?[&\\|]?|#>>?|[<>]|<-)|(?:(?:@|->?)>|<@|\\?[&\\|]?|#>>?|[<>]|<-)?[\\\"\\'`][\\[\\{][^#\\]\\}]*[\\]\\}]+[\\\"\\'`]|\\bjson_extract\\b[^\\(]*\\([^\\)]*\\)',\n",
    "    case=False, regex=True)\n",
    "df_xss_sqli['contains_sql_tautologies'] = df_xss_sqli['payload'].str.contains(\n",
    "    r'(?i)[\\s\\x0b\\\"\\'-\\)`]*?\\b([0-9A-Z_a-z]+)\\b[\\s\\x0b\\\"\\'-\\)`]*?(?:=|<=>|(?:sounds[\\s\\x0b]+)?like|glob|r(?:like|egexp))[\\s\\x0b\\\"\\'-\\)`]*?\\b([0-9A-Z_a-z]+)\\b',\n",
    "    case=False, regex=True)\n",
    "df_xss_sqli['contains_sql_operators'] = df_xss_sqli['payload'].str.contains(\n",
    "    r'(?i)[!=]=|&&|\\|\\||->|>[=>]|<(?:[<=]|>(?:[\\s\\x0b]+binary)?)|\\b(?:(?:xor|r(?:egexp|like)|i(?:snull|like)|notnull)\\b|collate(?:[^0-9A-Z_a-z]*?(?:U&)?[\\\"\\'`]|[^0-9A-Z_a-z]+(?:(?:binary|nocase|rtrim)\\b|[0-9A-Z_a-z]*?_))|(?:likel(?:ihood|y)|unlikely)[\\s\\x0b]*\\()|r(?:egexp|like)[\\s\\x0b]+binary|not[\\s\\x0b]+between[\\s\\x0b]+(?:0[\\s\\x0b]+and|(?:\\'[^\\']*\\'|\\\"[^\\\"]*\\\")[\\s\\x0b]+and[\\s\\x0b]+(?:\\'[^\\']*\\'|\\\"[^\\\"]*\\\"))|is[\\s\\x0b]+null|like[\\s\\x0b]+(?:null|[0-9A-Z_a-z]+[\\s\\x0b]+escape\\b)|(?:^|[^0-9A-Z_a-z])in[\\s\\x0b\\+]*\\([\\s\\x0b\\\"0-9]+[^\\(\\)]*\\)|[!<->][\\s\\x0b]*all\\b',\n",
    "    case=False, regex=True)\n",
    "\n",
    "df_xss_sqli['sqli_detected_by_libinjection'] = df_xss_sqli['payload'].apply(\n",
    "    lambda x: libinjection.is_sql_injection(x)['is_sqli'] if isinstance(x, str) else False\n",
    ")"
   ],
   "metadata": {
    "id": "tsTMTUSr-7b-",
    "ExecuteTime": {
     "end_time": "2025-09-10T20:08:33.950424Z",
     "start_time": "2025-09-10T20:07:17.695591Z"
    }
   },
   "id": "tsTMTUSr-7b-",
   "outputs": [
    {
     "name": "stderr",
     "output_type": "stream",
     "text": [
      "/tmp/ipykernel_5286/702977300.py:5: UserWarning: This pattern is interpreted as a regular expression, and has match groups. To actually get the groups, use str.extract.\n",
      "  df_xss_sqli['contains_sql_sleep_injection_conditional'] = df_xss_sqli['payload'].str.contains(r'(i)(?:select|;)[\\s\\x0b]+(?:benchmark|if|sleep)[\\s\\x0b]*?\\([\\s\\x0b]*?\\(?[\\s\\x0b]*?[0-9A-Z_a-z]+', case=False, regex=True)\n",
      "/tmp/ipykernel_5286/702977300.py:20: UserWarning: This pattern is interpreted as a regular expression, and has match groups. To actually get the groups, use str.extract.\n",
      "  df_xss_sqli['contains_jsonsql_syntax'] = df_xss_sqli['payload'].str.contains(r'(?i)(?:::(/\\*.*?\\*/)?jsonb?)?(?:(?:@|->?)>|<@|\\?[&\\|]?|#>>?|[<>]|<-)|(?:(?:@|->?)>|<@|\\?[&\\|]?|#>>?|[<>]|<-)?[\\\"\\'`][\\[\\{][^#\\]\\}]*[\\]\\}]+[\\\"\\'`]|\\bjson_extract\\b[^\\(]*\\([^\\)]*\\)', case=False, regex=True)\n",
      "/tmp/ipykernel_5286/702977300.py:21: UserWarning: This pattern is interpreted as a regular expression, and has match groups. To actually get the groups, use str.extract.\n",
      "  df_xss_sqli['contains_sql_tautologies'] = df_xss_sqli['payload'].str.contains(r'(?i)[\\s\\x0b\\\"\\'-\\)`]*?\\b([0-9A-Z_a-z]+)\\b[\\s\\x0b\\\"\\'-\\)`]*?(?:=|<=>|(?:sounds[\\s\\x0b]+)?like|glob|r(?:like|egexp))[\\s\\x0b\\\"\\'-\\)`]*?\\b([0-9A-Z_a-z]+)\\b', case=False, regex=True)\n"
     ]
    }
   ],
   "execution_count": 10
  },
  {
   "cell_type": "code",
   "source": [
    "df_xss_sqli.to_csv(f'{STORAGE_PATH}/xss_sqli_condensed_with_xss_and_sqli.csv')"
   ],
   "metadata": {
    "id": "F_hMzYkACNFB"
   },
   "id": "F_hMzYkACNFB",
   "execution_count": null,
   "outputs": []
  }
 ],
 "metadata": {
  "kernelspec": {
   "display_name": "Python 3",
   "language": "python",
   "name": "python3"
  },
  "language_info": {
   "codemirror_mode": {
    "name": "ipython",
    "version": 2
   },
   "file_extension": ".py",
   "mimetype": "text/x-python",
   "name": "python",
   "nbconvert_exporter": "python",
   "pygments_lexer": "ipython2",
   "version": "2.7.6"
  },
  "colab": {
   "provenance": [],
   "include_colab_link": true
  }
 },
 "nbformat": 4,
 "nbformat_minor": 5
}
