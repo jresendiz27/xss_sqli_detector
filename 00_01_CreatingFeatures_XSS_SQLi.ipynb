{
  "cells": [
    {
      "metadata": {
        "id": "119da47744d512a2"
      },
      "cell_type": "markdown",
      "source": [
        "# Starting the Feature Creation (dataset level)"
      ],
      "id": "119da47744d512a2"
    },
    {
      "metadata": {
        "id": "88d6a306e7ce03f5"
      },
      "cell_type": "markdown",
      "source": [
        "### Now, let's start creating some features!\n",
        "We will take some inspiration on the OWASP coreruleset repository for diagnosing XSS and SQLi injection attacks\n",
        "They provide some configurations for apache just as a plug-n-play and reject requests based on certain regexes.\n",
        "* [Corerules XSS configurations](https://github.com/coreruleset/coreruleset/blob/main/rules/REQUEST-941-APPLICATION-ATTACK-XSS.conf)\n",
        "* [Corerules SQLi configurations](https://github.com/coreruleset/coreruleset/blob/main/rules/REQUEST-942-APPLICATION-ATTACK-SQLI.conf)\n",
        "\n",
        "\n",
        "Using those rules, we will create features for the dataset and update it as needed"
      ],
      "id": "88d6a306e7ce03f5"
    },
    {
      "metadata": {
        "ExecuteTime": {
          "end_time": "2025-09-10T03:36:33.924301Z",
          "start_time": "2025-09-10T03:36:33.579662Z"
        },
        "id": "b091ae02ae3491a7"
      },
      "cell_type": "code",
      "source": [
        "# Basic imports\n",
        "import re\n",
        "from urllib.parse import parse_qsl, unquote_plus\n",
        "import seaborn as sns\n",
        "import matplotlib.pyplot as plt\n",
        "import pandas as pd"
      ],
      "id": "b091ae02ae3491a7",
      "outputs": [],
      "execution_count": 5
    },
    {
      "cell_type": "code",
      "source": [
        "from google.colab import drive\n",
        "drive.mount('/content/drive')"
      ],
      "metadata": {
        "colab": {
          "base_uri": "https://localhost:8080/"
        },
        "id": "0N68qp-zt-g9",
        "outputId": "5b8b1516-2575-4510-f0ca-58cb317d1fd6"
      },
      "id": "0N68qp-zt-g9",
      "execution_count": 1,
      "outputs": [
        {
          "output_type": "stream",
          "name": "stdout",
          "text": [
            "Mounted at /content/drive\n"
          ]
        }
      ]
    },
    {
      "metadata": {
        "id": "f4752c0e6e5c9600"
      },
      "cell_type": "code",
      "outputs": [],
      "execution_count": 4,
      "source": [
        "df_xss_sqli = pd.read_csv('/content/drive/MyDrive/xss_sqli_detector/datasets/xss_sqli_condensed.csv')"
      ],
      "id": "f4752c0e6e5c9600"
    },
    {
      "cell_type": "code",
      "source": [
        "df_xss_sqli.info()"
      ],
      "metadata": {
        "colab": {
          "base_uri": "https://localhost:8080/"
        },
        "id": "w3SDOXcCueRS",
        "outputId": "cdf292cf-74f0-44df-b8f0-b0453f34d38c"
      },
      "id": "w3SDOXcCueRS",
      "execution_count": 6,
      "outputs": [
        {
          "output_type": "stream",
          "name": "stdout",
          "text": [
            "<class 'pandas.core.frame.DataFrame'>\n",
            "RangeIndex: 273705 entries, 0 to 273704\n",
            "Data columns (total 4 columns):\n",
            " #   Column        Non-Null Count   Dtype \n",
            "---  ------        --------------   ----- \n",
            " 0   payload       273704 non-null  object\n",
            " 1   label         273705 non-null  int64 \n",
            " 2   attack_label  273705 non-null  object\n",
            " 3   type          273705 non-null  object\n",
            "dtypes: int64(1), object(3)\n",
            "memory usage: 8.4+ MB\n"
          ]
        }
      ]
    },
    {
      "cell_type": "code",
      "source": [
        "## Creating new features for XSS\n",
        "df_xss_sqli['has_url'] = df_xss_sqli['payload'].str.contains(r'(?i)\\b(?:https?:)?//[^\\s\"\\'<>()]+')\n",
        "df_xss_sqli['has_special_chars'] = df_xss_sqli['payload'].str.contains(r'^(\"|\">|<|/><|<>\\\"\\'`\\(\\){}\\[\\];\\\\|:)')"
      ],
      "metadata": {
        "id": "pI1B2NUhuh1y"
      },
      "id": "pI1B2NUhuh1y",
      "execution_count": 7,
      "outputs": []
    },
    {
      "metadata": {
        "id": "2420da1762ba579"
      },
      "cell_type": "code",
      "outputs": [],
      "execution_count": null,
      "source": [
        "URL_RE = re.compile(r'(?i)\\b(?:https?:)?//[^\\s\"\\'<>()]+')  # http(s):// o //...\n",
        "\n",
        "has_url = df_xss_sqli['payload'].str.contains(URL_RE, na=False)\n"
      ],
      "id": "2420da1762ba579"
    },
    {
      "metadata": {
        "id": "bd71971cc4aeb1f8"
      },
      "cell_type": "code",
      "outputs": [],
      "execution_count": null,
      "source": [
        "PATTERN_REMOVE_DOMAIN = re.compile(r'^(?:[a-z][a-z0-9+.\\-]*:)?//[^/]*', re.I)\n",
        "\n",
        "def path_and_query_regex(u: str) -> str:\n",
        "    if not isinstance(u, str) or not u:\n",
        "        return \"\"\n",
        "    s = PATTERN_REMOVE_DOMAIN.sub(\"\", u.strip())\n",
        "    if s == \"\":  # caso \"http://dominio\" sin path\n",
        "        return \"/\"\n",
        "    # garantiza que empiece con \"/\"\n",
        "    return s if s.startswith(\"/\") else \"/\" + s\n"
      ],
      "id": "bd71971cc4aeb1f8"
    },
    {
      "cell_type": "code",
      "execution_count": null,
      "id": "initial_id",
      "metadata": {
        "collapsed": true,
        "id": "initial_id"
      },
      "outputs": [],
      "source": [
        "def only_query(url: str) -> str:\n",
        "    if not isinstance(url, str) or not url:\n",
        "        return \"\"\n",
        "    s = PATTERN_REMOVE_DOMAIN.sub(\"\", url.strip())\n",
        "    return s.split(\"?\", 1)[1] if \"?\" in s else \"\"\n",
        "\n",
        "\n",
        "AVAILABLE_REGEXES = {\n",
        "    'XSS_VALUE_SPECIAL_CHARS': re.compile(r'^(\"|\">|<|/><|<>\\\"\\'`\\(\\){}\\[\\];\\\\)', re.IGNORECASE),\n",
        "    'XSS_SCRIPT_RELATED': re.compile(r'(?is)\\<\\\\s*script\\\\b[^>]*>.*?<\\\\s*/\\\\s*script\\\\s*>', re.IGNORECASE),\n",
        "    'XSS_OPENING_TAGS': re.compile(r'(?i)<\\\\s*(?:script|iframe|object|embed|svg|math|link|meta|img|video|audio)\\b',\n",
        "                                   re.IGNORECASE),\n",
        "    'XSS_DOM_EVENTS': re.compile(r'(?i)\\bon[a-z]+\\\\s*(?:=|%3[dD])', re.IGNORECASE),\n",
        "    'XSS_CODIFIED_TAGS': re.compile(r'(?i)(?:%3[cC]|%3[eE]|#x?0*3[cC];|#x?0*3[eE];|#0*60;|#0*62;|lt;|gt;)',\n",
        "                                    re.IGNORECASE),\n",
        "    'XSS_SOURCE_ATTRS': re.compile(\n",
        "        r'(?i)\\b(?:src|href|xlink:href|formaction|srcdoc)\\s*=\\s*[\"\\']?\\s*(?:javascript|vbscript|data)\\s*:',\n",
        "        re.IGNORECASE),\n",
        "    'XSS_IMG_RELATED': re.compile(r'(?i)<\\s*img\\b[^>]*\\bon(?:error|load)\\s*(?:=|%3[dD])', re.IGNORECASE),\n",
        "    'XSS_INLINE_CSS': re.compile(\n",
        "        r'(?i)\\bstyle\\s*=\\s*[\"\\'][^\"\\']*(?:expression\\s*\\(|url\\s*\\(\\s*[\\'\"]?\\s*(?:javascript|data)\\s*:)[^\"\\']*[\"\\']',\n",
        "        re.IGNORECASE),\n",
        "    'XSS_IMPORT_CSS': re.compile(r'(?i)(?:@import\\b|import\\s*\\()', re.IGNORECASE),\n",
        "    'XSS_POTENTIAL_INJECTION_TAGS': re.compile(r'(?i)<\\s*(?:textarea|template)\\b', re.IGNORECASE)\n",
        "}\n",
        "\n",
        "\n",
        "# 3) De una URL -> dict de {param: valor_decodificado} solo si el valor \"huele\" a XSS\n",
        "def suspicious_params_from_url(url: str) -> dict[str, str]:\n",
        "    qs = only_query(url)\n",
        "    if not qs:\n",
        "        return {}\n",
        "    parsed_params = {}\n",
        "    for k, v in parse_qsl(qs, keep_blank_values=True):\n",
        "        val = unquote_plus(v)\n",
        "        parsed_params[k] = val\n",
        "\n",
        "    key_hits = {}\n",
        "    for k, v in parsed_params.items():\n",
        "        for rgx_key, rgx in AVAILABLE_REGEXES.items():\n",
        "            if rgx.match(v) or rgx.match(k):\n",
        "                if key_hits.get(f\"url_hits\") is None:\n",
        "                    key_hits[f\"{k}_hits\"] = 1\n",
        "                else:\n",
        "                    key_hits[f\"{k}_hits\"] += 1\n",
        "    print(\"KeyHitsAndParams: \", key_hits, parsed_params)\n",
        "    # print(\"SuspectParams: \", suspected_params)\n",
        "    return {}\n",
        "\n",
        "\n",
        "malicious_urls = df_fmereani[\"unsanitized_payload\"].loc[df_fmereani[\"type\"].eq(\"Malicious\")].head(10)\n",
        "for val in malicious_urls:\n",
        "    suspicious_params_from_url(val)"
      ]
    }
  ],
  "metadata": {
    "kernelspec": {
      "display_name": "Python 3",
      "language": "python",
      "name": "python3"
    },
    "language_info": {
      "codemirror_mode": {
        "name": "ipython",
        "version": 2
      },
      "file_extension": ".py",
      "mimetype": "text/x-python",
      "name": "python",
      "nbconvert_exporter": "python",
      "pygments_lexer": "ipython2",
      "version": "2.7.6"
    },
    "colab": {
      "provenance": []
    }
  },
  "nbformat": 4,
  "nbformat_minor": 5
}