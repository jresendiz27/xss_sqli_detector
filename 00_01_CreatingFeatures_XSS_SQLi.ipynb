{
  "cells": [
    {
      "cell_type": "markdown",
      "metadata": {
        "id": "view-in-github",
        "colab_type": "text"
      },
      "source": [
        "<a href=\"https://colab.research.google.com/github/jresendiz27/xss_sqli_detector/blob/main/00_01_CreatingFeatures_XSS_SQLi.ipynb\" target=\"_parent\"><img src=\"https://colab.research.google.com/assets/colab-badge.svg\" alt=\"Open In Colab\"/></a>"
      ]
    },
    {
      "metadata": {
        "id": "119da47744d512a2"
      },
      "cell_type": "markdown",
      "source": [
        "# Starting the Feature Creation (dataset level)"
      ],
      "id": "119da47744d512a2"
    },
    {
      "metadata": {
        "id": "88d6a306e7ce03f5"
      },
      "cell_type": "markdown",
      "source": [
        "### Now, let's start creating some features!\n",
        "We will take some inspiration on the OWASP coreruleset repository for diagnosing XSS and SQLi injection attacks\n",
        "They provide some configurations for apache just as a plug-n-play and reject requests based on certain regexes.\n",
        "* [Corerules XSS configurations](https://github.com/coreruleset/coreruleset/blob/main/rules/REQUEST-941-APPLICATION-ATTACK-XSS.conf)\n",
        "* [Corerules SQLi configurations](https://github.com/coreruleset/coreruleset/blob/main/rules/REQUEST-942-APPLICATION-ATTACK-SQLI.conf)\n",
        "\n",
        "\n",
        "Using those rules, we will create features for the dataset and update it as needed"
      ],
      "id": "88d6a306e7ce03f5"
    },
    {
      "cell_type": "code",
      "source": [
        "# Install extra dependencies\n",
        "# !pip install libinjection-python"
      ],
      "metadata": {
        "colab": {
          "base_uri": "https://localhost:8080/"
        },
        "id": "izkfx_sp3E3e",
        "outputId": "8470a461-c34d-4a58-fcb2-28b330988390"
      },
      "id": "izkfx_sp3E3e",
      "execution_count": 5,
      "outputs": [
        {
          "output_type": "stream",
          "name": "stdout",
          "text": [
            "Collecting libinjection-python\n",
            "  Downloading libinjection-python-1.1.6.tar.gz (174 kB)\n",
            "\u001b[?25l     \u001b[90m━━━━━━━━━━━━━━━━━━━━━━━━━━━━━━━━━━━━━━━━\u001b[0m \u001b[32m0.0/174.0 kB\u001b[0m \u001b[31m?\u001b[0m eta \u001b[36m-:--:--\u001b[0m\r\u001b[2K     \u001b[91m━━━━━━━━━━━━━━━━━━━━━━━━━━━━━━━━━━━━\u001b[0m\u001b[91m╸\u001b[0m\u001b[90m━━\u001b[0m \u001b[32m163.8/174.0 kB\u001b[0m \u001b[31m4.7 MB/s\u001b[0m eta \u001b[36m0:00:01\u001b[0m\r\u001b[2K     \u001b[90m━━━━━━━━━━━━━━━━━━━━━━━━━━━━━━━━━━━━━━━\u001b[0m \u001b[32m174.0/174.0 kB\u001b[0m \u001b[31m3.4 MB/s\u001b[0m eta \u001b[36m0:00:00\u001b[0m\n",
            "\u001b[?25h  Installing build dependencies ... \u001b[?25l\u001b[?25hdone\n",
            "  Getting requirements to build wheel ... \u001b[?25l\u001b[?25hdone\n",
            "  Preparing metadata (pyproject.toml) ... \u001b[?25l\u001b[?25hdone\n",
            "Building wheels for collected packages: libinjection-python\n",
            "  Building wheel for libinjection-python (pyproject.toml) ... \u001b[?25l\u001b[?25hdone\n",
            "  Created wheel for libinjection-python: filename=libinjection_python-1.1.6-cp312-cp312-linux_x86_64.whl size=251567 sha256=e6c16c2806dd934d227a679b118f788124054c03a85ad3f0d8931bcc980b98ad\n",
            "  Stored in directory: /root/.cache/pip/wheels/b5/a2/0f/eb48da355b19a32635f793215e5d5908b072f7dc951e9fe295\n",
            "Successfully built libinjection-python\n",
            "Installing collected packages: libinjection-python\n",
            "Successfully installed libinjection-python-1.1.6\n"
          ]
        }
      ]
    },
    {
      "metadata": {
        "ExecuteTime": {
          "end_time": "2025-09-10T03:36:33.924301Z",
          "start_time": "2025-09-10T03:36:33.579662Z"
        },
        "id": "b091ae02ae3491a7"
      },
      "cell_type": "code",
      "source": [
        "# Basic imports\n",
        "import re\n",
        "from urllib.parse import parse_qsl, unquote_plus\n",
        "import seaborn as sns\n",
        "import matplotlib.pyplot as plt\n",
        "import pandas as pd\n",
        "import libinjection\n",
        "from google.colab import drive"
      ],
      "id": "b091ae02ae3491a7",
      "outputs": [],
      "execution_count": 6
    },
    {
      "cell_type": "code",
      "source": [
        "libinjection.is_sql_injection(\"http://example.com/?q=<script>alert('x')</script>\")"
      ],
      "metadata": {
        "colab": {
          "base_uri": "https://localhost:8080/"
        },
        "id": "J7_0xOk73hLN",
        "outputId": "40331d35-471d-427e-f8bc-47a3c570b979"
      },
      "id": "J7_0xOk73hLN",
      "execution_count": 10,
      "outputs": [
        {
          "output_type": "execute_result",
          "data": {
            "text/plain": [
              "{'is_sqli': False,\n",
              " 'fingerprint': 'sns',\n",
              " 'token_vector': [{'pos': 0,\n",
              "   'len': 31,\n",
              "   'count': 0,\n",
              "   'type': 115,\n",
              "   'str_open': 0,\n",
              "   'str_close': 39,\n",
              "   'val': b'http://example.com/?q=<script>a'},\n",
              "  {'pos': 37,\n",
              "   'len': 1,\n",
              "   'count': 0,\n",
              "   'type': 110,\n",
              "   'str_open': 0,\n",
              "   'str_close': 0,\n",
              "   'val': b'x'},\n",
              "  {'pos': 39,\n",
              "   'len': 10,\n",
              "   'count': 0,\n",
              "   'type': 115,\n",
              "   'str_open': 39,\n",
              "   'str_close': 0,\n",
              "   'val': b')</script>'},\n",
              "  {'pos': 0,\n",
              "   'len': 0,\n",
              "   'count': 0,\n",
              "   'type': 0,\n",
              "   'str_open': 0,\n",
              "   'str_close': 0,\n",
              "   'val': b''},\n",
              "  {'pos': 0,\n",
              "   'len': 0,\n",
              "   'count': 0,\n",
              "   'type': 0,\n",
              "   'str_open': 0,\n",
              "   'str_close': 0,\n",
              "   'val': b''},\n",
              "  {'pos': 0,\n",
              "   'len': 0,\n",
              "   'count': 0,\n",
              "   'type': 0,\n",
              "   'str_open': 0,\n",
              "   'str_close': 0,\n",
              "   'val': b''},\n",
              "  {'pos': 0,\n",
              "   'len': 0,\n",
              "   'count': 0,\n",
              "   'type': 0,\n",
              "   'str_open': 0,\n",
              "   'str_close': 0,\n",
              "   'val': b''},\n",
              "  {'pos': 0,\n",
              "   'len': 0,\n",
              "   'count': 0,\n",
              "   'type': 0,\n",
              "   'str_open': 0,\n",
              "   'str_close': 0,\n",
              "   'val': b''}]}"
            ]
          },
          "metadata": {},
          "execution_count": 10
        }
      ]
    },
    {
      "cell_type": "code",
      "source": [
        "drive.mount('/content/drive')"
      ],
      "metadata": {
        "colab": {
          "base_uri": "https://localhost:8080/"
        },
        "id": "0N68qp-zt-g9",
        "outputId": "66311599-6408-4a37-84f7-c4d09c5aa971"
      },
      "id": "0N68qp-zt-g9",
      "execution_count": 2,
      "outputs": [
        {
          "output_type": "stream",
          "name": "stdout",
          "text": [
            "Mounted at /content/drive\n"
          ]
        }
      ]
    },
    {
      "metadata": {
        "id": "f4752c0e6e5c9600"
      },
      "cell_type": "code",
      "outputs": [],
      "execution_count": 3,
      "source": [
        "df_xss_sqli = pd.read_csv('/content/drive/MyDrive/xss_sqli_detector/datasets/xss_sqli_condensed.csv')"
      ],
      "id": "f4752c0e6e5c9600"
    },
    {
      "cell_type": "code",
      "source": [
        "df_xss_sqli.info()"
      ],
      "metadata": {
        "colab": {
          "base_uri": "https://localhost:8080/"
        },
        "id": "w3SDOXcCueRS",
        "outputId": "f877c6ba-50a8-4084-d80e-aa07c115ff1d"
      },
      "id": "w3SDOXcCueRS",
      "execution_count": 4,
      "outputs": [
        {
          "output_type": "stream",
          "name": "stdout",
          "text": [
            "<class 'pandas.core.frame.DataFrame'>\n",
            "RangeIndex: 273705 entries, 0 to 273704\n",
            "Data columns (total 4 columns):\n",
            " #   Column        Non-Null Count   Dtype \n",
            "---  ------        --------------   ----- \n",
            " 0   payload       273704 non-null  object\n",
            " 1   label         273705 non-null  int64 \n",
            " 2   attack_label  273705 non-null  object\n",
            " 3   type          273705 non-null  object\n",
            "dtypes: int64(1), object(3)\n",
            "memory usage: 8.4+ MB\n"
          ]
        }
      ]
    },
    {
      "cell_type": "code",
      "source": [
        "## Creating new features for XSS considering CoreRulesSet Regexes for XSS/SQLi\n",
        "## XSS Related\n",
        "df_xss_sqli['contains_http'] = df_xss_sqli['payload'].str.contains(r'(?i)\\b(?:https?:)?//[^\\s\"\\'<>()]+', case=False, regex=True)\n",
        "df_xss_sqli['contains_script_tag'] = df_xss_sqli['payload'].str.contains(r'(?i)<script[^>]*>[\\s\\S]*?', case=False, regex=True)\n",
        "df_xss_sqli['contains_external_payloads'] = df_xss_sqli['payload'].str.contains(r'(?i).(?:\\b(?:(?:x(?:link:href|html|mlns)|data:text/html|formaction)\\b|pattern[\\s\\x0b]*=)|(?:!ENTITY[\\s\\x0b]+(?:%[\\s\\x0b]+)?[^\\s\\x0b]+[\\s\\x0b]+(?:SYSTEM|PUBLIC)|@import|;base64)\\b)', case=False, regex=True)\n",
        "df_xss_sqli['contains_javascript_uri'] = df_xss_sqli['payload'].str.contains(r'(?i)[a-z]+=(?:[^:=]+:.+;)*?[^:=]+:url\\(javascript', case=False, regex=True)\n",
        "df_xss_sqli['contains_html_injection'] = df_xss_sqli['payload'].str.contains(r'(?i)<[^0-9<>A-Z_a-z]*(?:[^\\s\\x0b\\\"\\'<>]*:)?[^0-9<>A-Z_a-z]*[^0-9A-Z_a-z]*?(?:s[^0-9A-Z_a-z]*?(?:c[^0-9A-Z_a-z]*?r[^0-9A-Z_a-z]*?i[^0-9A-Z_a-z]*?p[^0-9A-Z_a-z]*?t|t[^0-9A-Z_a-z]*?y[^0-9A-Z_a-z]*?l[^0-9A-Z_a-z]*?e|v[^0-9A-Z_a-z]*?g|e[^0-9A-Z_a-z]*?t[^0-9>A-Z_a-z])|f[^0-9A-Z_a-z]*?o[^0-9A-Z_a-z]*?r[^0-9A-Z_a-z]*?m|d[^0-9A-Z_a-z]*?i[^0-9A-Z_a-z]*?a[^0-9A-Z_a-z]*?l[^0-9A-Z_a-z]*?o[^0-9A-Z_a-z]*?g|m[^0-9A-Z_a-z]*?(?:a[^0-9A-Z_a-z]*?r[^0-9A-Z_a-z]*?q[^0-9A-Z_a-z]*?u[^0-9A-Z_a-z]*?e[^0-9A-Z_a-z]*?e|e[^0-9A-Z_a-z]*?t[^0-9A-Z_a-z]*?a[^0-9>A-Z_a-z])|(?:l[^0-9A-Z_a-z]*?i[^0-9A-Z_a-z]*?n[^0-9A-Z_a-z]*?k|o[^0-9A-Z_a-z]*?b[^0-9A-Z_a-z]*?j[^0-9A-Z_a-z]*?e[^0-9A-Z_a-z]*?c[^0-9A-Z_a-z]*?t|e[^0-9A-Z_a-z]*?m[^0-9A-Z_a-z]*?b[^0-9A-Z_a-z]*?e[^0-9A-Z_a-z]*?d|a[^0-9A-Z_a-z]*?(?:p[^0-9A-Z_a-z]*?p[^0-9A-Z_a-z]*?l[^0-9A-Z_a-z]*?e[^0-9A-Z_a-z]*?t|u[^0-9A-Z_a-z]*?d[^0-9A-Z_a-z]*?i[^0-9A-Z_a-z]*?o|n[^0-9A-Z_a-z]*?i[^0-9A-Z_a-z]*?m[^0-9A-Z_a-z]*?a[^0-9A-Z_a-z]*?t[^0-9A-Z_a-z]*?e)|p[^0-9A-Z_a-z]*?a[^0-9A-Z_a-z]*?r[^0-9A-Z_a-z]*?a[^0-9A-Z_a-z]*?m|i?[^0-9A-Z_a-z]*?f[^0-9A-Z_a-z]*?r[^0-9A-Z_a-z]*?a[^0-9A-Z_a-z]*?m[^0-9A-Z_a-z]*?e|b[^0-9A-Z_a-z]*?(?:a[^0-9A-Z_a-z]*?s[^0-9A-Z_a-z]*?e|o[^0-9A-Z_a-z]*?d[^0-9A-Z_a-z]*?y|i[^0-9A-Z_a-z]*?n[^0-9A-Z_a-z]*?d[^0-9A-Z_a-z]*?i[^0-9A-Z_a-z]*?n[^0-9A-Z_a-z]*?g[^0-9A-Z_a-z]*?s)|i[^0-9A-Z_a-z]*?m[^0-9A-Z_a-z]*?a?[^0-9A-Z_a-z]*?g[^0-9A-Z_a-z]*?e?|v[^0-9A-Z_a-z]*?i[^0-9A-Z_a-z]*?d[^0-9A-Z_a-z]*?e[^0-9A-Z_a-z]*?o)[^0-9>A-Z_a-z])|(?:<[0-9A-Z_a-z][^\\s\\x0b/]*[\\s\\x0b/]|[\\\"\\'](?:[^\\s\\x0b/]*[\\s\\x0b/])?)(?:background|formaction|lowsrc|on(?:a(?:bort|ctivate|d(?:apteradded|dtrack)|fter(?:print|(?:scriptexecu|upda)te)|lerting|n(?:imation(?:cancel|end|iteration|start)|tennastatechange)|ppcommand|u(?:dio(?:end|process|start)|xclick))|b(?:e(?:fore(?:(?:(?:(?:de)?activa|scriptexecu)t|toggl)e|c(?:opy|ut)|editfocus|input|p(?:aste|rint)|u(?:nload|pdate))|gin(?:Event)?)|l(?:ocked|ur)|oun(?:ce|dary)|roadcast|usy)|c(?:a(?:(?:ch|llschang)ed|nplay(?:through)?|rdstatechange)|(?:ell|fstate)change|h(?:a(?:rging(?:time)?cha)?nge|ecking)|l(?:ick|ose)|o(?:m(?:mand(?:update)?|p(?:lete|osition(?:end|start|update)))|n(?:nect(?:ed|ing)|t(?:extmenu|rolselect))|py)|u(?:echange|t))|d(?:ata(?:(?:availabl|chang)e|error|setc(?:hanged|omplete))|blclick|e(?:activate|livery(?:error|success)|vice(?:found|light|(?:mo|orienta)tion|proximity))|i(?:aling|s(?:abled|c(?:hargingtimechange|onnect(?:ed|ing))))|o(?:m(?:a(?:ctivate|ttrmodified)|(?:characterdata|subtree)modified|focus(?:in|out)|mousescroll|node(?:inserted(?:intodocument)?|removed(?:fromdocument)?))|wnloading)|r(?:ag(?:drop|e(?:n(?:d|ter)|xit)|(?:gestur|leav)e|over|start)|op)|urationchange)|e(?:mptied|n(?:abled|d(?:ed|Event)?|ter)|rror(?:update)?|xit)|f(?:ailed|i(?:lterchange|nish)|o(?:cus(?:in|out)?|rm(?:change|input))|ullscreenchange)|g(?:amepad(?:axismove|button(?:down|up)|(?:dis)?connected)|et)|h(?:ashchange|e(?:adphoneschange|l[dp])|olding)|i(?:cc(?:cardlockerror|infochange)|n(?:coming|put|valid))|key(?:down|press|up)|l(?:evelchange|o(?:ad(?:e(?:d(?:meta)?data|nd)|start)?|secapture)|y)|m(?:ark|essage|o(?:use(?:down|enter|(?:lea|mo)ve|o(?:ut|ver)|up|wheel)|ve(?:end|start)?|z(?:a(?:fterpaint|udioavailable)|(?:beforeresiz|orientationchang|t(?:apgestur|imechang))e|(?:edgeui(?:c(?:ancel|omplet)|start)e|network(?:down|up)loa)d|fullscreen(?:change|error)|m(?:agnifygesture(?:start|update)?|ouse(?:hittest|pixelscroll))|p(?:ointerlock(?:change|error)|resstapgesture)|rotategesture(?:start|update)?|s(?:crolledareachanged|wipegesture(?:end|start|update)?))))|no(?:match|update)|o(?:(?:bsolet|(?:ff|n)lin)e|pen|verflow(?:changed)?)|p(?:a(?:ge(?:hide|show)|int|(?:st|us)e)|lay(?:ing)?|o(?:inter(?:down|enter|(?:(?:lea|mo)v|rawupdat)e|o(?:ut|ver)|up)|p(?:state|up(?:hid(?:den|ing)|show(?:ing|n))))|ro(?:gress|pertychange))|r(?:atechange|e(?:adystatechange|ceived|movetrack|peat(?:Event)?|quest|s(?:et|ize|u(?:lt|m(?:e|ing)))|trieving)|ow(?:e(?:nter|xit)|s(?:delete|inserted)))|s(?:croll(?:end)?|e(?:arch|ek(?:complete|ed|ing)|lect(?:ionchange|start)?|n(?:ding|t)|t)|how|(?:ound|peech)(?:end|start)|t(?:a(?:lled|rt|t(?:echange|uschanged))|k(?:comma|sessione)nd|op)|u(?:bmit|ccess|spend)|vg(?:abort|error|(?:un)?load|resize|scroll|zoom))|t(?:ext|ime(?:out|update)|o(?:ggle|uch(?:cancel|en(?:d|ter)|(?:lea|mo)ve|start))|ransition(?:cancel|end|run|start))|u(?:n(?:derflow|handledrejection|load)|p(?:dateready|gradeneeded)|s(?:erproximity|sdreceived))|v(?:ersion|o(?:ic|lum)e)change|w(?:a(?:it|rn)ing|ebkit(?:animation(?:end|iteration|start)|(?:playbacktargetavailabilitychange|transitionen)d)|heel)|zoom)|ping|s(?:rc|tyle))[\\x08-\\n\\f\\r ]*?=', case=False, regex=True)\n",
        "df_xss_sqli['contains_attribute_injection'] = df_xss_sqli['payload'].str.contains(r'(?i)(?:\\W|^)(?:javascript:(?:[\\s\\S]+[=\\x5c\\(\\[\\.<]|[\\s\\S]*?(?:\\bname\\b|\\x5c[ux]\\d))|data:(?:(?:[a-z]\\w+/\\w[\\w+-]+\\w)?[;,]|[\\s\\S]*?;[\\s\\S]*?\\b(?:base64|charset=)|[\\s\\S]*?,[\\s\\S]*?<[\\s\\S]*?\\w[\\s\\S]*?>))|@\\W*?i\\W*?m\\W*?p\\W*?o\\W*?r\\W*?t\\W*?(?:/\\*[\\s\\S]*?)?(?:[\\\"\\']|\\W*?u\\W*?r\\W*?l[\\s\\S]*?\\()|[^-]*?-\\W*?m\\W*?o\\W*?z\\W*?-\\W*?b\\W*?i\\W*?n\\W*?d\\W*?i\\W*?n\\W*?g[^:]*?:\\W*?u\\W*?r\\\\', case=False, regex=True)\n",
        "df_xss_sqli['contains_cookie_related'] = df_xss_sqli['payload'].str.contains(r'(?:document\\.cookie|document\\.domain|document\\.querySelector|document\\.body\\.appendChild|document\\.write|\\.parentnode|\\.innerhtml|window\\.location|-moz-binding|<!--|<!\\[cdata\\[|\\\\)', case=False, regex=True)\n",
        "df_xss_sqli['contains_xss_filters_ie'] = df_xss_sqli['payload'].str.contains(r'(?i:<style.*?>.*?(?:@[i\\x5c]|(?:[:=]|&#x?0*(?:58|3A|61|3D);?).*?(?:[(\\x5c]|&#x?0*(?:40|28|92|5C);?)))', case=False, regex=True)\n",
        "df_xss_sqli['contains_html_javascript_escape_sequences'] = df_xss_sqli['payload'].str.contains(r'(?i)(?:j|&#(?:0*(?:74|106)|x0*[46]A);)(?:[\\t\\n\\r]|&(?:#(?:0*(?:9|1[03])|x0*[AD]);?|(?:tab|newline);))*(?:a|&#(?:0*(?:65|97)|x0*[46]1);)(?:[\\t\\n\\r]|&(?:#(?:0*(?:9|1[03])|x0*[AD]);?|(?:tab|newline);))*(?:v|&#(?:0*(?:86|118)|x0*[57]6);)(?:[\\t\\n\\r]|&(?:#(?:0*(?:9|1[03])|x0*[AD]);?|(?:tab|newline);))*(?:a|&#(?:0*(?:65|97)|x0*[46]1);)(?:[\\t\\n\\r]|&(?:#(?:0*(?:9|1[03])|x0*[AD]);?|(?:tab|newline);))*(?:s|&#(?:0*(?:115|83)|x0*[57]3);)(?:[\\t\\n\\r]|&(?:#(?:0*(?:9|1[03])|x0*[AD]);?|(?:tab|newline);))*(?:c|&#(?:x0*[46]3|0*(?:99|67));)(?:[\\t\\n\\r]|&(?:#(?:0*(?:9|1[03])|x0*[AD]);?|(?:tab|newline);))*(?:r|&#(?:x0*[57]2|0*(?:114|82));)(?:[\\t\\n\\r]|&(?:#(?:0*(?:9|1[03])|x0*[AD]);?|(?:tab|newline);))*(?:i|&#(?:x0*[46]9|0*(?:105|73));)(?:[\\t\\n\\r]|&(?:#(?:0*(?:9|1[03])|x0*[AD]);?|(?:tab|newline);))*(?:p|&#(?:x0*[57]0|0*(?:112|80));)(?:[\\t\\n\\r]|&(?:#(?:0*(?:9|1[03])|x0*[AD]);?|(?:tab|newline);))*(?:t|&#(?:x0*[57]4|0*(?:116|84));)(?:[\\t\\n\\r]|&(?:#(?:0*(?:9|1[03])|x0*[AD]);?|(?:tab|newline);))*(?::|&(?:#(?:0*58|x0*3A);?|colon;)).', case=False, regex=True)\n",
        "df_xss_sqli['contains_embed_tag'] = df_xss_sqli['payload'].str.contains(r'(?i)<EMBED[\\s/+].*?(?:src|type).*?=', case=False, regex=True)\n",
        "df_xss_sqli['contains_meta_tag'] = df_xss_sqli['payload'].str.contains(r'(?i:<META[\\s/+].*?http-equiv[\\s/+]*=[\\s/+]*[\\\"\\'`]?(?:(?:c|&#x?0*(?:67|43|99|63);?)|(?:r|&#x?0*(?:82|52|114|72);?)|(?:s|&#x?0*(?:83|53|115|73);?)))', case=False, regex=True)\n",
        "df_xss_sqli['contains_applet_tag'] = df_xss_sqli['payload'].str.contains(r'(?i)<APPLET[\\s/+>]', case=False, regex=True)\n",
        "df_xss_sqli['contains_object_tag'] = df_xss_sqli['payload'].str.contains(r'(?i)<OBJECT[\\s/+].*?(?:type|codetype|classid|code|data)[\\s/+]*=', case=False, regex=True)\n",
        "df_xss_sqli['contains_xss_ascii_malformed'] = df_xss_sqli['payload'].str.contains(r'\\xbc[^\\xbe>]*[\\xbe>]|<[^\\xbe]*\\xbe|\\+ADw-.*(?:\\+AD4-|>)|<.*\\+AD4-', case=False, regex=True)\n",
        "df_xss_sqli['contains_jsfuck_obfusctaion'] = df_xss_sqli['payload'].str.contains(r'![!+ ]\\[\\]', case=False, regex=True)\n",
        "df_xss_sqli['contains_js_global_object'] = df_xss_sqli['payload'].str.contains(r'(?:self|document|this|top|window)\\s*(?:/\\*|[\\[)]).+?(?:\\]|\\*/)', case=False, regex=True)\n",
        "df_xss_sqli['contains_js_function'] = df_xss_sqli['payload'].str.contains(r'(?i)\\b(?:eval|set(?:timeout|interval)|new[\\s\\x0b]+Function|a(?:lert|tob)|btoa|(?:promp|impor)t|con(?:firm|sole\\.(?:log|dir))|fetch)[\\s\\x0b]*[\\(\\{]', case=False, regex=True)\n",
        "df_xss_sqli['contains_js_function_wo_parenthesis'] = df_xss_sqli['payload'].str.contains(r'((?:\\[[^\\]]*\\][^.]*\\.)|Reflect[^.]*\\.).*(?:map|sort|apply)[^.]*\\..*call[^`]*`.*`', case=False, regex=True)\n",
        "df_xss_sqli['contains_html_src_tags'] = df_xss_sqli['payload'].str.contains(r'(?i)\\b(?:s(?:tyle|rc)|href)\\b[\\s\\S]*?=', case=False, regex=True)\n",
        "df_xss_sqli['xss_detected_by_libinjection'] = df_xss_sqli['payload'].str.apply(lambda x: libinjection.is_xss(x)['is_xss'])\n"
      ],
      "metadata": {
        "id": "pI1B2NUhuh1y"
      },
      "id": "pI1B2NUhuh1y",
      "execution_count": null,
      "outputs": []
    },
    {
      "cell_type": "code",
      "source": [
        "df_xss_sqli.to_csv('/content/drive/MyDrive/xss_sqli_detector/datasets/xss_sqli_condensed_with_xss.csv')"
      ],
      "metadata": {
        "id": "wjpZsLzWCDwJ"
      },
      "id": "wjpZsLzWCDwJ",
      "execution_count": null,
      "outputs": []
    },
    {
      "cell_type": "code",
      "source": [
        "#SQLi Related\n",
        "df_xss_sqli['contains_db_names'] = df_xss_sqli['payload'].str.contains(r'(?i)\\b(?:d(?:atabas|b_nam)e[^0-9A-Z_a-z]*\\(|(?:information_schema|m(?:aster\\.\\.sysdatabases|s(?:db|ys(?:ac(?:cess(?:objects|storage|xml)|es)|modules2?|(?:object|querie|relationship)s))|ysql\\.db)|northwind|pg_(?:catalog|toast)|tempdb)\\b|s(?:chema(?:_name\\b|[^0-9A-Z_a-z]*\\()|(?:qlite_(?:temp_)?master|ys(?:aux|\\.database_name))\\b))', case=False, regex=True)\n",
        "df_xss_sqli['contains_sql_functions'] = df_xss_sqli['payload'].str.contains(r'(?i)\\b(?:a(?:dd(?:dat|tim)e|es_(?:de|en)crypt|s(?:cii(?:str)?|in)|tan2?)|b(?:enchmark|i(?:n_to_num|t_(?:and|count|length|x?or)))|c(?:har(?:acter)?_length|iel(?:ing)?|o(?:alesce|ercibility|llation|(?:mpres)?s|n(?:cat(?:_ws)?|nection_id|v(?:ert_tz)?)|t)|r32|ur(?:(?:dat|tim)e|rent_(?:date|setting|time(?:stamp)?|user)))|d(?:a(?:t(?:abase(?:_to_xml)?|e(?:_(?:add|format|sub)|diff))|y(?:name|of(?:month|week|year)))|count|e(?:code|s_(?:de|en)crypt)|ump)|e(?:n(?:c(?:ode|rypt)|ds_?with)|x(?:p(?:ort_set)?|tract(?:value)?))|f(?:i(?:el|n)d_in_set|ound_rows|rom_(?:base64|days|unixtime))|g(?:e(?:ometrycollection|t(?:_(?:format|lock)|pgusername))|(?:r(?:eates|oup_conca)|tid_subse)t)|hex(?:toraw)?|i(?:fnull|n(?:et6?_(?:aton|ntoa)|s(?:ert|tr)|terval)|s(?:_(?:(?:free|used)_lock|ipv(?:4(?:_(?:compat|mapped))?|6)|n(?:ot(?:_null)?|ull)|superuser)|null))|json(?:_(?:a(?:gg|rray(?:_(?:elements(?:_text)?|length))?)|build_(?:array|object)|e(?:ac|xtract_pat)h(?:_text)?|object(?:_(?:agg|keys))?|populate_record(?:set)?|strip_nulls|t(?:o_record(?:set)?|ypeof))|b(?:_(?:array(?:_(?:elements(?:_text)?|length))?|build_(?:array|object)|e(?:ac|xtract_pat)h(?:_text)?|insert|object(?:_(?:agg|keys))?|p(?:ath_(?:(?:exists|match)(?:_tz)?|query(?:_(?:(?:array|first)(?:_tz)?|tz))?)|opulate_record(?:set)?|retty)|s(?:et(?:_lax)?|trip_nulls)|t(?:o_record(?:set)?|ypeof)))?|path)?|l(?:ast_(?:day|inser_id)|case|east|i(?:kely|nestring)|o(?:_(?:from_bytea|put)|ad_file|ca(?:ltimestamp|te)|g(?:10|2))|pad|trim)|m(?:a(?:ke(?:_set|date)|ster_pos_wait)|d5|i(?:crosecon)?d|onthname|ulti(?:linestring|po(?:int|lygon)))|n(?:ame_const|ot_in|ullif)|o(?:ct(?:et_length)?|(?:ld_passwo)?rd)|p(?:eriod_(?:add|diff)|g_(?:client_encoding|(?:databas|read_fil)e|l(?:argeobject|s_dir)|sleep|user)|o(?:lygon|w)|rocedure_analyse)|qu(?:ery_to_xml|ote)|r(?:a(?:dians|nd|wtohex)|elease_lock|ow_(?:count|to_json)|pad|trim)|s(?:chema|e(?:c_to_time|ssion_user)|ha[12]?|in|oundex|q(?:lite_(?:compileoption_(?:get|used)|source_id)|rt)|t(?:arts_?with|d(?:dev_(?:po|sam)p)?|r(?:_to_date|cmp))|ub(?:(?:dat|tim)e|str(?:ing(?:_index)?)?)|ys(?:date|tem_user))|t(?:ime(?:_(?:format|to_sec)|diff|stamp(?:add|diff)?)|o(?:_(?:base64|jsonb?)|n?char|(?:day|second)s)|r(?:im|uncate))|u(?:case|n(?:compress(?:ed_length)?|hex|i(?:str|x_timestamp))|(?:pdatexm|se_json_nul)l|tc_(?:date|time(?:stamp)?)|uid(?:_short)?)|var(?:_(?:po|sam)p|iance)|we(?:ek(?:day|ofyear)|ight_string)|xmltype|yearweek)[^0-9A-Z_a-z]*\\(', case=False, regex=True)\n",
        "df_xss_sqli['contains_sql_time_based_functions'] = df_xss_sqli['payload'].str.contains(r'(?i:sleep\\(\\s*?\\d*?\\s*?\\)|benchmark\\(.*?\\,.*?\\))', case=False, regex=True)\n",
        "df_xss_sqli['contains_sql_sleep_injection_conditional'] = df_xss_sqli['payload'].str.contains(r'i)(?:select|;)[\\s\\x0b]+(?:benchmark|if|sleep)[\\s\\x0b]*?\\([\\s\\x0b]*?\\(?[\\s\\x0b]*?[0-9A-Z_a-z]+', case=False, regex=True)\n",
        "df_xss_sqli['contains_mssql_code_execution'] = df_xss_sqli['payload'].str.contains(r'(?i)[\\\"\\'`](?:[\\s\\x0b]*![\\s\\x0b]*[\\\"\\'0-9A-Z_-z]|;?[\\s\\x0b]*(?:having|select|union\\b[\\s\\x0b]*(?:all|(?:distin|sele)ct))\\b[\\s\\x0b]*[^\\s\\x0b])|\\b(?:(?:(?:c(?:onnection_id|urrent_user)|database|schema|user)[\\s\\x0b]*?|select.*?[0-9A-Z_a-z]?user)\\(|exec(?:ute)?[\\s\\x0b]+master\\.|from[^0-9A-Z_a-z]+information_schema[^0-9A-Z_a-z]|into[\\s\\x0b\\+]+(?:dump|out)file[\\s\\x0b]*?[\\\"\\'`]|union(?:[\\s\\x0b]select[\\s\\x0b]@|[\\s\\x0b\\(0-9A-Z_a-z]*?select))|[\\s\\x0b]*?exec(?:ute)?.*?[^0-9A-Z_a-z]xp_cmdshell|[^0-9A-Z_a-z]iif[\\s\\x0b]*?\\(', case=False, regex=True)\n",
        "df_xss_sqli['contains_sql_integer_overflow'] = df_xss_sqli['payload'].str.contains(r'rx ^(?i:-0000023456|4294967295|4294967296|2147483648|2147483647|0000012345|-2147483648|-2147483649|0000023456|2.2250738585072007e-308|2.2250738585072011e-308|1e309)$', case=False, regex=True)\n",
        "df_xss_sqli['contains_conditional_sql_injection'] = df_xss_sqli['payload'].str.contains(r'(?i)[\\s\\x0b\\(\\)]case[\\s\\x0b]+when.*?then|\\)[\\s\\x0b]*?like[\\s\\x0b]*?\\(|select.*?having[\\s\\x0b]*?[^\\s\\x0b]+[\\s\\x0b]*?[^\\s\\x0b0-9A-Z_a-z]|if[\\s\\x0b]?\\([0-9A-Z_a-z]+[\\s\\x0b]*?[<->~]', case=False, regex=True)\n",
        "df_xss_sqli['contains_mysql_mssql_charset'] = df_xss_sqli['payload'].str.contains(r'(?i)alter[\\s\\x0b]*?[0-9A-Z_a-z]+.*?char(?:acter)?[\\s\\x0b]+set[\\s\\x0b]+[0-9A-Z_a-z]+|[\\\"\\'`](?:;*?[\\s\\x0b]*?waitfor[\\s\\x0b]+(?:time|delay)[\\s\\x0b]+[\\\"\\'`]|;.*?:[\\s\\x0b]*?goto)', case=False, regex=True)\n",
        "df_xss_sqli['contains_match_merge_execute_injection'] = df_xss_sqli['payload'].str.contains(r'(?i:merge.*?using\\s*?\\(|execute\\s*?immediate\\s*?[\\\"\\'`]|match\\s*?[\\w(),+-]+\\s*?against\\s*?\\()', case=False, regex=True)\n",
        "df_xss_sqli['contains_basic_sqli'] = df_xss_sqli['payload'].str.contains(r'(?i)union.*?select.*?from', case=False, regex=True)\n",
        "df_xss_sqli['contains_pgsql_delays'] = df_xss_sqli['payload'].str.contains(r'(?i)select[\\s\\x0b]*?pg_sleep|waitfor[\\s\\x0b]*?delay[\\s\\x0b]?[\\\"\\'`]+[\\s\\x0b]?[0-9]|;[\\s\\x0b]*?shutdown[\\s\\x0b]*?(?:[#;\\{]|/\\*|--)', case=False, regex=True)\n",
        "df_xss_sqli['contains_mongodb_injection'] = df_xss_sqli['payload'].str.contains(r'(?i)\\[?\\$(?:a(?:bs|c(?:cumulator|osh?)|dd(?:ToSet)?|ll(?:ElementsTrue)?|n(?:d|yElementTrue)|rray(?:ElemA|ToObjec)t|sinh?|tan[2h]?|vg)|b(?:etween|i(?:narySize|t(?:And|Not|(?:O|Xo)r)?)|ottomN?|sonSize|ucket(?:Auto)?)|c(?:eil|mp|o(?:n(?:cat(?:Arrays)?|d|vert)|sh?|unt|variance(?:Po|Sam)p)|urrentDate)|d(?:a(?:te(?:Add|Diff|From(?:Parts|String)|Subtract|T(?:o(?:Parts|String)|runc))|yOf(?:Month|Week|Year))|e(?:greesToRadians|nseRank|rivative)|iv(?:ide)?|ocumentNumber)|e(?:(?:a|lemMat)ch|q|x(?:ists|p(?:MovingAvg|r)?))|f(?:i(?:lter|rstN?)|loor|unction)|g(?:etField|roup|te?)|(?:hou|xo|yea)r|i(?:fNull|n(?:c|dexOf(?:Array|Bytes|CP)|tegral)?|s(?:Array|Number|o(?:DayOfWeek|Week(?:Year)?)))|jsonSchema|l(?:astN?|et|i(?:ke|(?:nearFil|tera)l)|n|o(?:cf|g(?:10)?)|t(?:e|rim)?)|m(?:a(?:p|xN?)|e(?:dian|rgeObjects|ta)|i(?:llisecond|n(?:N|ute)?)|o(?:d|nth)|ul(?:tiply)?)|n(?:atural|e|in|o[rt])|o(?:bjectToArray|r)|p(?:ercentile|o(?:[pw]|sition)|roject|u(?:ll(?:All)?|sh))|r(?:a(?:diansToDegrees|n(?:[dk]|ge))|e(?:(?:duc|nam)e|gex(?:Find(?:All)?|Match)?|place(?:All|One)|verseArray)|ound|trim)|s(?:(?:ampleRat|lic)e|e(?:cond|t(?:Difference|(?:Equal|WindowField)s|Field|I(?:ntersection|sSubset)|OnInsert|Union)?)|(?:hif|pli|qr)t|i(?:nh?|ze)|ort(?:Array)?|t(?:dDev(?:Po|Sam)p|r(?:Len(?:Bytes|CP)|casecmp))|u(?:b(?:str(?:Bytes|CP)?|tract)|m)|witch)|t(?:anh?|ext|o(?:Bool|D(?:(?:at|oubl)e|ecimal)|HashedIndexKey|Int|Lo(?:ng|wer)|ObjectId|String|U(?:UID|pper)|pN?)|r(?:im|unc)|s(?:Increment|Second)|ype)|unset|w(?:eek|here)|zip)\\]?', case=False, regex=True)\n",
        "df_xss_sqli['contains_mysql_mssql_sp_injection'] = df_xss_sqli['payload'].str.contains(r' (?i)create[\\s\\x0b]+(?:function|procedure)[\\s\\x0b]*?[0-9A-Z_a-z]+[\\s\\x0b]*?\\([\\s\\x0b]*?\\)[\\s\\x0b]*?-|d(?:eclare[^0-9A-Z_a-z]+[#@][\\s\\x0b]*?[0-9A-Z_a-z]+|iv[\\s\\x0b]*?\\([\\+\\-]*[\\s\\x0b\\.0-9]+,[\\+\\-]*[\\s\\x0b\\.0-9]+\\))|exec[\\s\\x0b]*?\\([\\s\\x0b]*?@|(?:lo_(?:impor|ge)t|procedure[\\s\\x0b]+analyse)[\\s\\x0b]*?\\(|;[\\s\\x0b]*?(?:declare|open)[\\s\\x0b]+[\\-0-9A-Z_a-z]+|::(?:b(?:igint|ool)|double[\\s\\x0b]+precision|int(?:eger)?|numeric|oid|real|(?:tex|smallin)t)', case=False, regex=True)\n",
        "df_xss_sqli['contains_mysql_ufd_injection'] = df_xss_sqli['payload'].str.contains(r'(?i)create[\\s\\x0b]+function[\\s\\x0b].+[\\s\\x0b]returns|;[\\s\\x0b]*?(?:alter|(?:(?:cre|trunc|upd)at|renam)e|d(?:e(?:lete|sc)|rop)|(?:inser|selec)t|load)\\b[\\s\\x0b]*?[\\(\\[]?[0-9A-Z_a-z]{2,}', case=False, regex=True)\n",
        "df_xss_sqli['contains_concatenated_sql_injection'] = df_xss_sqli['payload'].str.contains(r'(?i)\\b(?:(?:alter|(?:(?:cre|trunc|upd)at|renam)e|de(?:lete|sc)|(?:inser|selec)t|load)[\\s\\x0b]+(?:char|group_concat|load_file)\\b[\\s\\x0b]*\\(?|end[\\s\\x0b]*?\\);)|[\\s\\x0b\\(]load_file[\\s\\x0b]*?\\(|[\\\"'`][\\s\\x0b]+regexp[^0-9A-Z_a-z]|[\\\"'0-9A-Z_-z][\\s\\x0b]+as\\b[\\s\\x0b]*[\\\"'0-9A-Z_-z]+[\\s\\x0b]*\\bfrom|^[^A-Z_a-z]+[\\s\\x0b]*?(?:(?:(?:(?:cre|trunc)at|renam)e|d(?:e(?:lete|sc)|rop)|(?:inser|selec)t|load)[\\s\\x0b]+[0-9A-Z_a-z]+|u(?:pdate[\\s\\x0b]+[0-9A-Z_a-z]+|nion[\\s\\x0b]*(?:all|(?:sele|distin)ct)\\b)|alter[\\s\\x0b]*(?:a(?:(?:ggregat|pplication[\\s\\x0b]*rol)e|s(?:sembl|ymmetric[\\s\\x0b]*ke)y|u(?:dit|thorization)|vailability[\\s\\x0b]*group)|b(?:roker[\\s\\x0b]*priority|ufferpool)|c(?:ertificate|luster|o(?:l(?:latio|um)|nversio)n|r(?:edential|yptographic[\\s\\x0b]*provider))|d(?:atabase|efault|i(?:mension|skgroup)|omain)|e(?:(?:ndpoi|ve)nt|xte(?:nsion|rnal))|f(?:lashback|oreign|u(?:lltext|nction))|hi(?:erarchy|stogram)|group|in(?:dex(?:type)?|memory|stance)|java|l(?:a(?:ngua|r)ge|ibrary|o(?:ckdown|g(?:file[\\s\\x0b]*group|in)))|m(?:a(?:s(?:k|ter[\\s\\x0b]*key)|terialized)|e(?:ssage[\\s\\x0b]*type|thod)|odule)|(?:nicknam|queu)e|o(?:perator|utline)|p(?:a(?:ckage|rtition)|ermission|ro(?:cedur|fil)e)|r(?:e(?:mot|sourc)e|o(?:l(?:e|lback)|ute))|s(?:chema|e(?:arch|curity|rv(?:er|ice)|quence|ssion)|y(?:mmetric[\\s\\x0b]*key|nonym)|togroup)|t(?:able(?:space)?|ext|hreshold|r(?:igger|usted)|ype)|us(?:age|er)|view|w(?:ork(?:load)?|rapper)|x(?:ml[\\s\\x0b]*schema|srobject))\\b)', case=False, regex=True)\n",
        "df_xss_sqli['contains_mysql_inline_comments'] = df_xss_sqli['payload'].str.contains(r'(?i)/\\*[\\s\\x0b]*?[!\\+](?:[\\s\\x0b\\(\\)\\-0-9=A-Z_a-z]+)?\\*/', case=False, regex=True)\n",
        "df_xss_sqli['contains_sql_auth_bypass'] = df_xss_sqli['payload'].str.contains(r'^(?:[^\\']*\\'|[^\\\"]*\\\"|[^`]*`)[\\s\\x0b]*;', case=False, regex=True)\n",
        "df_xss_sqli['contains_mysql_scientific_notation'] = df_xss_sqli['payload'].str.contains(r'(?i)1\\.e(?:[\\(\\),]|\\.[\\$0-9A-Z_a-z])', case=False, regex=True)\n",
        "df_xss_sqli['contains_jsonsql_syntax'] = df_xss_sqli['payload'].str.contains(r'(?i)(?:::(/\\*.*?\\*/)?jsonb?)?(?:(?:@|->?)>|<@|\\?[&\\|]?|#>>?|[<>]|<-)|(?:(?:@|->?)>|<@|\\?[&\\|]?|#>>?|[<>]|<-)?[\\\"\\'`][\\[\\{][^#\\]\\}]*[\\]\\}]+[\\\"\\'`]|\\bjson_extract\\b[^\\(]*\\([^\\)]*\\)', case=False, regex=True)\n",
        "df_xss_sqli['contains_sql_tautologies'] = df_xss_sqli['payload'].str.contains(r'(?i)[\\s\\x0b\\\"\\'-\\)`]*?\\b([0-9A-Z_a-z]+)\\b[\\s\\x0b\\\"\\'-\\)`]*?(?:=|<=>|(?:sounds[\\s\\x0b]+)?like|glob|r(?:like|egexp))[\\s\\x0b\\\"\\'-\\)`]*?\\b([0-9A-Z_a-z]+)\\b', case=False, regex=True)\n",
        "df_xss_sqli['contains_sql_operators'] = df_xss_sqli['payload'].str.contains(r'(?i)[!=]=|&&|\\|\\||->|>[=>]|<(?:[<=]|>(?:[\\s\\x0b]+binary)?)|\\b(?:(?:xor|r(?:egexp|like)|i(?:snull|like)|notnull)\\b|collate(?:[^0-9A-Z_a-z]*?(?:U&)?[\\\"\\'`]|[^0-9A-Z_a-z]+(?:(?:binary|nocase|rtrim)\\b|[0-9A-Z_a-z]*?_))|(?:likel(?:ihood|y)|unlikely)[\\s\\x0b]*\\()|r(?:egexp|like)[\\s\\x0b]+binary|not[\\s\\x0b]+between[\\s\\x0b]+(?:0[\\s\\x0b]+and|(?:\\'[^\\']*\\'|\\\"[^\\\"]*\\\")[\\s\\x0b]+and[\\s\\x0b]+(?:\\'[^\\']*\\'|\\\"[^\\\"]*\\\"))|is[\\s\\x0b]+null|like[\\s\\x0b]+(?:null|[0-9A-Z_a-z]+[\\s\\x0b]+escape\\b)|(?:^|[^0-9A-Z_a-z])in[\\s\\x0b\\+]*\\([\\s\\x0b\\\"0-9]+[^\\(\\)]*\\)|[!<->][\\s\\x0b]*all\\b', case=False, regex=True)\n",
        "\n",
        "\n",
        "df_xss_sqli['sqli_detected_by_libinjection'] = df_xss_sqli['payload'].str.apply(lambda x: libinjection.is_sql_injection(x)['is_sqli'])"
      ],
      "metadata": {
        "id": "tsTMTUSr-7b-"
      },
      "id": "tsTMTUSr-7b-",
      "execution_count": null,
      "outputs": []
    },
    {
      "cell_type": "code",
      "source": [
        "df_xss_sqli.to_csv('/content/drive/MyDrive/xss_sqli_detector/datasets/xss_sqli_condensed_with_xss_and_sqli.csv')"
      ],
      "metadata": {
        "id": "F_hMzYkACNFB"
      },
      "id": "F_hMzYkACNFB",
      "execution_count": null,
      "outputs": []
    },
    {
      "metadata": {
        "id": "2420da1762ba579"
      },
      "cell_type": "code",
      "outputs": [],
      "execution_count": null,
      "source": [
        "URL_RE = re.compile(r'(?i)\\b(?:https?:)?//[^\\s\"\\'<>()]+')  # http(s):// o //...\n",
        "\n",
        "has_url = df_xss_sqli['payload'].str.contains(URL_RE, na=False)\n"
      ],
      "id": "2420da1762ba579"
    },
    {
      "metadata": {
        "id": "bd71971cc4aeb1f8"
      },
      "cell_type": "code",
      "outputs": [],
      "execution_count": null,
      "source": [
        "PATTERN_REMOVE_DOMAIN = re.compile(r'^(?:[a-z][a-z0-9+.\\-]*:)?//[^/]*', re.I)\n",
        "\n",
        "def path_and_query_regex(u: str) -> str:\n",
        "    if not isinstance(u, str) or not u:\n",
        "        return \"\"\n",
        "    s = PATTERN_REMOVE_DOMAIN.sub(\"\", u.strip())\n",
        "    if s == \"\":  # caso \"http://dominio\" sin path\n",
        "        return \"/\"\n",
        "    # garantiza que empiece con \"/\"\n",
        "    return s if s.startswith(\"/\") else \"/\" + s\n"
      ],
      "id": "bd71971cc4aeb1f8"
    },
    {
      "cell_type": "code",
      "execution_count": null,
      "id": "initial_id",
      "metadata": {
        "collapsed": true,
        "id": "initial_id"
      },
      "outputs": [],
      "source": [
        "def only_query(url: str) -> str:\n",
        "    if not isinstance(url, str) or not url:\n",
        "        return \"\"\n",
        "    s = PATTERN_REMOVE_DOMAIN.sub(\"\", url.strip())\n",
        "    return s.split(\"?\", 1)[1] if \"?\" in s else \"\"\n",
        "\n",
        "\n",
        "AVAILABLE_REGEXES = {\n",
        "    'XSS_VALUE_SPECIAL_CHARS': re.compile(r'^(\"|\">|<|/><|<>\\\"\\'`\\(\\){}\\[\\];\\\\)', re.IGNORECASE),\n",
        "    'XSS_SCRIPT_RELATED': re.compile(r'(?is)\\<\\\\s*script\\\\b[^>]*>.*?<\\\\s*/\\\\s*script\\\\s*>', re.IGNORECASE),\n",
        "    'XSS_OPENING_TAGS': re.compile(r'(?i)<\\\\s*(?:script|iframe|object|embed|svg|math|link|meta|img|video|audio)\\b',\n",
        "                                   re.IGNORECASE),\n",
        "    'XSS_DOM_EVENTS': re.compile(r'(?i)\\bon[a-z]+\\\\s*(?:=|%3[dD])', re.IGNORECASE),\n",
        "    'XSS_CODIFIED_TAGS': re.compile(r'(?i)(?:%3[cC]|%3[eE]|#x?0*3[cC];|#x?0*3[eE];|#0*60;|#0*62;|lt;|gt;)',\n",
        "                                    re.IGNORECASE),\n",
        "    'XSS_SOURCE_ATTRS': re.compile(\n",
        "        r'(?i)\\b(?:src|href|xlink:href|formaction|srcdoc)\\s*=\\s*[\"\\']?\\s*(?:javascript|vbscript|data)\\s*:',\n",
        "        re.IGNORECASE),\n",
        "    'XSS_IMG_RELATED': re.compile(r'(?i)<\\s*img\\b[^>]*\\bon(?:error|load)\\s*(?:=|%3[dD])', re.IGNORECASE),\n",
        "    'XSS_INLINE_CSS': re.compile(\n",
        "        r'(?i)\\bstyle\\s*=\\s*[\"\\'][^\"\\']*(?:expression\\s*\\(|url\\s*\\(\\s*[\\'\"]?\\s*(?:javascript|data)\\s*:)[^\"\\']*[\"\\']',\n",
        "        re.IGNORECASE),\n",
        "    'XSS_IMPORT_CSS': re.compile(r'(?i)(?:@import\\b|import\\s*\\()', re.IGNORECASE),\n",
        "    'XSS_POTENTIAL_INJECTION_TAGS': re.compile(r'(?i)<\\s*(?:textarea|template)\\b', re.IGNORECASE)\n",
        "}\n",
        "\n",
        "\n",
        "# 3) De una URL -> dict de {param: valor_decodificado} solo si el valor \"huele\" a XSS\n",
        "def suspicious_params_from_url(url: str) -> dict[str, str]:\n",
        "    qs = only_query(url)\n",
        "    if not qs:\n",
        "        return {}\n",
        "    parsed_params = {}\n",
        "    for k, v in parse_qsl(qs, keep_blank_values=True):\n",
        "        val = unquote_plus(v)\n",
        "        parsed_params[k] = val\n",
        "\n",
        "    key_hits = {}\n",
        "    for k, v in parsed_params.items():\n",
        "        for rgx_key, rgx in AVAILABLE_REGEXES.items():\n",
        "            if rgx.match(v) or rgx.match(k):\n",
        "                if key_hits.get(f\"url_hits\") is None:\n",
        "                    key_hits[f\"{k}_hits\"] = 1\n",
        "                else:\n",
        "                    key_hits[f\"{k}_hits\"] += 1\n",
        "    print(\"KeyHitsAndParams: \", key_hits, parsed_params)\n",
        "    # print(\"SuspectParams: \", suspected_params)\n",
        "    return {}\n",
        "\n",
        "\n",
        "malicious_urls = df_fmereani[\"unsanitized_payload\"].loc[df_fmereani[\"type\"].eq(\"Malicious\")].head(10)\n",
        "for val in malicious_urls:\n",
        "    suspicious_params_from_url(val)"
      ]
    }
  ],
  "metadata": {
    "kernelspec": {
      "display_name": "Python 3",
      "language": "python",
      "name": "python3"
    },
    "language_info": {
      "codemirror_mode": {
        "name": "ipython",
        "version": 2
      },
      "file_extension": ".py",
      "mimetype": "text/x-python",
      "name": "python",
      "nbconvert_exporter": "python",
      "pygments_lexer": "ipython2",
      "version": "2.7.6"
    },
    "colab": {
      "provenance": [],
      "include_colab_link": true
    }
  },
  "nbformat": 4,
  "nbformat_minor": 5
}