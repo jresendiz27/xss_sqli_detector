{
 "cells": [
  {
   "metadata": {
    "ExecuteTime": {
     "end_time": "2025-09-06T23:16:48.236279Z",
     "start_time": "2025-09-06T23:16:48.192420Z"
    }
   },
   "cell_type": "code",
   "source": [
    "import pandas as pd\n",
    "import seaborn as sns\n",
    "import requests"
   ],
   "id": "3933885867c3d765",
   "outputs": [],
   "execution_count": 3
  },
  {
   "metadata": {},
   "cell_type": "code",
   "outputs": [],
   "execution_count": null,
   "source": [
    "## DataSources:\n",
    "# https://github.com/fmereani/Cross-Site-Scripting-XSS\n",
    "# https://www.kaggle.com/datasets/syedsaqlainhussain/cross-site-scripting-xss-dataset-for-deep-learning?select=XSS_dataset.csv\n"
   ],
   "id": "a246e37fbf959057"
  },
  {
   "metadata": {
    "ExecuteTime": {
     "end_time": "2025-09-06T23:19:04.839832Z",
     "start_time": "2025-09-06T23:19:04.062472Z"
    }
   },
   "cell_type": "code",
   "source": [
    "# femerani dataset\n",
    "raw_payload = requests.get(\"https://raw.githubusercontent.com/fmereani/Cross-Site-Scripting-XSS/refs/heads/master/XSSDataSets/Payloads.csv\").text\n",
    "with open(\"datasets/raw/fmereani_xss_dataset_payload.csv\", 'w') as f:\n",
    "    f.write(raw_payload)"
   ],
   "id": "8593fdcba4b47248",
   "outputs": [],
   "execution_count": 12
  },
  {
   "metadata": {
    "ExecuteTime": {
     "end_time": "2025-09-06T23:39:13.021743Z",
     "start_time": "2025-09-06T23:39:11.442027Z"
    }
   },
   "cell_type": "code",
   "source": [
    "# huggingface shengqin dataset\n",
    "splits = {'train': 'train.csv', 'test': 'test.csv'}\n",
    "df = pd.read_csv(\"hf://datasets/shengqin/web-attacks-ab2/\" + splits[\"train\"])\n",
    "df.to_csv(\"datasets/raw/shengqin_web_attacks_ab2_train.csv\", index=False)"
   ],
   "id": "b3ab63dd60d8f428",
   "outputs": [],
   "execution_count": 33
  },
  {
   "metadata": {
    "ExecuteTime": {
     "end_time": "2025-09-06T23:39:43.203287Z",
     "start_time": "2025-09-06T23:39:42.613259Z"
    }
   },
   "cell_type": "code",
   "source": [
    "# huggingface shenqin datase test\n",
    "df = pd.read_csv(\"hf://datasets/shengqin/web-attacks-ab2/\" + splits[\"test\"])\n",
    "df.to_csv(\"datasets/raw/shengqin_web_attacks_ab2_test.csv\", index=False)"
   ],
   "id": "210e36384a07a0db",
   "outputs": [],
   "execution_count": 34
  },
  {
   "metadata": {
    "ExecuteTime": {
     "end_time": "2025-09-06T23:40:37.232106Z",
     "start_time": "2025-09-06T23:40:36.927204Z"
    }
   },
   "cell_type": "code",
   "source": [
    "df_fmereani = pd.read_csv(\"datasets/raw/fmereani_xss_dataset_payload.csv\")\n",
    "df_xss_kaggle = pd.read_csv(\"datasets/raw/XSS_dataset.csv\")\n",
    "df_shengqin = pd.read_csv(\"datasets/raw/shengqin_web_attacks_ab2_train.csv\")"
   ],
   "id": "d5341490305e7032",
   "outputs": [],
   "execution_count": 35
  },
  {
   "metadata": {
    "ExecuteTime": {
     "end_time": "2025-09-07T00:45:50.804387Z",
     "start_time": "2025-09-07T00:45:50.798187Z"
    }
   },
   "cell_type": "code",
   "source": "df_fmereani.head(5)",
   "id": "506b5fbd3431f67e",
   "outputs": [
    {
     "data": {
      "text/plain": [
       "                                            Payloads      Class\n",
       "0  http://www.nwce.gov.uk/search_process.php?keyw...  Malicious\n",
       "1  http://www.manchester.gov.uk/site/scripts/goog...  Malicious\n",
       "2  http://www.ldsmissions.com/us/index.php?action...  Malicious\n",
       "3  http://education.powys.gov.uk/english/adult_ed...  Malicious\n",
       "4  http://www.northwarks.gov.uk/site/scripts/goog...  Malicious"
      ],
      "text/html": [
       "<div>\n",
       "<style scoped>\n",
       "    .dataframe tbody tr th:only-of-type {\n",
       "        vertical-align: middle;\n",
       "    }\n",
       "\n",
       "    .dataframe tbody tr th {\n",
       "        vertical-align: top;\n",
       "    }\n",
       "\n",
       "    .dataframe thead th {\n",
       "        text-align: right;\n",
       "    }\n",
       "</style>\n",
       "<table border=\"1\" class=\"dataframe\">\n",
       "  <thead>\n",
       "    <tr style=\"text-align: right;\">\n",
       "      <th></th>\n",
       "      <th>Payloads</th>\n",
       "      <th>Class</th>\n",
       "    </tr>\n",
       "  </thead>\n",
       "  <tbody>\n",
       "    <tr>\n",
       "      <th>0</th>\n",
       "      <td>http://www.nwce.gov.uk/search_process.php?keyw...</td>\n",
       "      <td>Malicious</td>\n",
       "    </tr>\n",
       "    <tr>\n",
       "      <th>1</th>\n",
       "      <td>http://www.manchester.gov.uk/site/scripts/goog...</td>\n",
       "      <td>Malicious</td>\n",
       "    </tr>\n",
       "    <tr>\n",
       "      <th>2</th>\n",
       "      <td>http://www.ldsmissions.com/us/index.php?action...</td>\n",
       "      <td>Malicious</td>\n",
       "    </tr>\n",
       "    <tr>\n",
       "      <th>3</th>\n",
       "      <td>http://education.powys.gov.uk/english/adult_ed...</td>\n",
       "      <td>Malicious</td>\n",
       "    </tr>\n",
       "    <tr>\n",
       "      <th>4</th>\n",
       "      <td>http://www.northwarks.gov.uk/site/scripts/goog...</td>\n",
       "      <td>Malicious</td>\n",
       "    </tr>\n",
       "  </tbody>\n",
       "</table>\n",
       "</div>"
      ]
     },
     "execution_count": 38,
     "metadata": {},
     "output_type": "execute_result"
    }
   ],
   "execution_count": 38
  },
  {
   "metadata": {
    "ExecuteTime": {
     "end_time": "2025-09-06T23:32:23.582723Z",
     "start_time": "2025-09-06T23:32:23.576159Z"
    }
   },
   "cell_type": "code",
   "source": "df_xss_kaggle.head(5)",
   "id": "41194a3b07c0387",
   "outputs": [
    {
     "data": {
      "text/plain": [
       "   Unnamed: 0                                           Sentence  Label\n",
       "0           0  <li><a href=\"/wiki/File:Socrates.png\" class=\"i...      0\n",
       "1           1               <tt onmouseover=\"alert(1)\">test</tt>      1\n",
       "2           2  \\t </span> <span class=\"reference-text\">Steeri...      0\n",
       "3           3  \\t </span> <span class=\"reference-text\"><cite ...      0\n",
       "4           4  \\t </span>. <a href=\"/wiki/Digital_object_iden...      0"
      ],
      "text/html": [
       "<div>\n",
       "<style scoped>\n",
       "    .dataframe tbody tr th:only-of-type {\n",
       "        vertical-align: middle;\n",
       "    }\n",
       "\n",
       "    .dataframe tbody tr th {\n",
       "        vertical-align: top;\n",
       "    }\n",
       "\n",
       "    .dataframe thead th {\n",
       "        text-align: right;\n",
       "    }\n",
       "</style>\n",
       "<table border=\"1\" class=\"dataframe\">\n",
       "  <thead>\n",
       "    <tr style=\"text-align: right;\">\n",
       "      <th></th>\n",
       "      <th>Unnamed: 0</th>\n",
       "      <th>Sentence</th>\n",
       "      <th>Label</th>\n",
       "    </tr>\n",
       "  </thead>\n",
       "  <tbody>\n",
       "    <tr>\n",
       "      <th>0</th>\n",
       "      <td>0</td>\n",
       "      <td>&lt;li&gt;&lt;a href=\"/wiki/File:Socrates.png\" class=\"i...</td>\n",
       "      <td>0</td>\n",
       "    </tr>\n",
       "    <tr>\n",
       "      <th>1</th>\n",
       "      <td>1</td>\n",
       "      <td>&lt;tt onmouseover=\"alert(1)\"&gt;test&lt;/tt&gt;</td>\n",
       "      <td>1</td>\n",
       "    </tr>\n",
       "    <tr>\n",
       "      <th>2</th>\n",
       "      <td>2</td>\n",
       "      <td>\\t &lt;/span&gt; &lt;span class=\"reference-text\"&gt;Steeri...</td>\n",
       "      <td>0</td>\n",
       "    </tr>\n",
       "    <tr>\n",
       "      <th>3</th>\n",
       "      <td>3</td>\n",
       "      <td>\\t &lt;/span&gt; &lt;span class=\"reference-text\"&gt;&lt;cite ...</td>\n",
       "      <td>0</td>\n",
       "    </tr>\n",
       "    <tr>\n",
       "      <th>4</th>\n",
       "      <td>4</td>\n",
       "      <td>\\t &lt;/span&gt;. &lt;a href=\"/wiki/Digital_object_iden...</td>\n",
       "      <td>0</td>\n",
       "    </tr>\n",
       "  </tbody>\n",
       "</table>\n",
       "</div>"
      ]
     },
     "execution_count": 28,
     "metadata": {},
     "output_type": "execute_result"
    }
   ],
   "execution_count": 28
  },
  {
   "metadata": {
    "ExecuteTime": {
     "end_time": "2025-09-06T23:40:44.892784Z",
     "start_time": "2025-09-06T23:40:44.885799Z"
    }
   },
   "cell_type": "code",
   "source": "df_shengqin.head(5)",
   "id": "11c382bc5cc0be09",
   "outputs": [
    {
     "data": {
      "text/plain": [
       "                                             Payload  Label text_label  ID\n",
       "0                \"1%\"\"  )   waitfor delay '0:0:5'--\"      1       SQLi   1\n",
       "1             <form onmouseup=\"alert(1)\">test</form>      2        XSS   2\n",
       "2                             your skin looks lovely      0     normal   3\n",
       "3  xubder rvy6crzr34rulq71yfvscl740klx2d0 s6so06r...      1       SQLi   4\n",
       "4  åŒã˜ãƒ–ãƒ©ãƒ³ãƒ‰ã®æ™‚è¨ˆã‚’è³¼å…¥ã—ã€ãƒ•ã...      0     normal   5"
      ],
      "text/html": [
       "<div>\n",
       "<style scoped>\n",
       "    .dataframe tbody tr th:only-of-type {\n",
       "        vertical-align: middle;\n",
       "    }\n",
       "\n",
       "    .dataframe tbody tr th {\n",
       "        vertical-align: top;\n",
       "    }\n",
       "\n",
       "    .dataframe thead th {\n",
       "        text-align: right;\n",
       "    }\n",
       "</style>\n",
       "<table border=\"1\" class=\"dataframe\">\n",
       "  <thead>\n",
       "    <tr style=\"text-align: right;\">\n",
       "      <th></th>\n",
       "      <th>Payload</th>\n",
       "      <th>Label</th>\n",
       "      <th>text_label</th>\n",
       "      <th>ID</th>\n",
       "    </tr>\n",
       "  </thead>\n",
       "  <tbody>\n",
       "    <tr>\n",
       "      <th>0</th>\n",
       "      <td>\"1%\"\"  )   waitfor delay '0:0:5'--\"</td>\n",
       "      <td>1</td>\n",
       "      <td>SQLi</td>\n",
       "      <td>1</td>\n",
       "    </tr>\n",
       "    <tr>\n",
       "      <th>1</th>\n",
       "      <td>&lt;form onmouseup=\"alert(1)\"&gt;test&lt;/form&gt;</td>\n",
       "      <td>2</td>\n",
       "      <td>XSS</td>\n",
       "      <td>2</td>\n",
       "    </tr>\n",
       "    <tr>\n",
       "      <th>2</th>\n",
       "      <td>your skin looks lovely</td>\n",
       "      <td>0</td>\n",
       "      <td>normal</td>\n",
       "      <td>3</td>\n",
       "    </tr>\n",
       "    <tr>\n",
       "      <th>3</th>\n",
       "      <td>xubder rvy6crzr34rulq71yfvscl740klx2d0 s6so06r...</td>\n",
       "      <td>1</td>\n",
       "      <td>SQLi</td>\n",
       "      <td>4</td>\n",
       "    </tr>\n",
       "    <tr>\n",
       "      <th>4</th>\n",
       "      <td>åŒã˜ãƒ–ãƒ©ãƒ³ãƒ‰ã®æ™‚è¨ˆã‚’è³¼å…¥ã—ã€ãƒ•ã...</td>\n",
       "      <td>0</td>\n",
       "      <td>normal</td>\n",
       "      <td>5</td>\n",
       "    </tr>\n",
       "  </tbody>\n",
       "</table>\n",
       "</div>"
      ]
     },
     "execution_count": 36,
     "metadata": {},
     "output_type": "execute_result"
    }
   ],
   "execution_count": 36
  },
  {
   "metadata": {
    "ExecuteTime": {
     "end_time": "2025-09-06T23:20:33.599345Z",
     "start_time": "2025-09-06T23:20:33.592138Z"
    }
   },
   "cell_type": "code",
   "source": "df_fmereani['Class'].value_counts()",
   "id": "461f043f43f9de06",
   "outputs": [
    {
     "data": {
      "text/plain": [
       "Class\n",
       "Benign       28068\n",
       "Malicious    15149\n",
       "Name: count, dtype: int64"
      ]
     },
     "execution_count": 20,
     "metadata": {},
     "output_type": "execute_result"
    }
   ],
   "execution_count": 20
  },
  {
   "metadata": {},
   "cell_type": "code",
   "outputs": [],
   "execution_count": null,
   "source": "",
   "id": "9cf10e6293829959"
  }
 ],
 "metadata": {
  "kernelspec": {
   "name": "python3",
   "language": "python",
   "display_name": "Python 3 (ipykernel)"
  }
 },
 "nbformat": 4,
 "nbformat_minor": 5
}
