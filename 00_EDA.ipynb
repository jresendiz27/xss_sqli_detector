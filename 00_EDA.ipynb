{
 "cells": [
  {
   "metadata": {
    "ExecuteTime": {
     "end_time": "2025-09-07T23:45:55.190225Z",
     "start_time": "2025-09-07T23:45:55.183030Z"
    }
   },
   "cell_type": "code",
   "source": [
    "import pandas as pd\n",
    "import seaborn as sns\n",
    "import requests\n",
    "from urllib.parse import urlsplit, parse_qs, unquote_plus, parse_qsl\n",
    "import re"
   ],
   "id": "3933885867c3d765",
   "outputs": [],
   "execution_count": 53
  },
  {
   "metadata": {
    "ExecuteTime": {
     "end_time": "2025-09-07T18:10:42.121118Z",
     "start_time": "2025-09-07T18:10:42.117282Z"
    }
   },
   "cell_type": "code",
   "source": [
    "## DataSources:\n",
    "# https://github.com/fmereani/Cross-Site-Scripting-XSS\n",
    "# https://www.kaggle.com/datasets/syedsaqlainhussain/cross-site-scripting-xss-dataset-for-deep-learning?select=XSS_dataset.csv\n",
    "# https://huggingface.co/datasets/shengqin/web-attacks/\n",
    "# https://huggingface.co/datasets/shengqin/web-attacks-ab2\n",
    "# https://www.kaggle.com/datasets/gambleryu/biggest-sql-injection-dataset\n",
    "# https://www.kaggle.com/datasets/sajid576/sql-injection-dataset\n"
   ],
   "id": "a246e37fbf959057",
   "outputs": [],
   "execution_count": 2
  },
  {
   "metadata": {
    "ExecuteTime": {
     "end_time": "2025-09-06T23:19:04.839832Z",
     "start_time": "2025-09-06T23:19:04.062472Z"
    }
   },
   "cell_type": "code",
   "source": [
    "# download fmereani dataset\n",
    "raw_payload = requests.get(\n",
    "    \"https://raw.githubusercontent.com/fmereani/Cross-Site-Scripting-XSS/refs/heads/master/XSSDataSets/Payloads.csv\").text\n",
    "with open(\"datasets/raw/fmereani_xss_dataset_payload.csv\", 'w') as f:\n",
    "    f.write(raw_payload)"
   ],
   "id": "8593fdcba4b47248",
   "outputs": [],
   "execution_count": 12
  },
  {
   "metadata": {
    "ExecuteTime": {
     "end_time": "2025-09-06T23:39:13.021743Z",
     "start_time": "2025-09-06T23:39:11.442027Z"
    }
   },
   "cell_type": "code",
   "source": [
    "# huggingface shengqin dataset\n",
    "splits = {'train': 'train.csv', 'test': 'test.csv'}\n",
    "df = pd.read_csv(\"hf://datasets/shengqin/web-attacks-ab2/\" + splits[\"train\"])\n",
    "df.to_csv(\"datasets/raw/shengqin_web_attacks_ab2_train.csv\", index=False)\n",
    "# huggingface shenqin datase test\n",
    "df = pd.read_csv(\"hf://datasets/shengqin/web-attacks-ab2/\" + splits[\"test\"])\n",
    "df.to_csv(\"datasets/raw/shengqin_web_attacks_ab2_test.csv\", index=False)"
   ],
   "id": "b3ab63dd60d8f428",
   "outputs": [],
   "execution_count": 33
  },
  {
   "metadata": {
    "ExecuteTime": {
     "end_time": "2025-09-07T18:12:40.249219Z",
     "start_time": "2025-09-07T18:12:39.135643Z"
    }
   },
   "cell_type": "code",
   "source": [
    "# huggingface shengqin web-attacks dataset train\n",
    "splits = {'train': 'train.csv', 'test': 'test.csv'}\n",
    "df = pd.read_csv(\"hf://datasets/shengqin/web-attacks/\" + splits[\"train\"])\n",
    "df.to_csv(\"datasets/raw/shengqin_web_attacks_train.csv\", index=False)\n",
    "\n",
    "df = pd.read_csv(\"hf://datasets/shengqin/web-attacks/\" + splits[\"test\"])\n",
    "df.to_csv(\"datasets/raw/shengqin_web_attacks_test.csv\", index=False)"
   ],
   "id": "d825b051aaaa3ec2",
   "outputs": [
    {
     "name": "stderr",
     "output_type": "stream",
     "text": [
      "/home/jresendiz/Documents/xss_sqli_detector/.venv/lib/python3.12/site-packages/tqdm/auto.py:21: TqdmWarning: IProgress not found. Please update jupyter and ipywidgets. See https://ipywidgets.readthedocs.io/en/stable/user_install.html\n",
      "  from .autonotebook import tqdm as notebook_tqdm\n"
     ]
    }
   ],
   "execution_count": 5
  },
  {
   "metadata": {
    "ExecuteTime": {
     "end_time": "2025-09-08T01:08:16.192003Z",
     "start_time": "2025-09-08T01:08:15.239051Z"
    }
   },
   "cell_type": "code",
   "source": [
    "# Load downloaded raw datasets\n",
    "df_fmereani = pd.read_csv(\"datasets/raw/fmereani_xss_dataset_payload.csv\")\n",
    "df_xss_kaggle = pd.read_csv(\"datasets/raw/XSS_dataset.csv\")\n",
    "df_shengqin_ab2 = pd.read_csv(\"datasets/raw/shengqin_web_attacks_ab2_train.csv\")\n",
    "df_shengqin_web = pd.read_csv(\"datasets/raw/shengqin_web_attacks_train.csv\")"
   ],
   "id": "d5341490305e7032",
   "outputs": [],
   "execution_count": 108
  },
  {
   "metadata": {
    "ExecuteTime": {
     "end_time": "2025-09-07T23:06:37.200714Z",
     "start_time": "2025-09-07T23:06:37.173961Z"
    }
   },
   "cell_type": "code",
   "source": "df_fmereani.sample(5)",
   "id": "506b5fbd3431f67e",
   "outputs": [
    {
     "data": {
      "text/plain": [
       "                                                Payloads   Class\n",
       "21351  excellent hotel and location my mom, husband a...  Benign\n",
       "38599  great business hotel near suntec with a few di...  Benign\n",
       "34273  comfortable but not perfect i stayed at the be...  Benign\n",
       "42110                  insertar&precio=8916&b1=confirmar  Benign\n",
       "33122  http://www.wikihow.com/start-a-successful-yout...  Benign"
      ],
      "text/html": [
       "<div>\n",
       "<style scoped>\n",
       "    .dataframe tbody tr th:only-of-type {\n",
       "        vertical-align: middle;\n",
       "    }\n",
       "\n",
       "    .dataframe tbody tr th {\n",
       "        vertical-align: top;\n",
       "    }\n",
       "\n",
       "    .dataframe thead th {\n",
       "        text-align: right;\n",
       "    }\n",
       "</style>\n",
       "<table border=\"1\" class=\"dataframe\">\n",
       "  <thead>\n",
       "    <tr style=\"text-align: right;\">\n",
       "      <th></th>\n",
       "      <th>Payloads</th>\n",
       "      <th>Class</th>\n",
       "    </tr>\n",
       "  </thead>\n",
       "  <tbody>\n",
       "    <tr>\n",
       "      <th>21351</th>\n",
       "      <td>excellent hotel and location my mom, husband a...</td>\n",
       "      <td>Benign</td>\n",
       "    </tr>\n",
       "    <tr>\n",
       "      <th>38599</th>\n",
       "      <td>great business hotel near suntec with a few di...</td>\n",
       "      <td>Benign</td>\n",
       "    </tr>\n",
       "    <tr>\n",
       "      <th>34273</th>\n",
       "      <td>comfortable but not perfect i stayed at the be...</td>\n",
       "      <td>Benign</td>\n",
       "    </tr>\n",
       "    <tr>\n",
       "      <th>42110</th>\n",
       "      <td>insertar&amp;precio=8916&amp;b1=confirmar</td>\n",
       "      <td>Benign</td>\n",
       "    </tr>\n",
       "    <tr>\n",
       "      <th>33122</th>\n",
       "      <td>http://www.wikihow.com/start-a-successful-yout...</td>\n",
       "      <td>Benign</td>\n",
       "    </tr>\n",
       "  </tbody>\n",
       "</table>\n",
       "</div>"
      ]
     },
     "execution_count": 3,
     "metadata": {},
     "output_type": "execute_result"
    }
   ],
   "execution_count": 3
  },
  {
   "metadata": {
    "ExecuteTime": {
     "end_time": "2025-09-07T23:10:51.230048Z",
     "start_time": "2025-09-07T23:10:51.215091Z"
    }
   },
   "cell_type": "code",
   "source": "df_xss_kaggle.sample(5)",
   "id": "41194a3b07c0387",
   "outputs": [
    {
     "data": {
      "text/plain": [
       "       Unnamed: 0                                           Sentence  Label\n",
       "5065         5065     <b draggable=\"true\" ondrag=\"alert(1)\">test</b>      1\n",
       "12323       12323  <div draggable=\"true\" contenteditable>drag me<...      1\n",
       "11163       11163                \\t <div style=\"padding:0em 0.25em\">      0\n",
       "712           712               <td onmouseover=\"alert(1)\">test</td>      1\n",
       "12947       12947                 <th onmouseup=\"alert(1)\">test</th>      1"
      ],
      "text/html": [
       "<div>\n",
       "<style scoped>\n",
       "    .dataframe tbody tr th:only-of-type {\n",
       "        vertical-align: middle;\n",
       "    }\n",
       "\n",
       "    .dataframe tbody tr th {\n",
       "        vertical-align: top;\n",
       "    }\n",
       "\n",
       "    .dataframe thead th {\n",
       "        text-align: right;\n",
       "    }\n",
       "</style>\n",
       "<table border=\"1\" class=\"dataframe\">\n",
       "  <thead>\n",
       "    <tr style=\"text-align: right;\">\n",
       "      <th></th>\n",
       "      <th>Unnamed: 0</th>\n",
       "      <th>Sentence</th>\n",
       "      <th>Label</th>\n",
       "    </tr>\n",
       "  </thead>\n",
       "  <tbody>\n",
       "    <tr>\n",
       "      <th>5065</th>\n",
       "      <td>5065</td>\n",
       "      <td>&lt;b draggable=\"true\" ondrag=\"alert(1)\"&gt;test&lt;/b&gt;</td>\n",
       "      <td>1</td>\n",
       "    </tr>\n",
       "    <tr>\n",
       "      <th>12323</th>\n",
       "      <td>12323</td>\n",
       "      <td>&lt;div draggable=\"true\" contenteditable&gt;drag me&lt;...</td>\n",
       "      <td>1</td>\n",
       "    </tr>\n",
       "    <tr>\n",
       "      <th>11163</th>\n",
       "      <td>11163</td>\n",
       "      <td>\\t &lt;div style=\"padding:0em 0.25em\"&gt;</td>\n",
       "      <td>0</td>\n",
       "    </tr>\n",
       "    <tr>\n",
       "      <th>712</th>\n",
       "      <td>712</td>\n",
       "      <td>&lt;td onmouseover=\"alert(1)\"&gt;test&lt;/td&gt;</td>\n",
       "      <td>1</td>\n",
       "    </tr>\n",
       "    <tr>\n",
       "      <th>12947</th>\n",
       "      <td>12947</td>\n",
       "      <td>&lt;th onmouseup=\"alert(1)\"&gt;test&lt;/th&gt;</td>\n",
       "      <td>1</td>\n",
       "    </tr>\n",
       "  </tbody>\n",
       "</table>\n",
       "</div>"
      ]
     },
     "execution_count": 8,
     "metadata": {},
     "output_type": "execute_result"
    }
   ],
   "execution_count": 8
  },
  {
   "metadata": {
    "ExecuteTime": {
     "end_time": "2025-09-07T23:10:54.605507Z",
     "start_time": "2025-09-07T23:10:54.582730Z"
    }
   },
   "cell_type": "code",
   "source": "df_shengqin_ab2.sample(5)",
   "id": "11c382bc5cc0be09",
   "outputs": [
    {
     "data": {
      "text/plain": [
       "                                                 Payload  Label text_label  \\\n",
       "29116                                    aaaaaaa 'or 1=1      1       SQLi   \n",
       "12712  Ø£Ø¨Ù„: Â«Ø¬Ù†ÙˆØ¨ Ø¹Ø¨Ø¯Ø§Ù„Ù„Ù‡ Ø§Ù„Ù…Ø¨Ø§Ø±...      0     normal   \n",
       "20812  p6,$mbt@lk+w[s`;j{\\-rn:+c\\z96#$/2+4di4w-p@h$`c...      1       SQLi   \n",
       "42322  <style>@keyframes x{}</style><isindex style=\"a...      2        XSS   \n",
       "11707  ã¨ã¦ã‚‚ã‚ˆã„ã®ã§ã™ã‹ã€ãªã«ã›è‡­ã„ã...      0     normal   \n",
       "\n",
       "          ID  \n",
       "29116  29117  \n",
       "12712  12713  \n",
       "20812  20813  \n",
       "42322  42323  \n",
       "11707  11708  "
      ],
      "text/html": [
       "<div>\n",
       "<style scoped>\n",
       "    .dataframe tbody tr th:only-of-type {\n",
       "        vertical-align: middle;\n",
       "    }\n",
       "\n",
       "    .dataframe tbody tr th {\n",
       "        vertical-align: top;\n",
       "    }\n",
       "\n",
       "    .dataframe thead th {\n",
       "        text-align: right;\n",
       "    }\n",
       "</style>\n",
       "<table border=\"1\" class=\"dataframe\">\n",
       "  <thead>\n",
       "    <tr style=\"text-align: right;\">\n",
       "      <th></th>\n",
       "      <th>Payload</th>\n",
       "      <th>Label</th>\n",
       "      <th>text_label</th>\n",
       "      <th>ID</th>\n",
       "    </tr>\n",
       "  </thead>\n",
       "  <tbody>\n",
       "    <tr>\n",
       "      <th>29116</th>\n",
       "      <td>aaaaaaa 'or 1=1</td>\n",
       "      <td>1</td>\n",
       "      <td>SQLi</td>\n",
       "      <td>29117</td>\n",
       "    </tr>\n",
       "    <tr>\n",
       "      <th>12712</th>\n",
       "      <td>Ø£Ø¨Ù„: Â«Ø¬Ù†ÙˆØ¨ Ø¹Ø¨Ø¯Ø§Ù„Ù„Ù‡ Ø§Ù„Ù…Ø¨Ø§Ø±...</td>\n",
       "      <td>0</td>\n",
       "      <td>normal</td>\n",
       "      <td>12713</td>\n",
       "    </tr>\n",
       "    <tr>\n",
       "      <th>20812</th>\n",
       "      <td>p6,$mbt@lk+w[s`;j{\\-rn:+c\\z96#$/2+4di4w-p@h$`c...</td>\n",
       "      <td>1</td>\n",
       "      <td>SQLi</td>\n",
       "      <td>20813</td>\n",
       "    </tr>\n",
       "    <tr>\n",
       "      <th>42322</th>\n",
       "      <td>&lt;style&gt;@keyframes x{}&lt;/style&gt;&lt;isindex style=\"a...</td>\n",
       "      <td>2</td>\n",
       "      <td>XSS</td>\n",
       "      <td>42323</td>\n",
       "    </tr>\n",
       "    <tr>\n",
       "      <th>11707</th>\n",
       "      <td>ã¨ã¦ã‚‚ã‚ˆã„ã®ã§ã™ã‹ã€ãªã«ã›è‡­ã„ã...</td>\n",
       "      <td>0</td>\n",
       "      <td>normal</td>\n",
       "      <td>11708</td>\n",
       "    </tr>\n",
       "  </tbody>\n",
       "</table>\n",
       "</div>"
      ]
     },
     "execution_count": 9,
     "metadata": {},
     "output_type": "execute_result"
    }
   ],
   "execution_count": 9
  },
  {
   "metadata": {
    "ExecuteTime": {
     "end_time": "2025-09-07T23:10:55.873410Z",
     "start_time": "2025-09-07T23:10:55.857928Z"
    }
   },
   "cell_type": "code",
   "source": "df_shengqin_web.sample(5)",
   "id": "25361630288795ee",
   "outputs": [
    {
     "data": {
      "text/plain": [
       "                                                 Payload  Label text_label  \\\n",
       "11098  //some user agreement and sending to server lo...      1        XSS   \n",
       "1295                                              select      0     normal   \n",
       "15663                          Select your dream career.      0     normal   \n",
       "4003   <track draggable=\"true\" ondragenter=\"alert(1)\"...      1        XSS   \n",
       "13990   -6118 union all select 5906,5906,5906,5906,5906#      2       SQLi   \n",
       "\n",
       "          ID  \n",
       "11098    315  \n",
       "1295   26634  \n",
       "15663  24326  \n",
       "4003    6997  \n",
       "13990  19204  "
      ],
      "text/html": [
       "<div>\n",
       "<style scoped>\n",
       "    .dataframe tbody tr th:only-of-type {\n",
       "        vertical-align: middle;\n",
       "    }\n",
       "\n",
       "    .dataframe tbody tr th {\n",
       "        vertical-align: top;\n",
       "    }\n",
       "\n",
       "    .dataframe thead th {\n",
       "        text-align: right;\n",
       "    }\n",
       "</style>\n",
       "<table border=\"1\" class=\"dataframe\">\n",
       "  <thead>\n",
       "    <tr style=\"text-align: right;\">\n",
       "      <th></th>\n",
       "      <th>Payload</th>\n",
       "      <th>Label</th>\n",
       "      <th>text_label</th>\n",
       "      <th>ID</th>\n",
       "    </tr>\n",
       "  </thead>\n",
       "  <tbody>\n",
       "    <tr>\n",
       "      <th>11098</th>\n",
       "      <td>//some user agreement and sending to server lo...</td>\n",
       "      <td>1</td>\n",
       "      <td>XSS</td>\n",
       "      <td>315</td>\n",
       "    </tr>\n",
       "    <tr>\n",
       "      <th>1295</th>\n",
       "      <td>select</td>\n",
       "      <td>0</td>\n",
       "      <td>normal</td>\n",
       "      <td>26634</td>\n",
       "    </tr>\n",
       "    <tr>\n",
       "      <th>15663</th>\n",
       "      <td>Select your dream career.</td>\n",
       "      <td>0</td>\n",
       "      <td>normal</td>\n",
       "      <td>24326</td>\n",
       "    </tr>\n",
       "    <tr>\n",
       "      <th>4003</th>\n",
       "      <td>&lt;track draggable=\"true\" ondragenter=\"alert(1)\"...</td>\n",
       "      <td>1</td>\n",
       "      <td>XSS</td>\n",
       "      <td>6997</td>\n",
       "    </tr>\n",
       "    <tr>\n",
       "      <th>13990</th>\n",
       "      <td>-6118 union all select 5906,5906,5906,5906,5906#</td>\n",
       "      <td>2</td>\n",
       "      <td>SQLi</td>\n",
       "      <td>19204</td>\n",
       "    </tr>\n",
       "  </tbody>\n",
       "</table>\n",
       "</div>"
      ]
     },
     "execution_count": 10,
     "metadata": {},
     "output_type": "execute_result"
    }
   ],
   "execution_count": 10
  },
  {
   "metadata": {
    "ExecuteTime": {
     "end_time": "2025-09-07T23:22:22.406320Z",
     "start_time": "2025-09-07T23:22:22.357699Z"
    }
   },
   "cell_type": "code",
   "source": [
    "# Merge Shengqin sources\n",
    "df_shengqin_merged = pd.concat([df_shengqin_ab2, df_shengqin_web], ignore_index=True)\n",
    "df_shengqin_merged.rename(columns={\"text_label\": \"attack_label\", \"Payload\": 'payload', \"Label\": 'label'}, inplace=True)\n",
    "df_shengqin_merged.drop(columns=[\"ID\"], inplace=True, errors=\"ignore\")\n",
    "df_shengqin_merged[\"type\"] = df_shengqin_merged[\"attack_label\"].map(\n",
    "    {'SQLi': \"Malicious\", \"XSS\": \"Malicious\", \"normal\": \"Benign\"})\n",
    "df_shengqin_merged.sample(5)"
   ],
   "id": "16bb834e09000a3c",
   "outputs": [
    {
     "data": {
      "text/plain": [
       "                                                 payload  label attack_label  \\\n",
       "37802  9999999999999999999999999999999999999999999999...      1         SQLi   \n",
       "47977                                    Hi are you live      0       normal   \n",
       "39816                                         CRINGEEEEE      0       normal   \n",
       "55552  ORDER BY 1,SLEEP(5),BENCHMARK(1000000,MD5('A')...      2         SQLi   \n",
       "31678  oooooooooooooooooooooooooooooooooooooooooooooo...      1         SQLi   \n",
       "\n",
       "            type  \n",
       "37802  Malicious  \n",
       "47977     Benign  \n",
       "39816     Benign  \n",
       "55552  Malicious  \n",
       "31678  Malicious  "
      ],
      "text/html": [
       "<div>\n",
       "<style scoped>\n",
       "    .dataframe tbody tr th:only-of-type {\n",
       "        vertical-align: middle;\n",
       "    }\n",
       "\n",
       "    .dataframe tbody tr th {\n",
       "        vertical-align: top;\n",
       "    }\n",
       "\n",
       "    .dataframe thead th {\n",
       "        text-align: right;\n",
       "    }\n",
       "</style>\n",
       "<table border=\"1\" class=\"dataframe\">\n",
       "  <thead>\n",
       "    <tr style=\"text-align: right;\">\n",
       "      <th></th>\n",
       "      <th>payload</th>\n",
       "      <th>label</th>\n",
       "      <th>attack_label</th>\n",
       "      <th>type</th>\n",
       "    </tr>\n",
       "  </thead>\n",
       "  <tbody>\n",
       "    <tr>\n",
       "      <th>37802</th>\n",
       "      <td>9999999999999999999999999999999999999999999999...</td>\n",
       "      <td>1</td>\n",
       "      <td>SQLi</td>\n",
       "      <td>Malicious</td>\n",
       "    </tr>\n",
       "    <tr>\n",
       "      <th>47977</th>\n",
       "      <td>Hi are you live</td>\n",
       "      <td>0</td>\n",
       "      <td>normal</td>\n",
       "      <td>Benign</td>\n",
       "    </tr>\n",
       "    <tr>\n",
       "      <th>39816</th>\n",
       "      <td>CRINGEEEEE</td>\n",
       "      <td>0</td>\n",
       "      <td>normal</td>\n",
       "      <td>Benign</td>\n",
       "    </tr>\n",
       "    <tr>\n",
       "      <th>55552</th>\n",
       "      <td>ORDER BY 1,SLEEP(5),BENCHMARK(1000000,MD5('A')...</td>\n",
       "      <td>2</td>\n",
       "      <td>SQLi</td>\n",
       "      <td>Malicious</td>\n",
       "    </tr>\n",
       "    <tr>\n",
       "      <th>31678</th>\n",
       "      <td>oooooooooooooooooooooooooooooooooooooooooooooo...</td>\n",
       "      <td>1</td>\n",
       "      <td>SQLi</td>\n",
       "      <td>Malicious</td>\n",
       "    </tr>\n",
       "  </tbody>\n",
       "</table>\n",
       "</div>"
      ]
     },
     "execution_count": 34,
     "metadata": {},
     "output_type": "execute_result"
    }
   ],
   "execution_count": 34
  },
  {
   "metadata": {
    "ExecuteTime": {
     "end_time": "2025-09-07T23:23:01.371014Z",
     "start_time": "2025-09-07T23:23:01.299516Z"
    }
   },
   "cell_type": "code",
   "source": [
    "# Adapt Kaggle datasource\n",
    "df_xss_kaggle[\"type\"] = df_xss_kaggle['Label'].map({0: \"Benign\", 1: \"Malicious\"})\n",
    "df_xss_kaggle[\"attack_label\"] = df_xss_kaggle['Label'].map({0: \"normal\", 1: 'XSS'})\n",
    "df_xss_kaggle.drop([\"Unnamed: 0\"], axis=1, inplace=True, errors=\"ignore\")\n",
    "df_xss_kaggle.rename(columns={\"Sentence\": \"payload\", \"Label\": \"label\"}, inplace=True)"
   ],
   "id": "a96cac00e011be4e",
   "outputs": [],
   "execution_count": 36
  },
  {
   "metadata": {
    "ExecuteTime": {
     "end_time": "2025-09-07T23:20:37.861990Z",
     "start_time": "2025-09-07T23:20:37.839987Z"
    }
   },
   "cell_type": "code",
   "source": "df_xss_kaggle.sample(5)",
   "id": "e18e550a5db51a",
   "outputs": [
    {
     "data": {
      "text/plain": [
       "                                                 payload  label       type  \\\n",
       "7280   <div draggable=\"true\" contenteditable>drag me<...      1  Malicious   \n",
       "12681                                               <ul>      0     Benign   \n",
       "11073  <div draggable=\"true\" contenteditable>drag me<...      1  Malicious   \n",
       "9845   <p draggable=\"true\" ondragend=\"alert(1)\">test</p>      1  Malicious   \n",
       "10291  <style>:target {color:red;}</style><param id=x...      1  Malicious   \n",
       "\n",
       "      attack_label  \n",
       "7280           XSS  \n",
       "12681       normal  \n",
       "11073          XSS  \n",
       "9845           XSS  \n",
       "10291          XSS  "
      ],
      "text/html": [
       "<div>\n",
       "<style scoped>\n",
       "    .dataframe tbody tr th:only-of-type {\n",
       "        vertical-align: middle;\n",
       "    }\n",
       "\n",
       "    .dataframe tbody tr th {\n",
       "        vertical-align: top;\n",
       "    }\n",
       "\n",
       "    .dataframe thead th {\n",
       "        text-align: right;\n",
       "    }\n",
       "</style>\n",
       "<table border=\"1\" class=\"dataframe\">\n",
       "  <thead>\n",
       "    <tr style=\"text-align: right;\">\n",
       "      <th></th>\n",
       "      <th>payload</th>\n",
       "      <th>label</th>\n",
       "      <th>type</th>\n",
       "      <th>attack_label</th>\n",
       "    </tr>\n",
       "  </thead>\n",
       "  <tbody>\n",
       "    <tr>\n",
       "      <th>7280</th>\n",
       "      <td>&lt;div draggable=\"true\" contenteditable&gt;drag me&lt;...</td>\n",
       "      <td>1</td>\n",
       "      <td>Malicious</td>\n",
       "      <td>XSS</td>\n",
       "    </tr>\n",
       "    <tr>\n",
       "      <th>12681</th>\n",
       "      <td>&lt;ul&gt;</td>\n",
       "      <td>0</td>\n",
       "      <td>Benign</td>\n",
       "      <td>normal</td>\n",
       "    </tr>\n",
       "    <tr>\n",
       "      <th>11073</th>\n",
       "      <td>&lt;div draggable=\"true\" contenteditable&gt;drag me&lt;...</td>\n",
       "      <td>1</td>\n",
       "      <td>Malicious</td>\n",
       "      <td>XSS</td>\n",
       "    </tr>\n",
       "    <tr>\n",
       "      <th>9845</th>\n",
       "      <td>&lt;p draggable=\"true\" ondragend=\"alert(1)\"&gt;test&lt;/p&gt;</td>\n",
       "      <td>1</td>\n",
       "      <td>Malicious</td>\n",
       "      <td>XSS</td>\n",
       "    </tr>\n",
       "    <tr>\n",
       "      <th>10291</th>\n",
       "      <td>&lt;style&gt;:target {color:red;}&lt;/style&gt;&lt;param id=x...</td>\n",
       "      <td>1</td>\n",
       "      <td>Malicious</td>\n",
       "      <td>XSS</td>\n",
       "    </tr>\n",
       "  </tbody>\n",
       "</table>\n",
       "</div>"
      ]
     },
     "execution_count": 31,
     "metadata": {},
     "output_type": "execute_result"
    }
   ],
   "execution_count": 31
  },
  {
   "metadata": {
    "ExecuteTime": {
     "end_time": "2025-09-08T01:08:28.449484Z",
     "start_time": "2025-09-08T01:08:28.430638Z"
    }
   },
   "cell_type": "code",
   "source": "df_fmereani.sample(5)",
   "id": "93ea5703f2847371",
   "outputs": [
    {
     "data": {
      "text/plain": [
       "                                                Payloads      Class\n",
       "21685                      fabulous garden suite (lower)     Benign\n",
       "3276   http://www.kaspersky-protects.com/buy/features...  Malicious\n",
       "16198  http://www.wikihow.com/create-a-bat-extension-...     Benign\n",
       "12110  http://localhost:8080/tienda1/publico/registro...     Benign\n",
       "26983  function venuedetailassistant(venue,u,p,i,fui,...     Benign"
      ],
      "text/html": [
       "<div>\n",
       "<style scoped>\n",
       "    .dataframe tbody tr th:only-of-type {\n",
       "        vertical-align: middle;\n",
       "    }\n",
       "\n",
       "    .dataframe tbody tr th {\n",
       "        vertical-align: top;\n",
       "    }\n",
       "\n",
       "    .dataframe thead th {\n",
       "        text-align: right;\n",
       "    }\n",
       "</style>\n",
       "<table border=\"1\" class=\"dataframe\">\n",
       "  <thead>\n",
       "    <tr style=\"text-align: right;\">\n",
       "      <th></th>\n",
       "      <th>Payloads</th>\n",
       "      <th>Class</th>\n",
       "    </tr>\n",
       "  </thead>\n",
       "  <tbody>\n",
       "    <tr>\n",
       "      <th>21685</th>\n",
       "      <td>fabulous garden suite (lower)</td>\n",
       "      <td>Benign</td>\n",
       "    </tr>\n",
       "    <tr>\n",
       "      <th>3276</th>\n",
       "      <td>http://www.kaspersky-protects.com/buy/features...</td>\n",
       "      <td>Malicious</td>\n",
       "    </tr>\n",
       "    <tr>\n",
       "      <th>16198</th>\n",
       "      <td>http://www.wikihow.com/create-a-bat-extension-...</td>\n",
       "      <td>Benign</td>\n",
       "    </tr>\n",
       "    <tr>\n",
       "      <th>12110</th>\n",
       "      <td>http://localhost:8080/tienda1/publico/registro...</td>\n",
       "      <td>Benign</td>\n",
       "    </tr>\n",
       "    <tr>\n",
       "      <th>26983</th>\n",
       "      <td>function venuedetailassistant(venue,u,p,i,fui,...</td>\n",
       "      <td>Benign</td>\n",
       "    </tr>\n",
       "  </tbody>\n",
       "</table>\n",
       "</div>"
      ]
     },
     "execution_count": 109,
     "metadata": {},
     "output_type": "execute_result"
    }
   ],
   "execution_count": 109
  },
  {
   "metadata": {
    "ExecuteTime": {
     "end_time": "2025-09-08T01:42:16.639160Z",
     "start_time": "2025-09-08T01:42:16.520023Z"
    }
   },
   "cell_type": "code",
   "source": [
    "df_fmereani.rename(columns={\"Class\": \"type\", 'Payloads': 'unsanitized_payload'}, inplace=True)\n",
    "df_fmereani['attack_label'] = df_fmereani['type'].map({\"Benign\": \"normal\", \"Malicious\": 'XSS'})\n",
    "df_fmereani['has_url'] = df_fmereani['unsanitized_payload'].astype('string').str.match(r'(?i)^\\s*(?:https?:)?//', na=False)\n",
    "df_fmereani.loc[df_fmereani[\"type\"].eq(\"Malicious\") & df_fmereani[\"has_url\"].eq(False)].info()\n"
   ],
   "id": "33d76b947cf9754e",
   "outputs": [
    {
     "name": "stdout",
     "output_type": "stream",
     "text": [
      "<class 'pandas.core.frame.DataFrame'>\n",
      "Index: 899 entries, 24128 to 43216\n",
      "Data columns (total 4 columns):\n",
      " #   Column               Non-Null Count  Dtype  \n",
      "---  ------               --------------  -----  \n",
      " 0   unsanitized_payload  899 non-null    object \n",
      " 1   type                 899 non-null    object \n",
      " 2   attack_label         899 non-null    object \n",
      " 3   has_url              899 non-null    boolean\n",
      "dtypes: boolean(1), object(3)\n",
      "memory usage: 29.8+ KB\n"
     ]
    }
   ],
   "execution_count": 125
  },
  {
   "metadata": {
    "ExecuteTime": {
     "end_time": "2025-09-08T01:15:10.279934Z",
     "start_time": "2025-09-08T01:15:09.064362Z"
    }
   },
   "cell_type": "code",
   "source": [
    "URL_RE = re.compile(r'(?i)\\b(?:https?:)?//[^\\s\"\\'<>()]+')  # http(s):// o //...\n",
    "\n",
    "mal = df_fmereani[\"type\"].eq(\"Malicious\")\n",
    "s   = df_fmereani['unsanitized_payload'].astype(\"string\")\n",
    "\n",
    "has_url = s.str.contains(URL_RE, na=False)\n",
    "\n",
    "con_url = (mal & has_url).sum()\n",
    "sin_url = (mal & ~has_url).sum()\n",
    "\n",
    "print({\"Malicious con URL\": con_url, \"Malicious sin URL\": sin_url})"
   ],
   "id": "ef93ab6fae6deacf",
   "outputs": [
    {
     "name": "stdout",
     "output_type": "stream",
     "text": [
      "{'Malicious con URL': np.int64(14363), 'Malicious sin URL': np.int64(786)}\n"
     ]
    }
   ],
   "execution_count": 116
  },
  {
   "metadata": {
    "ExecuteTime": {
     "end_time": "2025-09-08T01:07:49.488284Z",
     "start_time": "2025-09-08T01:07:49.241675Z"
    }
   },
   "cell_type": "code",
   "source": [
    "PATTERN_REMOVE_DOMAIN = re.compile(r'^(?:[a-z][a-z0-9+.\\-]*:)?//[^/]*', re.I)\n",
    "\n",
    "def path_and_query_regex(u: str) -> str:\n",
    "    if not isinstance(u, str) or not u:\n",
    "        return \"\"\n",
    "    s = PATTERN_REMOVE_DOMAIN.sub(\"\", u.strip())\n",
    "    if s == \"\":  # caso \"http://dominio\" sin path\n",
    "        return \"/\"\n",
    "    # garantiza que empiece con \"/\"\n",
    "    return s if s.startswith(\"/\") else \"/\" + s\n",
    "\n",
    "# Path query\n",
    "df_fmereani[\"removed_urls\"] = df_fmereani[\"unsanitized_payload\"].apply(path_and_query_regex)\n",
    "df_fmereani.sample(10)"
   ],
   "id": "af066e76e43d5e37",
   "outputs": [
    {
     "data": {
      "text/plain": [
       "                                     unsanitized_payload       type  \\\n",
       "37382  great hotel my husband, our 6-year-old daughte...     Benign   \n",
       "3738   http://www.aowassoc.com/gallery/login.asp?fold...  Malicious   \n",
       "25385  <script>eval(function(p,a,c,k,e,d){e=function(...  Malicious   \n",
       "6979   http://tools.neb.com/inbase/intein.php?name=go...  Malicious   \n",
       "17762  http://www.wikihow.com/assemble-a-concrete-gar...     Benign   \n",
       "7596   http://search.gzkj.gov.cn:8082/search.jsp?dir=...  Malicious   \n",
       "7327   http://openssi.org/cgi-bin/view?page=%22%3e%3c...  Malicious   \n",
       "36507  great location, great history we enjoyed our s...     Benign   \n",
       "26466  curiosity.controller(\\'modulemanagerctrl\\', fu...     Benign   \n",
       "10272  http://localhost:8080/tienda1/publico/pagar.js...     Benign   \n",
       "\n",
       "      attack_label                                       removed_urls  \\\n",
       "37382       normal  /great hotel my husband, our 6-year-old daught...   \n",
       "3738           XSS  /gallery/login.asp?folder=&amp;n=&quot;&gt;&lt...   \n",
       "25385          XSS  /<script>eval(function(p,a,c,k,e,d){e=function...   \n",
       "6979           XSS  /inbase/intein.php?name=gob+dnae}%3c/style%3e%...   \n",
       "17762       normal  /assemble-a-concrete-garage&t=1396563418956&n=...   \n",
       "7596           XSS  /search.jsp?dir=scut&amp;q=scut&amp;hitsperpag...   \n",
       "7327           XSS  /cgi-bin/view?page=%22%3e%3c/title%3e%3cscript...   \n",
       "36507       normal  /great location, great history we enjoyed our ...   \n",
       "26466       normal  /curiosity.controller(\\'modulemanagerctrl\\', f...   \n",
       "10272       normal  /tienda1/publico/pagar.jsp?modo=insertar&preci...   \n",
       "\n",
       "                                        possible_payload  \n",
       "37382                                                     \n",
       "3738                                                      \n",
       "25385  c%a)>35?string.fromcharcode(c 29):c.tostring(3...  \n",
       "6979   gob dnae}</style><script>a=eval;b=alert;a(b(/x...  \n",
       "17762                                                     \n",
       "7596                                                scut  \n",
       "7327   \"></title><script>alert(1337)</script>><mar<br...  \n",
       "36507                                                     \n",
       "26466                                                     \n",
       "10272                                           insertar  "
      ],
      "text/html": [
       "<div>\n",
       "<style scoped>\n",
       "    .dataframe tbody tr th:only-of-type {\n",
       "        vertical-align: middle;\n",
       "    }\n",
       "\n",
       "    .dataframe tbody tr th {\n",
       "        vertical-align: top;\n",
       "    }\n",
       "\n",
       "    .dataframe thead th {\n",
       "        text-align: right;\n",
       "    }\n",
       "</style>\n",
       "<table border=\"1\" class=\"dataframe\">\n",
       "  <thead>\n",
       "    <tr style=\"text-align: right;\">\n",
       "      <th></th>\n",
       "      <th>unsanitized_payload</th>\n",
       "      <th>type</th>\n",
       "      <th>attack_label</th>\n",
       "      <th>removed_urls</th>\n",
       "      <th>possible_payload</th>\n",
       "    </tr>\n",
       "  </thead>\n",
       "  <tbody>\n",
       "    <tr>\n",
       "      <th>37382</th>\n",
       "      <td>great hotel my husband, our 6-year-old daughte...</td>\n",
       "      <td>Benign</td>\n",
       "      <td>normal</td>\n",
       "      <td>/great hotel my husband, our 6-year-old daught...</td>\n",
       "      <td></td>\n",
       "    </tr>\n",
       "    <tr>\n",
       "      <th>3738</th>\n",
       "      <td>http://www.aowassoc.com/gallery/login.asp?fold...</td>\n",
       "      <td>Malicious</td>\n",
       "      <td>XSS</td>\n",
       "      <td>/gallery/login.asp?folder=&amp;amp;n=&amp;quot;&amp;gt;&amp;lt...</td>\n",
       "      <td></td>\n",
       "    </tr>\n",
       "    <tr>\n",
       "      <th>25385</th>\n",
       "      <td>&lt;script&gt;eval(function(p,a,c,k,e,d){e=function(...</td>\n",
       "      <td>Malicious</td>\n",
       "      <td>XSS</td>\n",
       "      <td>/&lt;script&gt;eval(function(p,a,c,k,e,d){e=function...</td>\n",
       "      <td>c%a)&gt;35?string.fromcharcode(c 29):c.tostring(3...</td>\n",
       "    </tr>\n",
       "    <tr>\n",
       "      <th>6979</th>\n",
       "      <td>http://tools.neb.com/inbase/intein.php?name=go...</td>\n",
       "      <td>Malicious</td>\n",
       "      <td>XSS</td>\n",
       "      <td>/inbase/intein.php?name=gob+dnae}%3c/style%3e%...</td>\n",
       "      <td>gob dnae}&lt;/style&gt;&lt;script&gt;a=eval;b=alert;a(b(/x...</td>\n",
       "    </tr>\n",
       "    <tr>\n",
       "      <th>17762</th>\n",
       "      <td>http://www.wikihow.com/assemble-a-concrete-gar...</td>\n",
       "      <td>Benign</td>\n",
       "      <td>normal</td>\n",
       "      <td>/assemble-a-concrete-garage&amp;t=1396563418956&amp;n=...</td>\n",
       "      <td></td>\n",
       "    </tr>\n",
       "    <tr>\n",
       "      <th>7596</th>\n",
       "      <td>http://search.gzkj.gov.cn:8082/search.jsp?dir=...</td>\n",
       "      <td>Malicious</td>\n",
       "      <td>XSS</td>\n",
       "      <td>/search.jsp?dir=scut&amp;amp;q=scut&amp;amp;hitsperpag...</td>\n",
       "      <td>scut</td>\n",
       "    </tr>\n",
       "    <tr>\n",
       "      <th>7327</th>\n",
       "      <td>http://openssi.org/cgi-bin/view?page=%22%3e%3c...</td>\n",
       "      <td>Malicious</td>\n",
       "      <td>XSS</td>\n",
       "      <td>/cgi-bin/view?page=%22%3e%3c/title%3e%3cscript...</td>\n",
       "      <td>\"&gt;&lt;/title&gt;&lt;script&gt;alert(1337)&lt;/script&gt;&gt;&lt;mar&lt;br...</td>\n",
       "    </tr>\n",
       "    <tr>\n",
       "      <th>36507</th>\n",
       "      <td>great location, great history we enjoyed our s...</td>\n",
       "      <td>Benign</td>\n",
       "      <td>normal</td>\n",
       "      <td>/great location, great history we enjoyed our ...</td>\n",
       "      <td></td>\n",
       "    </tr>\n",
       "    <tr>\n",
       "      <th>26466</th>\n",
       "      <td>curiosity.controller(\\'modulemanagerctrl\\', fu...</td>\n",
       "      <td>Benign</td>\n",
       "      <td>normal</td>\n",
       "      <td>/curiosity.controller(\\'modulemanagerctrl\\', f...</td>\n",
       "      <td></td>\n",
       "    </tr>\n",
       "    <tr>\n",
       "      <th>10272</th>\n",
       "      <td>http://localhost:8080/tienda1/publico/pagar.js...</td>\n",
       "      <td>Benign</td>\n",
       "      <td>normal</td>\n",
       "      <td>/tienda1/publico/pagar.jsp?modo=insertar&amp;preci...</td>\n",
       "      <td>insertar</td>\n",
       "    </tr>\n",
       "  </tbody>\n",
       "</table>\n",
       "</div>"
      ]
     },
     "execution_count": 107,
     "metadata": {},
     "output_type": "execute_result"
    }
   ],
   "execution_count": 107
  },
  {
   "metadata": {
    "ExecuteTime": {
     "end_time": "2025-09-08T01:04:44.137299Z",
     "start_time": "2025-09-08T01:04:44.099229Z"
    }
   },
   "cell_type": "code",
   "source": [
    "def only_query(url: str) -> str:\n",
    "    if not isinstance(url, str) or not url:\n",
    "        return \"\"\n",
    "    s = PATTERN_REMOVE_DOMAIN.sub(\"\", url.strip())\n",
    "    return s.split(\"?\", 1)[1] if \"?\" in s else \"\"\n",
    "\n",
    "\n",
    "AVAILABLE_REGEXES = {\n",
    "    'XSS_VALUE_SPECIAL_CHARS': re.compile(r'^(\"|\">|<|/><|<>\\\"\\'`\\(\\){}\\[\\];\\\\)', re.IGNORECASE),\n",
    "    'XSS_SCRIPT_RELATED': re.compile(r'(?is)\\<\\\\s*script\\\\b[^>]*>.*?<\\\\s*/\\\\s*script\\\\s*>', re.IGNORECASE),\n",
    "    'XSS_OPENING_TAGS': re.compile(r'(?i)<\\\\s*(?:script|iframe|object|embed|svg|math|link|meta|img|video|audio)\\b',\n",
    "                                   re.IGNORECASE),\n",
    "    'XSS_DOM_EVENTS': re.compile(r'(?i)\\bon[a-z]+\\\\s*(?:=|%3[dD])', re.IGNORECASE),\n",
    "    'XSS_CODIFIED_TAGS': re.compile(r'(?i)(?:%3[cC]|%3[eE]|#x?0*3[cC];|#x?0*3[eE];|#0*60;|#0*62;|lt;|gt;)',\n",
    "                                    re.IGNORECASE),\n",
    "    'XSS_SOURCE_ATTRS': re.compile(\n",
    "        r'(?i)\\b(?:src|href|xlink:href|formaction|srcdoc)\\s*=\\s*[\"\\']?\\s*(?:javascript|vbscript|data)\\s*:',\n",
    "        re.IGNORECASE),\n",
    "    'XSS_IMG_RELATED': re.compile(r'(?i)<\\s*img\\b[^>]*\\bon(?:error|load)\\s*(?:=|%3[dD])', re.IGNORECASE),\n",
    "    'XSS_INLINE_CSS': re.compile(\n",
    "        r'(?i)\\bstyle\\s*=\\s*[\"\\'][^\"\\']*(?:expression\\s*\\(|url\\s*\\(\\s*[\\'\"]?\\s*(?:javascript|data)\\s*:)[^\"\\']*[\"\\']',\n",
    "        re.IGNORECASE),\n",
    "    'XSS_IMPORT_CSS': re.compile(r'(?i)(?:@import\\b|import\\s*\\()', re.IGNORECASE),\n",
    "    'XSS_POTENTIAL_INJECTION_TAGS': re.compile(r'(?i)<\\s*(?:textarea|template)\\b', re.IGNORECASE)\n",
    "}\n",
    "\n",
    "\n",
    "# 3) De una URL -> dict de {param: valor_decodificado} solo si el valor \"huele\" a XSS\n",
    "def suspicious_params_from_url(url: str) -> dict[str, str]:\n",
    "    qs = only_query(url)\n",
    "    if not qs:\n",
    "        return {}\n",
    "    parsed_params = {}\n",
    "    for k, v in parse_qsl(qs, keep_blank_values=True):\n",
    "        val = unquote_plus(v)\n",
    "        parsed_params[k] = val\n",
    "\n",
    "    key_hits = {}\n",
    "    for k, v in parsed_params.items():\n",
    "        for rgx_key, rgx in AVAILABLE_REGEXES.items():\n",
    "            if rgx.match(v) or rgx.match(k):\n",
    "                if key_hits.get(f\"url_hits\") is None:\n",
    "                    key_hits[f\"{k}_hits\"] = 1\n",
    "                else:\n",
    "                    key_hits[f\"{k}_hits\"] += 1\n",
    "    print(\"KeyHitsAndParams: \", key_hits, parsed_params)\n",
    "    # print(\"SuspectParams: \", suspected_params)\n",
    "    return {}\n",
    "\n",
    "\n",
    "malicious_urls = df_fmereani[\"unsanitized_payload\"].loc[df_fmereani[\"type\"].eq(\"Malicious\")].head(10)\n",
    "for val in malicious_urls:\n",
    "    suspicious_params_from_url(val)"
   ],
   "id": "fb847029d4d061d3",
   "outputs": [
    {
     "name": "stdout",
     "output_type": "stream",
     "text": [
      "KeyHitsAndParams:  {'keyword_hits': 1, 'keyword': '\"><script>alert(document.cookie);<<br>/script>'}\n",
      "KeyHitsAndParams:  {'q_hits': 1, 'q': '\"><script>alert(document.<br>cookie);</script>', 'amp;btng': 'search', 'amp;ie': '', 'amp;site': '', 'amp;output': 'xml', 'amp;client': '', 'amp;lr': '', 'amp;oe': '', 'amp;filter': '0'}\n",
      "KeyHitsAndParams:  {'action': 'missionary.info<marquee>pappy</marquee>', 'amp;missi<br>onary_id': '69'}\n",
      "KeyHitsAndParams:  {'lforenam': '\\\\\"><script>alert(docume<br>nt.cookie);</script>', 'amp;subdwell': '', 'amp;dwelling': '', 'amp;streetnm': '', 'amp;locality': '', 'amp;hometown': '', 'amp;postcode': '', 'amp;datebrth': '', 'amp;learn<br>gen': '', 'amp;ethnicor': '', 'amp;tel_numb': '', 'amp;tel_mob': '', 'amp;email_add': '', 'amp;email_add2': '', 'amp;agree_info': '', 'amp;username': '', 'amp;password': '', 'amp;err': 'sur'}\n",
      "KeyHitsAndParams:  {'q_hits': 1, 'q': '\"><script>alert(document.<br>cookie);</script>', 'amp;btng': 'search', 'amp;ie': '', 'amp;site': '', 'amp;output': 'xml', 'amp;client': '', 'amp;lr': '', 'amp;oe': '', 'amp;filter': '0'}\n",
      "KeyHitsAndParams:  {'ref': \"'><iframe src=http://google.com>\"}\n",
      "KeyHitsAndParams:  {'q_hits': 1, 'q': '\"><script>alert(document.co<br>okie);</script>'}\n",
      "KeyHitsAndParams:  {'ref': \"'\", 'gt;': '', 'lt;iframe src': 'http://google.com'}\n",
      "KeyHitsAndParams:  {'query': '', 'quot;': '', 'gt;': '', 'lt;script': '', 'gt;alert(document.cookie);': '', 'lt;/script': '', 'amp;bu<br>siness': 'true'}\n",
      "KeyHitsAndParams:  {'ref_hits': 1, 'ref': '\"><iframe src=http://google.com><font color=red%<br>3e'}\n"
     ]
    }
   ],
   "execution_count": 105
  },
  {
   "metadata": {
    "ExecuteTime": {
     "end_time": "2025-09-08T00:28:25.841098Z",
     "start_time": "2025-09-08T00:28:25.801487Z"
    }
   },
   "cell_type": "code",
   "source": "df_fmereani[['removed_urls', 'possible_payload']].loc[df_fmereani[\"type\"].eq(\"Malicious\")].sample(3)",
   "id": "94d1a788c8f5d333",
   "outputs": [
    {
     "data": {
      "text/plain": [
       "                                            removed_urls  \\\n",
       "4767   /webcards/tools/calendar.php?month=&quot;&gt;&...   \n",
       "28863  /cvresults.php?id='%3cscript%3ealert(/st@r-gaz...   \n",
       "1203   /index.php?page=&lt;script&gt;alert('http://xs...   \n",
       "\n",
       "                                        possible_payload  \n",
       "4767                                                      \n",
       "28863  '<script>alert(/st@r-gaz3r/)</script><marquee>...  \n",
       "1203                                                      "
      ],
      "text/html": [
       "<div>\n",
       "<style scoped>\n",
       "    .dataframe tbody tr th:only-of-type {\n",
       "        vertical-align: middle;\n",
       "    }\n",
       "\n",
       "    .dataframe tbody tr th {\n",
       "        vertical-align: top;\n",
       "    }\n",
       "\n",
       "    .dataframe thead th {\n",
       "        text-align: right;\n",
       "    }\n",
       "</style>\n",
       "<table border=\"1\" class=\"dataframe\">\n",
       "  <thead>\n",
       "    <tr style=\"text-align: right;\">\n",
       "      <th></th>\n",
       "      <th>removed_urls</th>\n",
       "      <th>possible_payload</th>\n",
       "    </tr>\n",
       "  </thead>\n",
       "  <tbody>\n",
       "    <tr>\n",
       "      <th>4767</th>\n",
       "      <td>/webcards/tools/calendar.php?month=&amp;quot;&amp;gt;&amp;...</td>\n",
       "      <td></td>\n",
       "    </tr>\n",
       "    <tr>\n",
       "      <th>28863</th>\n",
       "      <td>/cvresults.php?id='%3cscript%3ealert(/st@r-gaz...</td>\n",
       "      <td>'&lt;script&gt;alert(/st@r-gaz3r/)&lt;/script&gt;&lt;marquee&gt;...</td>\n",
       "    </tr>\n",
       "    <tr>\n",
       "      <th>1203</th>\n",
       "      <td>/index.php?page=&amp;lt;script&amp;gt;alert('http://xs...</td>\n",
       "      <td></td>\n",
       "    </tr>\n",
       "  </tbody>\n",
       "</table>\n",
       "</div>"
      ]
     },
     "execution_count": 91,
     "metadata": {},
     "output_type": "execute_result"
    }
   ],
   "execution_count": 91
  },
  {
   "metadata": {},
   "cell_type": "code",
   "outputs": [],
   "execution_count": null,
   "source": "",
   "id": "2ca8cded047ea534"
  }
 ],
 "metadata": {
  "kernelspec": {
   "name": "python3",
   "language": "python",
   "display_name": "Python 3 (ipykernel)"
  }
 },
 "nbformat": 4,
 "nbformat_minor": 5
}
